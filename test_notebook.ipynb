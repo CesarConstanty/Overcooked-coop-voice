{
 "cells": [
  {
   "cell_type": "markdown",
   "metadata": {
    "id": "ni0OwMZvvLXM"
   },
   "source": [
    "## Introduction to overcooked_ai\n",
    "\n",
    "Overcooked-AI is a benchmark environment for fully cooperative multi-agent performance, based on the wildly popular video game [Overcooked](http://www.ghosttowngames.com/overcooked/). \n",
    "\n",
    "The goal of the game is to deliver soups as fast as possible. Each soup requires placing up to 3 ingredients in a pot, waiting for the soup to cook, and then having an agent pick up the soup and delivering it. The agents should split up tasks on the fly and coordinate effectively in order to achieve high reward.\n",
    "\n",
    "You can **try out the game [here](https://humancompatibleai.github.io/overcooked-demo/)** (playing with some previously trained DRL agents). To play with your own trained agents using this interface, you can use [this repo](https://github.com/HumanCompatibleAI/overcooked-demo). To run human-AI experiments, check out [this repo](https://github.com/HumanCompatibleAI/overcooked-hAI-exp). You can find some human-human gameplay data already collected [here](https://github.com/HumanCompatibleAI/human_aware_rl/tree/master/human_aware_rl/data/human/anonymized).\n",
    "The agent evaluator is an object used to evaluate different agents.\n",
    "\n",
    "Check out [this repo](https://github.com/HumanCompatibleAI/human_aware_rl) for the DRL implementations compatible with the environment and reproducible results to our paper: *[On the Utility of Learning about Humans for Human-AI Coordination](https://arxiv.org/abs/1910.05789)* (also see our [blog post](https://bair.berkeley.edu/blog/2019/10/21/coordination/))."
   ]
  },
  {
   "cell_type": "markdown",
   "metadata": {
    "id": "7Vq1QzF6vLXO"
   },
   "source": [
    "# Setup\n",
    "Run cell below only if you did not installed overcooked_ai yet (e.g. when using this notebook in google collab) to install newest version of overcooked_ai from github repository."
   ]
  },
  {
   "cell_type": "code",
   "execution_count": 6,
   "metadata": {
    "colab": {
     "base_uri": "https://localhost:8080/",
     "height": 51
    },
    "id": "M3QU6rMDvLXV",
    "outputId": "7de3e1d8-1ea9-4b60-ec09-ee872b6200de",
    "scrolled": true
   },
   "outputs": [
    {
     "name": "stdout",
     "output_type": "stream",
     "text": [
      "pygame 2.0.1 (SDL 2.0.14, Python 3.8.8)\n",
      "Hello from the pygame community. https://www.pygame.org/contribute.html\n"
     ]
    }
   ],
   "source": [
    "# all imports used in this tutorial, run this if you want to jump to different sections and run only selected cells\n",
    "import numpy as np\n",
    "from overcooked_ai_py.mdp.actions import Action, Direction\n",
    "from overcooked_ai_py.agents.agent import Agent, AgentPair, StayAgent, GreedyAgent\n",
    "from overcooked_ai_py.agents.benchmarking import AgentEvaluator, LayoutGenerator\n",
    "from overcooked_ai_py.visualization.state_visualizer import StateVisualizer\n"
   ]
  },
  {
   "cell_type": "markdown",
   "metadata": {
    "id": "HyH7twYBvLXZ"
   },
   "source": [
    "## Agent evaluator introduction\n",
    "The easiest way to start using overcooked_ai is to use agent evaluator object that lets you to run agents on the chosen layouts."
   ]
  },
  {
   "cell_type": "code",
   "execution_count": 7,
   "metadata": {
    "id": "5Em0Rk4ZvLXa",
    "scrolled": true
   },
   "outputs": [],
   "source": [
    "from overcooked_ai_py.agents.benchmarking import AgentEvaluator, LayoutGenerator\n",
    "mdp_gen_params = {\"layout_name\": 'cramped_room'}\n",
    "mdp_fn = LayoutGenerator.mdp_gen_fn_from_dict(mdp_gen_params)\n",
    "env_params = {\"horizon\": 100}\n",
    "agent_eval = AgentEvaluator(env_params=env_params, mdp_fn=mdp_fn)"
   ]
  },
  {
   "cell_type": "markdown",
   "metadata": {
    "id": "ZP_hkyY4vLXe"
   },
   "source": [
    "To create an agent evaluator you need to supply 2 parameters: mdp_fn and env_params.\n",
    "mdp_fn is a function that returns OvercookedGridworld object that resolves interactions of agents with the environemnt. The quickest method to create valid mdp_fn is to supply dict with layout name to LayoutGenerator.mdp_gen_fn_from_dict. More on the generation of layouts later.\n",
    "env_params is a dict with additional options. The most important thing to supply here is the horizon key that indicates how many timesteps will be made in each episode."
   ]
  },
  {
   "cell_type": "markdown",
   "metadata": {
    "id": "ZaiX7V0IvLXf"
   },
   "source": [
    "The central method of the AgentEvaluator object is evaluate_agent_pair that runs 2 agents on the chosen layout. Other methods can call evaluate_agent_pair method with preexisting agents, let's run 2 of them, and compare results."
   ]
  },
  {
   "cell_type": "code",
   "execution_count": 8,
   "metadata": {
    "colab": {
     "base_uri": "https://localhost:8080/",
     "height": 258
    },
    "id": "bSuRt6zavLXg",
    "outputId": "1294e07e-1331-47c6-85a0-4e34723e62b2"
   },
   "outputs": [
    {
     "name": "stderr",
     "output_type": "stream",
     "text": [
      "  0%|          | 0/2 [00:00<?, ?it/s]/d/mleguill/Documents/git_repo/overcooked_mlg/overcooked_ai_py/mdp/actions.py:82: VisibleDeprecationWarning: Creating an ndarray from ragged nested sequences (which is a list-or-tuple of lists-or-tuples-or ndarrays with different lengths or shapes) is deprecated. If you meant to do this, you must specify 'dtype=object' when creating the ndarray\n",
      "  return np.random.choice(Action.ALL_ACTIONS, p=action_probs)\n",
      "  0%|          | 0/2 [00:00<?, ?it/s]"
     ]
    },
    {
     "name": "stdout",
     "output_type": "stream",
     "text": [
      "Computing MotionPlanner to be saved in /d/mleguill/Documents/git_repo/overcooked_mlg/overcooked_ai_py/data/planners/cramped_room_mp.pkl\n",
      "It took 0.049886465072631836 seconds to create mp\n"
     ]
    },
    {
     "name": "stderr",
     "output_type": "stream",
     "text": [
      "\n"
     ]
    },
    {
     "ename": "TypeError",
     "evalue": "'>' not supported between instances of 'NoneType' and 'int'",
     "output_type": "error",
     "traceback": [
      "\u001b[0;31m---------------------------------------------------------------------------\u001b[0m",
      "\u001b[0;31mTypeError\u001b[0m                                 Traceback (most recent call last)",
      "\u001b[0;32m<ipython-input-8-ca017b5adb7b>\u001b[0m in \u001b[0;36m<module>\u001b[0;34m\u001b[0m\n\u001b[1;32m      1\u001b[0m \u001b[0;31m# does random actions\u001b[0m\u001b[0;34m\u001b[0m\u001b[0;34m\u001b[0m\u001b[0;34m\u001b[0m\u001b[0m\n\u001b[0;32m----> 2\u001b[0;31m \u001b[0mtrajectories_random_pair\u001b[0m \u001b[0;34m=\u001b[0m \u001b[0magent_eval\u001b[0m\u001b[0;34m.\u001b[0m\u001b[0mevaluate_random_pair\u001b[0m\u001b[0;34m(\u001b[0m\u001b[0mnum_games\u001b[0m\u001b[0;34m=\u001b[0m\u001b[0;36m2\u001b[0m\u001b[0;34m)\u001b[0m\u001b[0;34m\u001b[0m\u001b[0;34m\u001b[0m\u001b[0m\n\u001b[0m\u001b[1;32m      3\u001b[0m \u001b[0mprint\u001b[0m\u001b[0;34m(\u001b[0m\u001b[0;34m\"Random pair rewards\"\u001b[0m\u001b[0;34m,\u001b[0m \u001b[0mtrajectories_random_pair\u001b[0m\u001b[0;34m[\u001b[0m\u001b[0;34m\"ep_returns\"\u001b[0m\u001b[0;34m]\u001b[0m\u001b[0;34m)\u001b[0m\u001b[0;34m\u001b[0m\u001b[0;34m\u001b[0m\u001b[0m\n\u001b[1;32m      4\u001b[0m \u001b[0;31m# Human model agent does greedy actions without much cooperation\u001b[0m\u001b[0;34m\u001b[0m\u001b[0;34m\u001b[0m\u001b[0;34m\u001b[0m\u001b[0m\n\u001b[1;32m      5\u001b[0m \u001b[0;31m# NOTE: requires layout with only one order - 3 onion soup\u001b[0m\u001b[0;34m\u001b[0m\u001b[0;34m\u001b[0m\u001b[0;34m\u001b[0m\u001b[0m\n",
      "\u001b[0;32m~/Documents/git_repo/overcooked_mlg/overcooked_ai_py/agents/benchmarking.py\u001b[0m in \u001b[0;36mevaluate_random_pair\u001b[0;34m(self, num_games, all_actions, display, native_eval)\u001b[0m\n\u001b[1;32m    114\u001b[0m     \u001b[0;32mdef\u001b[0m \u001b[0mevaluate_random_pair\u001b[0m\u001b[0;34m(\u001b[0m\u001b[0mself\u001b[0m\u001b[0;34m,\u001b[0m \u001b[0mnum_games\u001b[0m\u001b[0;34m=\u001b[0m\u001b[0;36m1\u001b[0m\u001b[0;34m,\u001b[0m \u001b[0mall_actions\u001b[0m\u001b[0;34m=\u001b[0m\u001b[0;32mTrue\u001b[0m\u001b[0;34m,\u001b[0m \u001b[0mdisplay\u001b[0m\u001b[0;34m=\u001b[0m\u001b[0;32mFalse\u001b[0m\u001b[0;34m,\u001b[0m \u001b[0mnative_eval\u001b[0m\u001b[0;34m=\u001b[0m\u001b[0;32mFalse\u001b[0m\u001b[0;34m)\u001b[0m\u001b[0;34m:\u001b[0m\u001b[0;34m\u001b[0m\u001b[0;34m\u001b[0m\u001b[0m\n\u001b[1;32m    115\u001b[0m         \u001b[0magent_pair\u001b[0m \u001b[0;34m=\u001b[0m \u001b[0mAgentPair\u001b[0m\u001b[0;34m(\u001b[0m\u001b[0mRandomAgent\u001b[0m\u001b[0;34m(\u001b[0m\u001b[0mall_actions\u001b[0m\u001b[0;34m=\u001b[0m\u001b[0mall_actions\u001b[0m\u001b[0;34m)\u001b[0m\u001b[0;34m,\u001b[0m \u001b[0mRandomAgent\u001b[0m\u001b[0;34m(\u001b[0m\u001b[0mall_actions\u001b[0m\u001b[0;34m=\u001b[0m\u001b[0mall_actions\u001b[0m\u001b[0;34m)\u001b[0m\u001b[0;34m)\u001b[0m\u001b[0;34m\u001b[0m\u001b[0;34m\u001b[0m\u001b[0m\n\u001b[0;32m--> 116\u001b[0;31m         \u001b[0;32mreturn\u001b[0m \u001b[0mself\u001b[0m\u001b[0;34m.\u001b[0m\u001b[0mevaluate_agent_pair\u001b[0m\u001b[0;34m(\u001b[0m\u001b[0magent_pair\u001b[0m\u001b[0;34m,\u001b[0m \u001b[0mnum_games\u001b[0m\u001b[0;34m=\u001b[0m\u001b[0mnum_games\u001b[0m\u001b[0;34m,\u001b[0m \u001b[0mdisplay\u001b[0m\u001b[0;34m=\u001b[0m\u001b[0mdisplay\u001b[0m\u001b[0;34m,\u001b[0m \u001b[0mnative_eval\u001b[0m\u001b[0;34m=\u001b[0m\u001b[0mnative_eval\u001b[0m\u001b[0;34m)\u001b[0m\u001b[0;34m\u001b[0m\u001b[0;34m\u001b[0m\u001b[0m\n\u001b[0m\u001b[1;32m    117\u001b[0m \u001b[0;34m\u001b[0m\u001b[0m\n\u001b[1;32m    118\u001b[0m     \u001b[0;32mdef\u001b[0m \u001b[0mevaluate_human_model_pair\u001b[0m\u001b[0;34m(\u001b[0m\u001b[0mself\u001b[0m\u001b[0;34m,\u001b[0m \u001b[0mnum_games\u001b[0m\u001b[0;34m=\u001b[0m\u001b[0;36m1\u001b[0m\u001b[0;34m,\u001b[0m \u001b[0mdisplay\u001b[0m\u001b[0;34m=\u001b[0m\u001b[0;32mFalse\u001b[0m\u001b[0;34m,\u001b[0m \u001b[0mnative_eval\u001b[0m\u001b[0;34m=\u001b[0m\u001b[0;32mFalse\u001b[0m\u001b[0;34m)\u001b[0m\u001b[0;34m:\u001b[0m\u001b[0;34m\u001b[0m\u001b[0;34m\u001b[0m\u001b[0m\n",
      "\u001b[0;32m~/Documents/git_repo/overcooked_mlg/overcooked_ai_py/agents/benchmarking.py\u001b[0m in \u001b[0;36mevaluate_agent_pair\u001b[0;34m(self, agent_pair, num_games, game_length, start_state_fn, metadata_fn, metadata_info_fn, display, dir, display_phi, info, native_eval)\u001b[0m\n\u001b[1;32m    139\u001b[0m             \u001b[0mhorizon_env\u001b[0m\u001b[0;34m.\u001b[0m\u001b[0mstart_state_fn\u001b[0m \u001b[0;34m=\u001b[0m \u001b[0mself\u001b[0m\u001b[0;34m.\u001b[0m\u001b[0menv\u001b[0m\u001b[0;34m.\u001b[0m\u001b[0mstart_state_fn\u001b[0m \u001b[0;32mif\u001b[0m \u001b[0mstart_state_fn\u001b[0m \u001b[0;32mis\u001b[0m \u001b[0;32mNone\u001b[0m \u001b[0;32melse\u001b[0m \u001b[0mstart_state_fn\u001b[0m\u001b[0;34m\u001b[0m\u001b[0;34m\u001b[0m\u001b[0m\n\u001b[1;32m    140\u001b[0m             \u001b[0mhorizon_env\u001b[0m\u001b[0;34m.\u001b[0m\u001b[0mreset\u001b[0m\u001b[0;34m(\u001b[0m\u001b[0;34m)\u001b[0m\u001b[0;34m\u001b[0m\u001b[0;34m\u001b[0m\u001b[0m\n\u001b[0;32m--> 141\u001b[0;31m             return horizon_env.get_rollouts(agent_pair, num_games=num_games, display=display, dir=dir, display_phi=display_phi,\n\u001b[0m\u001b[1;32m    142\u001b[0m                                             info=info, metadata_fn=metadata_fn, metadata_info_fn=metadata_info_fn)\n\u001b[1;32m    143\u001b[0m \u001b[0;34m\u001b[0m\u001b[0m\n",
      "\u001b[0;32m~/Documents/git_repo/overcooked_mlg/overcooked_ai_py/mdp/overcooked_env.py\u001b[0m in \u001b[0;36mget_rollouts\u001b[0;34m(self, agent_pair, num_games, display, dir, final_state, display_phi, display_until, metadata_fn, metadata_info_fn, info)\u001b[0m\n\u001b[1;32m    388\u001b[0m             \u001b[0magent_pair\u001b[0m\u001b[0;34m.\u001b[0m\u001b[0mset_mdp\u001b[0m\u001b[0;34m(\u001b[0m\u001b[0mself\u001b[0m\u001b[0;34m.\u001b[0m\u001b[0mmdp\u001b[0m\u001b[0;34m)\u001b[0m\u001b[0;34m\u001b[0m\u001b[0;34m\u001b[0m\u001b[0m\n\u001b[1;32m    389\u001b[0m \u001b[0;34m\u001b[0m\u001b[0m\n\u001b[0;32m--> 390\u001b[0;31m             rollout_info = self.run_agents(agent_pair, display=display, dir=dir, include_final_state=final_state,\n\u001b[0m\u001b[1;32m    391\u001b[0m                                            display_phi=display_phi, display_until=display_until)\n\u001b[1;32m    392\u001b[0m             \u001b[0mtrajectory\u001b[0m\u001b[0;34m,\u001b[0m \u001b[0mtime_taken\u001b[0m\u001b[0;34m,\u001b[0m \u001b[0mtot_rews_sparse\u001b[0m\u001b[0;34m,\u001b[0m \u001b[0m_tot_rews_shaped\u001b[0m \u001b[0;34m=\u001b[0m \u001b[0mrollout_info\u001b[0m\u001b[0;34m\u001b[0m\u001b[0;34m\u001b[0m\u001b[0m\n",
      "\u001b[0;32m~/Documents/git_repo/overcooked_mlg/overcooked_ai_py/mdp/overcooked_env.py\u001b[0m in \u001b[0;36mrun_agents\u001b[0;34m(self, agent_pair, include_final_state, display, dir, display_phi, display_until)\u001b[0m\n\u001b[1;32m    351\u001b[0m             \u001b[0;32massert\u001b[0m \u001b[0mall\u001b[0m\u001b[0;34m(\u001b[0m\u001b[0mtype\u001b[0m\u001b[0;34m(\u001b[0m\u001b[0ma_info\u001b[0m\u001b[0;34m)\u001b[0m \u001b[0;32mis\u001b[0m \u001b[0mdict\u001b[0m \u001b[0;32mfor\u001b[0m \u001b[0ma_info\u001b[0m \u001b[0;32min\u001b[0m \u001b[0ma_info_t\u001b[0m\u001b[0;34m)\u001b[0m\u001b[0;34m\u001b[0m\u001b[0;34m\u001b[0m\u001b[0m\n\u001b[1;32m    352\u001b[0m \u001b[0;34m\u001b[0m\u001b[0m\n\u001b[0;32m--> 353\u001b[0;31m             \u001b[0ms_tp1\u001b[0m\u001b[0;34m,\u001b[0m \u001b[0mr_t\u001b[0m\u001b[0;34m,\u001b[0m \u001b[0mdone\u001b[0m\u001b[0;34m,\u001b[0m \u001b[0minfo\u001b[0m \u001b[0;34m=\u001b[0m \u001b[0mself\u001b[0m\u001b[0;34m.\u001b[0m\u001b[0mstep\u001b[0m\u001b[0;34m(\u001b[0m\u001b[0ma_t\u001b[0m\u001b[0;34m,\u001b[0m \u001b[0ma_info_t\u001b[0m\u001b[0;34m,\u001b[0m \u001b[0mdisplay_phi\u001b[0m\u001b[0;34m)\u001b[0m\u001b[0;34m\u001b[0m\u001b[0;34m\u001b[0m\u001b[0m\n\u001b[0m\u001b[1;32m    354\u001b[0m             \u001b[0mtrajectory\u001b[0m\u001b[0;34m.\u001b[0m\u001b[0mappend\u001b[0m\u001b[0;34m(\u001b[0m\u001b[0;34m(\u001b[0m\u001b[0ms_t\u001b[0m\u001b[0;34m,\u001b[0m \u001b[0ma_t\u001b[0m\u001b[0;34m,\u001b[0m \u001b[0mr_t\u001b[0m\u001b[0;34m,\u001b[0m \u001b[0mdone\u001b[0m\u001b[0;34m,\u001b[0m \u001b[0minfo\u001b[0m\u001b[0;34m)\u001b[0m\u001b[0;34m)\u001b[0m\u001b[0;34m\u001b[0m\u001b[0;34m\u001b[0m\u001b[0m\n\u001b[1;32m    355\u001b[0m \u001b[0;34m\u001b[0m\u001b[0m\n",
      "\u001b[0;32m~/Documents/git_repo/overcooked_mlg/overcooked_ai_py/mdp/overcooked_env.py\u001b[0m in \u001b[0;36mstep\u001b[0;34m(self, joint_action, joint_agent_action_info, display_phi)\u001b[0m\n\u001b[1;32m    196\u001b[0m         \u001b[0;32massert\u001b[0m \u001b[0;32mnot\u001b[0m \u001b[0mself\u001b[0m\u001b[0;34m.\u001b[0m\u001b[0mis_done\u001b[0m\u001b[0;34m(\u001b[0m\u001b[0;34m)\u001b[0m\u001b[0;34m\u001b[0m\u001b[0;34m\u001b[0m\u001b[0m\n\u001b[1;32m    197\u001b[0m         \u001b[0;32mif\u001b[0m \u001b[0mjoint_agent_action_info\u001b[0m \u001b[0;32mis\u001b[0m \u001b[0;32mNone\u001b[0m\u001b[0;34m:\u001b[0m \u001b[0mjoint_agent_action_info\u001b[0m \u001b[0;34m=\u001b[0m \u001b[0;34m[\u001b[0m\u001b[0;34m{\u001b[0m\u001b[0;34m}\u001b[0m\u001b[0;34m,\u001b[0m \u001b[0;34m{\u001b[0m\u001b[0;34m}\u001b[0m\u001b[0;34m]\u001b[0m\u001b[0;34m\u001b[0m\u001b[0;34m\u001b[0m\u001b[0m\n\u001b[0;32m--> 198\u001b[0;31m         \u001b[0mnext_state\u001b[0m\u001b[0;34m,\u001b[0m \u001b[0mmdp_infos\u001b[0m \u001b[0;34m=\u001b[0m \u001b[0mself\u001b[0m\u001b[0;34m.\u001b[0m\u001b[0mmdp\u001b[0m\u001b[0;34m.\u001b[0m\u001b[0mget_state_transition\u001b[0m\u001b[0;34m(\u001b[0m\u001b[0mself\u001b[0m\u001b[0;34m.\u001b[0m\u001b[0mstate\u001b[0m\u001b[0;34m,\u001b[0m \u001b[0mjoint_action\u001b[0m\u001b[0;34m,\u001b[0m \u001b[0mdisplay_phi\u001b[0m\u001b[0;34m,\u001b[0m \u001b[0mself\u001b[0m\u001b[0;34m.\u001b[0m\u001b[0mmp\u001b[0m\u001b[0;34m)\u001b[0m\u001b[0;34m\u001b[0m\u001b[0;34m\u001b[0m\u001b[0m\n\u001b[0m\u001b[1;32m    199\u001b[0m \u001b[0;34m\u001b[0m\u001b[0m\n\u001b[1;32m    200\u001b[0m         \u001b[0;31m# Update game_stats\u001b[0m\u001b[0;34m\u001b[0m\u001b[0;34m\u001b[0m\u001b[0;34m\u001b[0m\u001b[0m\n",
      "\u001b[0;32m~/Documents/git_repo/overcooked_mlg/overcooked_ai_py/mdp/overcooked_mdp.py\u001b[0m in \u001b[0;36mget_state_transition\u001b[0;34m(self, state, joint_action, display_phi, motion_planner)\u001b[0m\n\u001b[1;32m   1130\u001b[0m \u001b[0;34m\u001b[0m\u001b[0m\n\u001b[1;32m   1131\u001b[0m         \u001b[0;31m# Resolve interacts first\u001b[0m\u001b[0;34m\u001b[0m\u001b[0;34m\u001b[0m\u001b[0;34m\u001b[0m\u001b[0m\n\u001b[0;32m-> 1132\u001b[0;31m         \u001b[0msparse_reward_by_agent\u001b[0m\u001b[0;34m,\u001b[0m \u001b[0mshaped_reward_by_agent\u001b[0m \u001b[0;34m=\u001b[0m \u001b[0mself\u001b[0m\u001b[0;34m.\u001b[0m\u001b[0mresolve_interacts\u001b[0m\u001b[0;34m(\u001b[0m\u001b[0mnew_state\u001b[0m\u001b[0;34m,\u001b[0m \u001b[0mjoint_action\u001b[0m\u001b[0;34m,\u001b[0m \u001b[0mevents_infos\u001b[0m\u001b[0;34m)\u001b[0m\u001b[0;34m\u001b[0m\u001b[0;34m\u001b[0m\u001b[0m\n\u001b[0m\u001b[1;32m   1133\u001b[0m \u001b[0;34m\u001b[0m\u001b[0m\n\u001b[1;32m   1134\u001b[0m         \u001b[0;32massert\u001b[0m \u001b[0mnew_state\u001b[0m\u001b[0;34m.\u001b[0m\u001b[0mplayer_positions\u001b[0m \u001b[0;34m==\u001b[0m \u001b[0mstate\u001b[0m\u001b[0;34m.\u001b[0m\u001b[0mplayer_positions\u001b[0m\u001b[0;34m\u001b[0m\u001b[0;34m\u001b[0m\u001b[0m\n",
      "\u001b[0;32m~/Documents/git_repo/overcooked_mlg/overcooked_ai_py/mdp/overcooked_mdp.py\u001b[0m in \u001b[0;36mresolve_interacts\u001b[0;34m(self, new_state, joint_action, events_infos)\u001b[0m\n\u001b[1;32m   1250\u001b[0m \u001b[0;34m\u001b[0m\u001b[0m\n\u001b[1;32m   1251\u001b[0m                         \u001b[0;31m# Log potting\u001b[0m\u001b[0;34m\u001b[0m\u001b[0;34m\u001b[0m\u001b[0;34m\u001b[0m\u001b[0m\n\u001b[0;32m-> 1252\u001b[0;31m                         \u001b[0mself\u001b[0m\u001b[0;34m.\u001b[0m\u001b[0mlog_object_potting\u001b[0m\u001b[0;34m(\u001b[0m\u001b[0mevents_infos\u001b[0m\u001b[0;34m,\u001b[0m \u001b[0mnew_state\u001b[0m\u001b[0;34m,\u001b[0m \u001b[0mold_soup\u001b[0m\u001b[0;34m,\u001b[0m \u001b[0msoup\u001b[0m\u001b[0;34m,\u001b[0m \u001b[0mobj\u001b[0m\u001b[0;34m.\u001b[0m\u001b[0mname\u001b[0m\u001b[0;34m,\u001b[0m \u001b[0mplayer_idx\u001b[0m\u001b[0;34m)\u001b[0m\u001b[0;34m\u001b[0m\u001b[0;34m\u001b[0m\u001b[0m\n\u001b[0m\u001b[1;32m   1253\u001b[0m                         \u001b[0;32mif\u001b[0m \u001b[0mobj\u001b[0m\u001b[0;34m.\u001b[0m\u001b[0mname\u001b[0m \u001b[0;34m==\u001b[0m \u001b[0mRecipe\u001b[0m\u001b[0;34m.\u001b[0m\u001b[0mONION\u001b[0m\u001b[0;34m:\u001b[0m\u001b[0;34m\u001b[0m\u001b[0;34m\u001b[0m\u001b[0m\n\u001b[1;32m   1254\u001b[0m                             \u001b[0mevents_infos\u001b[0m\u001b[0;34m[\u001b[0m\u001b[0;34m'potting_onion'\u001b[0m\u001b[0;34m]\u001b[0m\u001b[0;34m[\u001b[0m\u001b[0mplayer_idx\u001b[0m\u001b[0;34m]\u001b[0m \u001b[0;34m=\u001b[0m \u001b[0;32mTrue\u001b[0m\u001b[0;34m\u001b[0m\u001b[0;34m\u001b[0m\u001b[0m\n",
      "\u001b[0;32m~/Documents/git_repo/overcooked_mlg/overcooked_ai_py/mdp/overcooked_mdp.py\u001b[0m in \u001b[0;36mlog_object_potting\u001b[0;34m(self, events_infos, state, old_soup, new_soup, obj_name, player_index)\u001b[0m\n\u001b[1;32m   1687\u001b[0m \u001b[0;34m\u001b[0m\u001b[0m\n\u001b[1;32m   1688\u001b[0m         \u001b[0;32mfor\u001b[0m \u001b[0moutcome\u001b[0m\u001b[0;34m,\u001b[0m \u001b[0moutcome_fn\u001b[0m \u001b[0;32min\u001b[0m \u001b[0mPOTTING_FNS\u001b[0m\u001b[0;34m.\u001b[0m\u001b[0mitems\u001b[0m\u001b[0;34m(\u001b[0m\u001b[0;34m)\u001b[0m\u001b[0;34m:\u001b[0m\u001b[0;34m\u001b[0m\u001b[0;34m\u001b[0m\u001b[0m\n\u001b[0;32m-> 1689\u001b[0;31m             \u001b[0;32mif\u001b[0m \u001b[0moutcome_fn\u001b[0m\u001b[0;34m(\u001b[0m\u001b[0mstate\u001b[0m\u001b[0;34m,\u001b[0m \u001b[0mold_soup\u001b[0m\u001b[0;34m,\u001b[0m \u001b[0mnew_soup\u001b[0m\u001b[0;34m)\u001b[0m\u001b[0;34m:\u001b[0m\u001b[0;34m\u001b[0m\u001b[0;34m\u001b[0m\u001b[0m\n\u001b[0m\u001b[1;32m   1690\u001b[0m                 \u001b[0mpotting_key\u001b[0m \u001b[0;34m=\u001b[0m \u001b[0;34m\"{}_{}_potting\"\u001b[0m\u001b[0;34m.\u001b[0m\u001b[0mformat\u001b[0m\u001b[0;34m(\u001b[0m\u001b[0moutcome\u001b[0m\u001b[0;34m,\u001b[0m \u001b[0mobj_name\u001b[0m\u001b[0;34m)\u001b[0m\u001b[0;34m\u001b[0m\u001b[0;34m\u001b[0m\u001b[0m\n\u001b[1;32m   1691\u001b[0m                 \u001b[0mevents_infos\u001b[0m\u001b[0;34m[\u001b[0m\u001b[0mpotting_key\u001b[0m\u001b[0;34m]\u001b[0m\u001b[0;34m[\u001b[0m\u001b[0mplayer_index\u001b[0m\u001b[0;34m]\u001b[0m \u001b[0;34m=\u001b[0m \u001b[0;32mTrue\u001b[0m\u001b[0;34m\u001b[0m\u001b[0;34m\u001b[0m\u001b[0m\n",
      "\u001b[0;32m~/Documents/git_repo/overcooked_mlg/overcooked_ai_py/mdp/overcooked_mdp.py\u001b[0m in \u001b[0;36mis_potting_optimal\u001b[0;34m(self, state, old_soup, new_soup)\u001b[0m\n\u001b[1;32m   1791\u001b[0m         \u001b[0mold_recipe\u001b[0m \u001b[0;34m=\u001b[0m \u001b[0mRecipe\u001b[0m\u001b[0;34m(\u001b[0m\u001b[0mold_soup\u001b[0m\u001b[0;34m.\u001b[0m\u001b[0mingredients\u001b[0m\u001b[0;34m)\u001b[0m \u001b[0;32mif\u001b[0m \u001b[0mold_soup\u001b[0m\u001b[0;34m.\u001b[0m\u001b[0mingredients\u001b[0m \u001b[0;32melse\u001b[0m \u001b[0;32mNone\u001b[0m\u001b[0;34m\u001b[0m\u001b[0;34m\u001b[0m\u001b[0m\n\u001b[1;32m   1792\u001b[0m         \u001b[0mnew_recipe\u001b[0m \u001b[0;34m=\u001b[0m \u001b[0mRecipe\u001b[0m\u001b[0;34m(\u001b[0m\u001b[0mnew_soup\u001b[0m\u001b[0;34m.\u001b[0m\u001b[0mingredients\u001b[0m\u001b[0;34m)\u001b[0m\u001b[0;34m\u001b[0m\u001b[0;34m\u001b[0m\u001b[0m\n\u001b[0;32m-> 1793\u001b[0;31m         \u001b[0mold_val\u001b[0m \u001b[0;34m=\u001b[0m \u001b[0mself\u001b[0m\u001b[0;34m.\u001b[0m\u001b[0mget_recipe_value\u001b[0m\u001b[0;34m(\u001b[0m\u001b[0mstate\u001b[0m\u001b[0;34m,\u001b[0m \u001b[0mself\u001b[0m\u001b[0;34m.\u001b[0m\u001b[0mget_optimal_possible_recipe\u001b[0m\u001b[0;34m(\u001b[0m\u001b[0mstate\u001b[0m\u001b[0;34m,\u001b[0m \u001b[0mold_recipe\u001b[0m\u001b[0;34m)\u001b[0m\u001b[0;34m)\u001b[0m\u001b[0;34m\u001b[0m\u001b[0;34m\u001b[0m\u001b[0m\n\u001b[0m\u001b[1;32m   1794\u001b[0m         \u001b[0mnew_val\u001b[0m \u001b[0;34m=\u001b[0m \u001b[0mself\u001b[0m\u001b[0;34m.\u001b[0m\u001b[0mget_recipe_value\u001b[0m\u001b[0;34m(\u001b[0m\u001b[0mstate\u001b[0m\u001b[0;34m,\u001b[0m \u001b[0mself\u001b[0m\u001b[0;34m.\u001b[0m\u001b[0mget_optimal_possible_recipe\u001b[0m\u001b[0;34m(\u001b[0m\u001b[0mstate\u001b[0m\u001b[0;34m,\u001b[0m \u001b[0mnew_recipe\u001b[0m\u001b[0;34m)\u001b[0m\u001b[0;34m)\u001b[0m\u001b[0;34m\u001b[0m\u001b[0;34m\u001b[0m\u001b[0m\n\u001b[1;32m   1795\u001b[0m         \u001b[0;32mreturn\u001b[0m \u001b[0mold_val\u001b[0m \u001b[0;34m==\u001b[0m \u001b[0mnew_val\u001b[0m\u001b[0;34m\u001b[0m\u001b[0;34m\u001b[0m\u001b[0m\n",
      "\u001b[0;32m~/Documents/git_repo/overcooked_mlg/overcooked_ai_py/mdp/overcooked_mdp.py\u001b[0m in \u001b[0;36mget_optimal_possible_recipe\u001b[0;34m(self, state, recipe, discounted, potential_params, return_value)\u001b[0m\n\u001b[1;32m   1614\u001b[0m         \u001b[0;32mif\u001b[0m \u001b[0mrecipe\u001b[0m \u001b[0;32mnot\u001b[0m \u001b[0;32min\u001b[0m \u001b[0mcache\u001b[0m\u001b[0;34m:\u001b[0m\u001b[0;34m\u001b[0m\u001b[0;34m\u001b[0m\u001b[0m\n\u001b[1;32m   1615\u001b[0m             \u001b[0;31m# Compute best recipe now and store in cache for later use\u001b[0m\u001b[0;34m\u001b[0m\u001b[0;34m\u001b[0m\u001b[0;34m\u001b[0m\u001b[0m\n\u001b[0;32m-> 1616\u001b[0;31m             \u001b[0mopt_recipe\u001b[0m\u001b[0;34m,\u001b[0m \u001b[0mvalue\u001b[0m \u001b[0;34m=\u001b[0m \u001b[0mself\u001b[0m\u001b[0;34m.\u001b[0m\u001b[0m_get_optimal_possible_recipe\u001b[0m\u001b[0;34m(\u001b[0m\u001b[0mstate\u001b[0m\u001b[0;34m,\u001b[0m \u001b[0mrecipe\u001b[0m\u001b[0;34m,\u001b[0m \u001b[0mdiscounted\u001b[0m\u001b[0;34m=\u001b[0m\u001b[0mdiscounted\u001b[0m\u001b[0;34m,\u001b[0m \u001b[0mpotential_params\u001b[0m\u001b[0;34m=\u001b[0m\u001b[0mpotential_params\u001b[0m\u001b[0;34m,\u001b[0m \u001b[0mreturn_value\u001b[0m\u001b[0;34m=\u001b[0m\u001b[0;32mTrue\u001b[0m\u001b[0;34m)\u001b[0m\u001b[0;34m\u001b[0m\u001b[0;34m\u001b[0m\u001b[0m\n\u001b[0m\u001b[1;32m   1617\u001b[0m             \u001b[0mcache\u001b[0m\u001b[0;34m[\u001b[0m\u001b[0mrecipe\u001b[0m\u001b[0;34m]\u001b[0m \u001b[0;34m=\u001b[0m \u001b[0;34m(\u001b[0m\u001b[0mopt_recipe\u001b[0m\u001b[0;34m,\u001b[0m \u001b[0mvalue\u001b[0m\u001b[0;34m)\u001b[0m\u001b[0;34m\u001b[0m\u001b[0;34m\u001b[0m\u001b[0m\n\u001b[1;32m   1618\u001b[0m \u001b[0;34m\u001b[0m\u001b[0m\n",
      "\u001b[0;32m~/Documents/git_repo/overcooked_mlg/overcooked_ai_py/mdp/overcooked_mdp.py\u001b[0m in \u001b[0;36m_get_optimal_possible_recipe\u001b[0;34m(self, state, recipe, discounted, potential_params, return_value)\u001b[0m\n\u001b[1;32m   1580\u001b[0m                 \u001b[0mvisited\u001b[0m\u001b[0;34m.\u001b[0m\u001b[0madd\u001b[0m\u001b[0;34m(\u001b[0m\u001b[0mcurr_recipe\u001b[0m\u001b[0;34m)\u001b[0m\u001b[0;34m\u001b[0m\u001b[0;34m\u001b[0m\u001b[0m\n\u001b[1;32m   1581\u001b[0m                 \u001b[0mcurr_value\u001b[0m \u001b[0;34m=\u001b[0m \u001b[0mself\u001b[0m\u001b[0;34m.\u001b[0m\u001b[0mget_recipe_value\u001b[0m\u001b[0;34m(\u001b[0m\u001b[0mstate\u001b[0m\u001b[0;34m,\u001b[0m \u001b[0mcurr_recipe\u001b[0m\u001b[0;34m,\u001b[0m \u001b[0mbase_recipe\u001b[0m\u001b[0;34m=\u001b[0m\u001b[0mstart_recipe\u001b[0m\u001b[0;34m,\u001b[0m \u001b[0mdiscounted\u001b[0m\u001b[0;34m=\u001b[0m\u001b[0mdiscounted\u001b[0m\u001b[0;34m,\u001b[0m \u001b[0mpotential_params\u001b[0m\u001b[0;34m=\u001b[0m\u001b[0mpotential_params\u001b[0m\u001b[0;34m)\u001b[0m\u001b[0;34m\u001b[0m\u001b[0;34m\u001b[0m\u001b[0m\n\u001b[0;32m-> 1582\u001b[0;31m                 \u001b[0;32mif\u001b[0m \u001b[0mcurr_value\u001b[0m \u001b[0;34m>\u001b[0m \u001b[0mbest_value\u001b[0m\u001b[0;34m:\u001b[0m\u001b[0;34m\u001b[0m\u001b[0;34m\u001b[0m\u001b[0m\n\u001b[0m\u001b[1;32m   1583\u001b[0m                     \u001b[0mbest_value\u001b[0m\u001b[0;34m,\u001b[0m \u001b[0mbest_recipe\u001b[0m \u001b[0;34m=\u001b[0m \u001b[0mcurr_value\u001b[0m\u001b[0;34m,\u001b[0m \u001b[0mcurr_recipe\u001b[0m\u001b[0;34m\u001b[0m\u001b[0;34m\u001b[0m\u001b[0m\n\u001b[1;32m   1584\u001b[0m \u001b[0;34m\u001b[0m\u001b[0m\n",
      "\u001b[0;31mTypeError\u001b[0m: '>' not supported between instances of 'NoneType' and 'int'"
     ]
    }
   ],
   "source": [
    "# does random actions\n",
    "trajectories_random_pair = agent_eval.evaluate_random_pair(num_games=2)\n",
    "print(\"Random pair rewards\", trajectories_random_pair[\"ep_returns\"])\n",
    "# Human model agent does greedy actions without much cooperation\n",
    "# NOTE: requires layout with only one order - 3 onion soup\n",
    "trajectories_human_pair = agent_eval.evaluate_human_model_pair(num_games=2)\n",
    "print(\"Geedy human pair rewards\", trajectories_human_pair[\"ep_returns\"])"
   ]
  },
  {
   "cell_type": "markdown",
   "metadata": {
    "id": "ArrYC6L32Z3M"
   },
   "source": [
    "Let's check what happened in both trajectories. We can do it by using `StateVisualizer` object. It lets you visualize states (instances of `OvercookedState`). Let's visualize the starting state. It is the same for every agent types:"
   ]
  },
  {
   "cell_type": "code",
   "execution_count": 9,
   "metadata": {
    "colab": {
     "base_uri": "https://localhost:8080/",
     "height": 651
    },
    "id": "3GYHC_iT2Z3N",
    "outputId": "35481e18-e284-45da-f6e8-60f4668ea51e",
    "scrolled": true
   },
   "outputs": [
    {
     "ename": "NameError",
     "evalue": "name 'trajectories_random_pair' is not defined",
     "output_type": "error",
     "traceback": [
      "\u001b[0;31m---------------------------------------------------------------------------\u001b[0m",
      "\u001b[0;31mNameError\u001b[0m                                 Traceback (most recent call last)",
      "\u001b[0;32m<ipython-input-9-0e9311134ff2>\u001b[0m in \u001b[0;36m<module>\u001b[0;34m\u001b[0m\n\u001b[1;32m      2\u001b[0m \u001b[0;34m\u001b[0m\u001b[0m\n\u001b[1;32m      3\u001b[0m \u001b[0mgrid\u001b[0m \u001b[0;34m=\u001b[0m \u001b[0magent_eval\u001b[0m\u001b[0;34m.\u001b[0m\u001b[0menv\u001b[0m\u001b[0;34m.\u001b[0m\u001b[0mmdp\u001b[0m\u001b[0;34m.\u001b[0m\u001b[0mterrain_mtx\u001b[0m\u001b[0;34m\u001b[0m\u001b[0;34m\u001b[0m\u001b[0m\n\u001b[0;32m----> 4\u001b[0;31m \u001b[0mstarting_state_random_pair\u001b[0m \u001b[0;34m=\u001b[0m \u001b[0mtrajectories_random_pair\u001b[0m\u001b[0;34m[\u001b[0m\u001b[0;34m\"ep_states\"\u001b[0m\u001b[0;34m]\u001b[0m\u001b[0;34m[\u001b[0m\u001b[0;36m0\u001b[0m\u001b[0;34m]\u001b[0m\u001b[0;34m[\u001b[0m\u001b[0;36m0\u001b[0m\u001b[0;34m]\u001b[0m\u001b[0;34m\u001b[0m\u001b[0;34m\u001b[0m\u001b[0m\n\u001b[0m\u001b[1;32m      5\u001b[0m \u001b[0mprint\u001b[0m\u001b[0;34m(\u001b[0m\u001b[0;34m\"starting state of random pair\"\u001b[0m\u001b[0;34m)\u001b[0m\u001b[0;34m\u001b[0m\u001b[0;34m\u001b[0m\u001b[0m\n\u001b[1;32m      6\u001b[0m \u001b[0;31m# StateVisualizer initialization params are used for additional configuration,\u001b[0m\u001b[0;34m\u001b[0m\u001b[0;34m\u001b[0m\u001b[0;34m\u001b[0m\u001b[0m\n",
      "\u001b[0;31mNameError\u001b[0m: name 'trajectories_random_pair' is not defined"
     ]
    }
   ],
   "source": [
    "from overcooked_ai_py.visualization.state_visualizer import StateVisualizer\n",
    "\n",
    "grid = agent_eval.env.mdp.terrain_mtx\n",
    "starting_state_random_pair = trajectories_random_pair[\"ep_states\"][0][0]\n",
    "print(\"starting state of random pair\")\n",
    "# StateVisualizer initialization params are used for additional configuration,\n",
    "#  let's use defaults here by not supplying any kwarg\n",
    "img_path = StateVisualizer().display_rendered_state(starting_state_random_pair, grid=grid, ipython_display=True)\n",
    "\n",
    "starting_state_human_pair = trajectories_human_pair[\"ep_states\"][0][0]\n",
    "print(\"starting state of greedy human model pair\")\n",
    "img_path = StateVisualizer().display_rendered_state(starting_state_human_pair, grid=grid, ipython_display=True)"
   ]
  },
  {
   "cell_type": "markdown",
   "metadata": {
    "id": "GuTE9vid2Z3R"
   },
   "source": [
    "You can also check out whole trajectories by using `display_rendered_trajectory` method:"
   ]
  },
  {
   "cell_type": "code",
   "execution_count": 5,
   "metadata": {
    "colab": {
     "base_uri": "https://localhost:8080/",
     "height": 466,
     "referenced_widgets": [
      "149b4f12e115416c804d7a6bf4dacf4e",
      "3352882ba9204759a8d20e9e78ce95fb",
      "7c21628d26454043b76d04601b139fc4",
      "120f8074a6114cdba3e29e4a819d2839",
      "34306f2de5f1403d8b61fb20947be3ab",
      "df93226f4c5a495f9f1166005d289d0f",
      "c7cbcfd4c02040db839bd19b101df5c4"
     ]
    },
    "id": "s8fYj-bF2Z3R",
    "outputId": "d543e548-89bc-4974-8c7e-f736c9490578"
   },
   "outputs": [
    {
     "name": "stdout",
     "output_type": "stream",
     "text": [
      "random trajectory\n"
     ]
    },
    {
     "data": {
      "application/vnd.jupyter.widget-view+json": {
       "model_id": "737d0a6fd15b4306b3fee087d59e9e42",
       "version_major": 2,
       "version_minor": 0
      },
      "text/plain": [
       "interactive(children=(IntSlider(value=0, description='timestep', max=99), Output()), _dom_classes=('widget-int…"
      ]
     },
     "metadata": {},
     "output_type": "display_data"
    }
   ],
   "source": [
    "print(\"random trajectory\")\n",
    "# grid is taken automatically from trajectories dict so there is no need to supply it here\n",
    "img_dir_path = StateVisualizer().display_rendered_trajectory(trajectories_random_pair,\n",
    "                                                             trajectory_idx=0,ipython_display=True)"
   ]
  },
  {
   "cell_type": "markdown",
   "metadata": {
    "id": "wxqgy6RV2Z3W"
   },
   "source": [
    "Let's compare the chaotic actions above with more logical actions of the greedy human model below:"
   ]
  },
  {
   "cell_type": "code",
   "execution_count": 6,
   "metadata": {
    "colab": {
     "base_uri": "https://localhost:8080/",
     "height": 466,
     "referenced_widgets": [
      "f76224feb08748b8956c71fea19cd252",
      "b5083b489d174223bf3968f6a353e806",
      "ba737ebc0d4b4b658dd3e13fd072716e",
      "44fe882bbf554bea9ed8d15c1eaafa99",
      "2404aff41d3348d9b5567d52474eb30e",
      "8cf069e5396843309a6d00ed371b23a9",
      "07aa748f673e452c99726e16610d24ab"
     ]
    },
    "id": "Ruc2nSx52Z3W",
    "outputId": "d21cf68a-1234-4eaf-84f5-7cf46cb82cb0"
   },
   "outputs": [
    {
     "name": "stdout",
     "output_type": "stream",
     "text": [
      "greedy human model trajectory\n"
     ]
    },
    {
     "data": {
      "application/vnd.jupyter.widget-view+json": {
       "model_id": "3d0ab09cbfc2469ea1f06ebb1caaff8a",
       "version_major": 2,
       "version_minor": 0
      },
      "text/plain": [
       "interactive(children=(IntSlider(value=0, description='timestep', max=99), Output()), _dom_classes=('widget-int…"
      ]
     },
     "metadata": {},
     "output_type": "display_data"
    }
   ],
   "source": [
    "print(\"greedy human model trajectory\")\n",
    "img_dir_path = StateVisualizer().display_rendered_trajectory(trajectories_human_pair,\n",
    "                                                             trajectory_idx=0, ipython_display=True)"
   ]
  },
  {
   "cell_type": "markdown",
   "metadata": {
    "id": "MUJKC6KTvLXk"
   },
   "source": [
    "## Custom layouts\n",
    "Besides premade layouts found in the [layout directory](https://github.com/HumanCompatibleAI/overcooked_ai/tree/master/src/overcooked_ai_py/data/layouts) you can create your own layouts to run agents on. Lets first look at example layout:\n",
    "```\n",
    "{\n",
    "    \"grid\":  \"\"\"XXXPPXXX\n",
    "                X  2   X\n",
    "                D XXXX S\n",
    "                X  1   X\n",
    "                XXXOOXXX\"\"\",\n",
    "    \"start_order_list\": None,\n",
    "    \"cook_time\": 20,\n",
    "    \"num_items_for_soup\": 3,\n",
    "    \"delivery_reward\": 20,\n",
    "    \"rew_shaping_params\": None\n",
    "}\n",
    "```"
   ]
  },
  {
   "cell_type": "markdown",
   "metadata": {
    "id": "yNm8NedcvLXk"
   },
   "source": [
    "Layout territory is defined by grid. Every character is one tile. Available tiles are:\n",
    "- empty space - ' '\n",
    "- counter - 'X'\n",
    "- onion dispenser - 'O'\n",
    "- tomato dispenser - 'T'\n",
    "- pot (place where players cook soup from onions and tomatoes) - 'P' \n",
    "- dish dispenser - 'D '\n",
    "- serving location - 'S'\n",
    "- player starting location - number  \n",
    "  \n",
    "You can save layout in ovecooked_ai/overcooked_ai_py/data/layouts directory and then run agent evaluator AgentEvaluator({\"layout_name\": layout_name}) where layout_name is filename without `.layout` extension.  \n",
    "You can also generate random, but valid grids in an automated way. Let's create one and run agents on it."
   ]
  },
  {
   "cell_type": "code",
   "execution_count": null,
   "metadata": {
    "colab": {
     "base_uri": "https://localhost:8080/",
     "height": 966,
     "referenced_widgets": [
      "321d93129ab2448f9fcb517598641b35",
      "37f1e42f7d274acfbd45a488ecdfdbef",
      "8baf832fb8304eb9b7843cdc5b543ea9",
      "28bafee3597f4b08a3f1b86427a51345",
      "4cb174a24041475ca520a8cb03f8f518",
      "b1013f779da445fb9a44b475b6eea969",
      "0710eb87a5354299bd7c7cac8579cb6d"
     ]
    },
    "id": "BzcyIjmSvLXl",
    "outputId": "106dcc59-c91e-4243-9d52-cf9074d4fe91"
   },
   "outputs": [
    {
     "name": "stderr",
     "output_type": "stream",
     "text": [
      "  0%|          | 0/1 [00:00<?, ?it/s]"
     ]
    },
    {
     "name": "stdout",
     "output_type": "stream",
     "text": [
      "Recomputing motion planner due to: [Errno 2] No such file or directory: '/overcooked_ai_py/data/planners/XXSSPDX|XD    P|XPPX  X|D O2 DX|O 1   X|XDPX  D|XXXXPSX_mp.pkl'\n",
      "Computing MotionPlanner to be saved in /overcooked_ai_py/data/planners/XXSSPDX|XD    P|XPPX  X|D O2 DX|O 1   X|XDPX  D|XXXXPSX_mp.pkl\n"
     ]
    },
    {
     "name": "stderr",
     "output_type": "stream",
     "text": [
      "Avg rew: 0.00 (std: 0.00, se: 0.00); avg len: 100.00; : 100%|██████████| 1/1 [00:00<00:00,  1.05it/s]"
     ]
    },
    {
     "name": "stdout",
     "output_type": "stream",
     "text": [
      "It took 0.9023308753967285 seconds to create mp\n",
      "Skipping trajectory consistency checking because MDP was recognized as variable. Trajectory consistency checking is not yet supported for variable MDPs.\n",
      "Random pair rewards [0]\n",
      "\n",
      "Generated grid:\n",
      "XXSSPDX\n",
      "XD    P\n",
      "XPPX  X\n",
      "D O  DX\n",
      "O     X\n",
      "XDPX  D\n",
      "XXXXPSX\n",
      "random pair trajectory on generated grid\n"
     ]
    },
    {
     "name": "stderr",
     "output_type": "stream",
     "text": [
      "\n"
     ]
    },
    {
     "data": {
      "application/vnd.jupyter.widget-view+json": {
       "model_id": "321d93129ab2448f9fcb517598641b35",
       "version_major": 2,
       "version_minor": 0
      },
      "text/plain": [
       "interactive(children=(IntSlider(value=0, description='timestep', max=99), Output()), _dom_classes=('widget-int…"
      ]
     },
     "metadata": {
      "tags": []
     },
     "output_type": "display_data"
    }
   ],
   "source": [
    "mdp_gen_params = {\"inner_shape\": (7,7), # shape the layout\n",
    "                \"prop_empty\":0.2, # proportion of empty space in generated layout\n",
    "                \"prop_feats\":0.8, # proportion of counters with features on them\n",
    "                \"display\": False,\n",
    "                \"start_all_orders\": # list of recipes that can be delived\n",
    "                   [{ \"ingredients\" : [\"onion\", \"onion\", \"onion\"]},\n",
    "                    { \"ingredients\" : [\"onion\", \"onion\"]},\n",
    "                    { \"ingredients\" : [\"onion\"]}],\n",
    "                # (optional param) reward for delivering recipes (for every recipe in start_all_orders)\n",
    "                \"recipe_values\" : [20, 9, 4], \n",
    "                # (optional param) cooking time of recipes (for every recipe in start_all_orders)\n",
    "                \"recipe_times\" : [20, 15, 10]\n",
    "                 }\n",
    "\n",
    "env_params =  {\"horizon\": 100}\n",
    "\n",
    "mdp_fn = LayoutGenerator.mdp_gen_fn_from_dict(mdp_gen_params, outer_shape=(7, 7))\n",
    "agent_eval = AgentEvaluator(env_params=env_params, mdp_fn=mdp_fn)\n",
    "\n",
    "trajectories_random_pair = agent_eval.evaluate_random_pair(num_games=1)\n",
    "print(\"Random pair rewards\", trajectories_random_pair[\"ep_returns\"])\n",
    "\n",
    "def pretty_grid(grid):\n",
    "    return \"\\n\".join(\"\".join(line) for line in grid)\n",
    "\n",
    "print(\"\\nGenerated grid:\\n\" + pretty_grid(trajectories_random_pair[\"mdp_params\"][0][\"terrain\"]))\n",
    "print(\"random pair trajectory on generated grid\")\n",
    "img_dir_path = StateVisualizer().display_rendered_trajectory(trajectories_random_pair,\n",
    "                                                             trajectory_idx=0, ipython_display=True)"
   ]
  },
  {
   "cell_type": "markdown",
   "metadata": {
    "id": "NfwExnpgvLXp"
   },
   "source": [
    "## Custom agents\n",
    "We can also run our own custom agents to see how they are would work. Let's re-create agents doing random actions on our own."
   ]
  },
  {
   "cell_type": "code",
   "execution_count": null,
   "metadata": {
    "colab": {
     "base_uri": "https://localhost:8080/",
     "height": 88
    },
    "id": "V4TMnuEUvLXq",
    "outputId": "3f2669fd-9426-4a75-a914-7da53e149685"
   },
   "outputs": [
    {
     "name": "stderr",
     "output_type": "stream",
     "text": [
      "Avg rew: 0.00 (std: 0.00, se: 0.00); avg len: 200.00; : 100%|██████████| 2/2 [00:00<00:00, 13.11it/s]"
     ]
    },
    {
     "name": "stdout",
     "output_type": "stream",
     "text": [
      "Skipping trajectory consistency checking because MDP was recognized as variable. Trajectory consistency checking is not yet supported for variable MDPs.\n",
      "Custom random pair rewards [0 0]\n"
     ]
    },
    {
     "name": "stderr",
     "output_type": "stream",
     "text": [
      "\n"
     ]
    }
   ],
   "source": [
    "import numpy as np\n",
    "from overcooked_ai_py.mdp.actions import Action, Direction\n",
    "from overcooked_ai_py.agents.agent import Agent, AgentPair\n",
    "\n",
    "class CustomRandomAgent(Agent):\n",
    "    \"\"\"\n",
    "    An agent that randomly picks motion actions.\n",
    "    NOTE: Does not perform interact actions, unless specified\n",
    "    \"\"\"   \n",
    "    def action(self, state):\n",
    "        action_probs = np.zeros(Action.NUM_ACTIONS)\n",
    "        legal_actions = Action.ALL_ACTIONS\n",
    "        legal_actions_indices = np.array([Action.ACTION_TO_INDEX[motion_a] for motion_a in legal_actions])\n",
    "        action_probs[legal_actions_indices] = 1 / len(legal_actions_indices)\n",
    "        return Action.sample(action_probs), {\"action_probs\": action_probs}\n",
    "\n",
    "    def actions(self, states, agent_indices):\n",
    "        return [self.action(state) for state in states]\n",
    "\n",
    "\n",
    "agent_pair = AgentPair(CustomRandomAgent(), CustomRandomAgent())\n",
    "mdp_gen_params = {\"layout_name\": 'cramped_room'}\n",
    "mdp_fn = LayoutGenerator.mdp_gen_fn_from_dict(mdp_gen_params)\n",
    "env_params = {\"horizon\": 200}\n",
    "agent_eval = AgentEvaluator(env_params=env_params, mdp_fn=mdp_fn)\n",
    "trajectories_custom_random_pair = agent_eval.evaluate_agent_pair(agent_pair, num_games=2)\n",
    "print(\"Custom random pair rewards\", trajectories_custom_random_pair[\"ep_returns\"])"
   ]
  },
  {
   "cell_type": "markdown",
   "metadata": {
    "id": "Pn_leFAQvLXv"
   },
   "source": [
    "CustomRandomAgent is lightweight version of RandomAgent from overcooked_ai_py.agents.agent module. ```agent_eval.evaluate_agent_pair(agent_pair)``` have same effect as ```agent_eval.evaluate_random_pair()```."
   ]
  },
  {
   "cell_type": "markdown",
   "metadata": {
    "id": "Po0l03DfvLXv"
   },
   "source": [
    "## Single player variant\n",
    "If you want to make single-player variant you need to set one of the agents to stay and do nothing. `StayAgent` is such agent. It is good to take choose a layout where every player is not blocking any crucial path to resource e.g. only onion dispenser on the layout."
   ]
  },
  {
   "cell_type": "code",
   "execution_count": null,
   "metadata": {
    "colab": {
     "base_uri": "https://localhost:8080/",
     "height": 762,
     "referenced_widgets": [
      "b2ac99e396314df0beabc3e87bc6328f",
      "82013d364b094fcc88639846eee3d492",
      "44020933482d4927b2460e0230ee35b4",
      "17e8ffa9d7fd4752b65ab4ce028ac64d",
      "44a8662250994732bcfea716d2259a69",
      "4174ad6815e64411a5010101f983ec5b",
      "cd4a93e5ce96479eba72e3b6b68f1354"
     ]
    },
    "id": "x2nVTznyvLXw",
    "outputId": "d40a62a3-f387-41db-93aa-dd92d3a84fa9"
   },
   "outputs": [
    {
     "name": "stderr",
     "output_type": "stream",
     "text": [
      "Avg rew: 0.00 (std: 0.00, se: 0.00); avg len: 100.00; : 100%|██████████| 1/1 [00:00<00:00,  8.30it/s]\n"
     ]
    },
    {
     "name": "stdout",
     "output_type": "stream",
     "text": [
      "Recomputing motion planner due to: [Errno 2] No such file or directory: '/overcooked_ai_py/data/planners/five_by_five_mp.pkl'\n",
      "Computing MotionPlanner to be saved in /overcooked_ai_py/data/planners/five_by_five_mp.pkl\n",
      "It took 0.09471964836120605 seconds to create mp\n",
      "Skipping trajectory consistency checking because MDP was recognized as variable. Trajectory consistency checking is not yet supported for variable MDPs.\n",
      "single random agent rewards [0]\n",
      "Computing MediumLevelActionManager\n",
      "Recomputing planner due to: [Errno 2] No such file or directory: '/overcooked_ai_py/data/planners/five_by_five_am.pkl'\n",
      "Computing MediumLevelActionManager to be saved in /overcooked_ai_py/data/planners/five_by_five_am.pkl\n"
     ]
    },
    {
     "name": "stderr",
     "output_type": "stream",
     "text": [
      "Avg rew: 20.00 (std: 0.00, se: 0.00); avg len: 100.00; : 100%|██████████| 1/1 [00:00<00:00, 23.20it/s]"
     ]
    },
    {
     "name": "stdout",
     "output_type": "stream",
     "text": [
      "It took 1.557342767715454 seconds to create mlam\n",
      "Skipping trajectory consistency checking because MDP was recognized as variable. Trajectory consistency checking is not yet supported for variable MDPs.\n",
      "single greedy agent rewards [20]\n",
      "single greedy agent trajectory\n"
     ]
    },
    {
     "name": "stderr",
     "output_type": "stream",
     "text": [
      "\n"
     ]
    },
    {
     "data": {
      "application/vnd.jupyter.widget-view+json": {
       "model_id": "b2ac99e396314df0beabc3e87bc6328f",
       "version_major": 2,
       "version_minor": 0
      },
      "text/plain": [
       "interactive(children=(IntSlider(value=0, description='timestep', max=99), Output()), _dom_classes=('widget-int…"
      ]
     },
     "metadata": {
      "tags": []
     },
     "output_type": "display_data"
    }
   ],
   "source": [
    "from overcooked_ai_py.agents.agent import StayAgent, RandomAgent, GreedyHumanModel\n",
    "mdp_gen_params = {\"layout_name\": 'five_by_five'}\n",
    "mdp_fn = LayoutGenerator.mdp_gen_fn_from_dict(mdp_gen_params)\n",
    "env_params = {\"horizon\": 100}\n",
    "agent_eval = AgentEvaluator(env_params=env_params, mdp_fn=mdp_fn)\n",
    "\n",
    "single_random_agent_pair = AgentPair(RandomAgent(all_actions=True), StayAgent())\n",
    "trajectories_single_random_agent = agent_eval.evaluate_agent_pair(single_random_agent_pair, num_games=1)\n",
    "print(\"single random agent rewards\", trajectories_single_random_agent[\"ep_returns\"])\n",
    "\n",
    "single_greedy_agent_pair = AgentPair(GreedyHumanModel(agent_eval.env.mlam), StayAgent())\n",
    "trajectories_single_greedy_agent = agent_eval.evaluate_agent_pair(single_greedy_agent_pair, num_games=1)\n",
    "print(\"single greedy agent rewards\", trajectories_single_greedy_agent[\"ep_returns\"])\n",
    "print(\"single greedy agent trajectory\")\n",
    "img_dir_path = StateVisualizer().display_rendered_trajectory(trajectories_single_greedy_agent,\n",
    "                                                             trajectory_idx=0, ipython_display=True)"
   ]
  },
  {
   "cell_type": "code",
   "execution_count": 7,
   "metadata": {},
   "outputs": [],
   "source": [
    "from overcooked_ai_py.mdp.layout_generator import LayoutGenerator, MDPParamsGenerator, DEFAULT_PARAMS_SCHEDULE_FN\n",
    "\n",
    "mdp_param_generator = MDPParamsGenerator(DEFAULT_PARAMS_SCHEDULE_FN)\n",
    "layout_generator = LayoutGenerator(mdp_param_generator)"
   ]
  },
  {
   "cell_type": "markdown",
   "metadata": {},
   "source": [
    "## Rotation ou transposition d'une map"
   ]
  },
  {
   "cell_type": "code",
   "execution_count": 26,
   "metadata": {
    "id": "5Em0Rk4ZvLXa",
    "scrolled": true
   },
   "outputs": [
    {
     "name": "stdout",
     "output_type": "stream",
     "text": [
      "[['X', 'O', 'X', 'X', 'X', 'X', 'X'], ['X', ' ', ' ', ' ', ' ', ' ', 'S'], ['K', ' ', ' ', '1', ' ', ' ', 'X'], ['P', ' ', ' ', '2', ' ', ' ', 'X'], ['K', ' ', ' ', ' ', ' ', ' ', 'D'], ['K', ' ', ' ', ' ', ' ', ' ', 'X'], ['X', 'X', 'X', 'T', 'X', 'X', 'X']]\n",
      "[]\n",
      "[['X' 'O' 'X' 'X' 'X' 'X' 'X']\n",
      " ['X' ' ' ' ' ' ' ' ' ' ' 'S']\n",
      " ['K' ' ' ' ' '1' ' ' ' ' 'X']\n",
      " ['P' ' ' ' ' '2' ' ' ' ' 'X']\n",
      " ['K' ' ' ' ' ' ' ' ' ' ' 'D']\n",
      " ['K' ' ' ' ' ' ' ' ' ' ' 'X']\n",
      " ['X' 'X' 'X' 'T' 'X' 'X' 'X']]\n",
      "[['X', 'K', 'K', 'P', 'K', 'X', 'X'], ['X', ' ', ' ', '1', ' ', ' ', 'X'], ['X', ' ', ' ', ' ', 'T', ' ', 'X'], ['X', ' ', 'X', ' ', 'X', ' ', 'X'], ['X', ' ', 'O', ' ', ' ', ' ', 'X'], ['X', ' ', ' ', '2', ' ', ' ', 'X'], ['X', 'D', 'X', 'X', 'X', 'S', 'X']]\n",
      "[]\n",
      "[['X' 'K' 'K' 'P' 'K' 'X' 'X']\n",
      " ['X' ' ' ' ' '1' ' ' ' ' 'X']\n",
      " ['X' ' ' ' ' ' ' 'T' ' ' 'X']\n",
      " ['X' ' ' 'X' ' ' 'X' ' ' 'X']\n",
      " ['X' ' ' 'O' ' ' ' ' ' ' 'X']\n",
      " ['X' ' ' ' ' '2' ' ' ' ' 'X']\n",
      " ['X' 'D' 'X' 'X' 'X' 'S' 'X']]\n",
      "[['X', 'X', 'O', 'X', 'D', 'X', 'X'], ['X', ' ', '1', 'X', '2', ' ', 'X'], ['X', ' ', ' ', ' ', ' ', ' ', 'X'], ['X', ' ', ' ', ' ', ' ', ' ', 'X'], ['X', ' ', 'X', 'K', 'X', ' ', 'T'], ['X', ' ', ' ', ' ', ' ', ' ', 'K'], ['X', 'S', 'X', 'X', 'X', 'P', 'X']]\n",
      "[]\n",
      "[['X' 'X' 'O' 'X' 'D' 'X' 'X']\n",
      " ['X' ' ' '1' 'X' '2' ' ' 'X']\n",
      " ['X' ' ' ' ' ' ' ' ' ' ' 'X']\n",
      " ['X' ' ' ' ' ' ' ' ' ' ' 'X']\n",
      " ['X' ' ' 'X' 'K' 'X' ' ' 'T']\n",
      " ['X' ' ' ' ' ' ' ' ' ' ' 'K']\n",
      " ['X' 'S' 'X' 'X' 'X' 'P' 'X']]\n",
      "[['X', 'X', 'X', 'X', 'X', 'P', 'X'], ['X', ' ', '2', ' ', 'K', ' ', 'K'], ['O', ' ', ' ', ' ', 'X', ' ', 'K'], ['X', ' ', ' ', 'X', ' ', ' ', 'S'], ['X', ' ', 'X', ' ', ' ', ' ', 'D'], ['T', ' ', ' ', '1', ' ', ' ', 'X'], ['X', 'X', 'X', 'X', 'X', 'X', 'X']]\n",
      "[]\n",
      "[['X' 'X' 'X' 'X' 'X' 'P' 'X']\n",
      " ['X' ' ' '2' ' ' 'K' ' ' 'K']\n",
      " ['O' ' ' ' ' ' ' 'X' ' ' 'K']\n",
      " ['X' ' ' ' ' 'X' ' ' ' ' 'S']\n",
      " ['X' ' ' 'X' ' ' ' ' ' ' 'D']\n",
      " ['T' ' ' ' ' '1' ' ' ' ' 'X']\n",
      " ['X' 'X' 'X' 'X' 'X' 'X' 'X']]\n",
      "[['X', 'X', 'X', 'X', 'T', 'X', 'X'], ['X', ' ', '1', '2', ' ', ' ', 'X'], ['S', ' ', ' ', ' ', 'K', ' ', 'X'], ['X', ' ', 'X', ' ', ' ', ' ', 'X'], ['X', ' ', ' ', ' ', 'P', ' ', 'K'], ['X', ' ', 'O', ' ', ' ', ' ', 'X'], ['X', 'X', 'X', 'X', 'K', 'D', 'X']]\n",
      "[]\n",
      "[['X' 'X' 'X' 'X' 'T' 'X' 'X']\n",
      " ['X' ' ' '1' '2' ' ' ' ' 'X']\n",
      " ['S' ' ' ' ' ' ' 'K' ' ' 'X']\n",
      " ['X' ' ' 'X' ' ' ' ' ' ' 'X']\n",
      " ['X' ' ' ' ' ' ' 'P' ' ' 'K']\n",
      " ['X' ' ' 'O' ' ' ' ' ' ' 'X']\n",
      " ['X' 'X' 'X' 'X' 'K' 'D' 'X']]\n",
      "[['X', 'X', 'X', 'X', 'T', 'X', 'X'], ['X', ' ', '1', '2', ' ', ' ', 'X'], ['S', ' ', ' ', ' ', 'D', ' ', 'X'], ['X', ' ', 'X', ' ', ' ', ' ', 'X'], ['X', ' ', ' ', ' ', 'P', ' ', 'X'], ['X', ' ', 'O', ' ', ' ', ' ', 'X'], ['X', 'X', 'X', 'K', 'K', 'K', 'X']]\n",
      "[]\n",
      "[['X' 'X' 'X' 'X' 'T' 'X' 'X']\n",
      " ['X' ' ' '1' '2' ' ' ' ' 'X']\n",
      " ['S' ' ' ' ' ' ' 'D' ' ' 'X']\n",
      " ['X' ' ' 'X' ' ' ' ' ' ' 'X']\n",
      " ['X' ' ' ' ' ' ' 'P' ' ' 'X']\n",
      " ['X' ' ' 'O' ' ' ' ' ' ' 'X']\n",
      " ['X' 'X' 'X' 'K' 'K' 'K' 'X']]\n",
      "[['X', 'X', 'X', 'X', 'S', 'X', 'X'], ['D', ' ', ' ', ' ', ' ', ' ', 'X'], ['X', 'K', 'X', 'X', '2', ' ', 'X'], ['P', ' ', ' ', ' ', ' ', ' ', 'X'], ['K', ' ', 'X', '1', 'O', ' ', 'X'], ['K', ' ', 'X', ' ', ' ', ' ', 'X'], ['X', 'T', 'X', 'X', 'X', 'X', 'X']]\n",
      "[]\n",
      "[['X' 'X' 'X' 'X' 'S' 'X' 'X']\n",
      " ['D' ' ' ' ' ' ' ' ' ' ' 'X']\n",
      " ['X' 'K' 'X' 'X' '2' ' ' 'X']\n",
      " ['P' ' ' ' ' ' ' ' ' ' ' 'X']\n",
      " ['K' ' ' 'X' '1' 'O' ' ' 'X']\n",
      " ['K' ' ' 'X' ' ' ' ' ' ' 'X']\n",
      " ['X' 'T' 'X' 'X' 'X' 'X' 'X']]\n",
      "[['X', 'X', 'T', 'X', 'P', 'K', 'X'], ['X', ' ', ' ', 'K', ' ', ' ', 'X'], ['X', '1', ' ', 'X', 'K', ' ', 'O'], ['X', '2', ' ', ' ', ' ', ' ', 'X'], ['X', ' ', 'X', 'X', 'X', ' ', 'X'], ['X', ' ', ' ', ' ', ' ', ' ', 'X'], ['X', 'S', 'X', 'X', 'X', 'D', 'X']]\n",
      "[]\n",
      "[['X' 'X' 'T' 'X' 'P' 'K' 'X']\n",
      " ['X' ' ' ' ' 'K' ' ' ' ' 'X']\n",
      " ['X' '1' ' ' 'X' 'K' ' ' 'O']\n",
      " ['X' '2' ' ' ' ' ' ' ' ' 'X']\n",
      " ['X' ' ' 'X' 'X' 'X' ' ' 'X']\n",
      " ['X' ' ' ' ' ' ' ' ' ' ' 'X']\n",
      " ['X' 'S' 'X' 'X' 'X' 'D' 'X']]\n",
      "[['X', 'D', 'X', 'X', 'X', 'O', 'X'], ['X', ' ', ' ', ' ', ' ', ' ', 'X'], ['X', ' ', ' ', 'X', '2', ' ', 'K'], ['S', ' ', 'X', 'X', 'X', ' ', 'P'], ['X', ' ', '1', 'X', ' ', ' ', 'K'], ['X', ' ', ' ', ' ', ' ', ' ', 'K'], ['X', 'X', 'X', 'X', 'X', 'T', 'X']]\n",
      "[]\n",
      "[['X' 'D' 'X' 'X' 'X' 'O' 'X']\n",
      " ['X' ' ' ' ' ' ' ' ' ' ' 'X']\n",
      " ['X' ' ' ' ' 'X' '2' ' ' 'K']\n",
      " ['S' ' ' 'X' 'X' 'X' ' ' 'P']\n",
      " ['X' ' ' '1' 'X' ' ' ' ' 'K']\n",
      " ['X' ' ' ' ' ' ' ' ' ' ' 'K']\n",
      " ['X' 'X' 'X' 'X' 'X' 'T' 'X']]\n",
      "[['X', 'X', 'X', 'X', 'X', 'D', 'X'], ['T', ' ', ' ', 'X', ' ', ' ', 'X'], ['X', ' ', 'K', '2', ' ', ' ', 'X'], ['X', ' ', ' ', '1', 'K', ' ', 'X'], ['X', ' ', ' ', 'P', ' ', ' ', 'X'], ['X', ' ', ' ', ' ', ' ', ' ', 'S'], ['X', 'X', 'O', 'K', 'X', 'X', 'X']]\n",
      "[]\n",
      "[['X' 'X' 'X' 'X' 'X' 'D' 'X']\n",
      " ['T' ' ' ' ' 'X' ' ' ' ' 'X']\n",
      " ['X' ' ' 'K' '2' ' ' ' ' 'X']\n",
      " ['X' ' ' ' ' '1' 'K' ' ' 'X']\n",
      " ['X' ' ' ' ' 'P' ' ' ' ' 'X']\n",
      " ['X' ' ' ' ' ' ' ' ' ' ' 'S']\n",
      " ['X' 'X' 'O' 'K' 'X' 'X' 'X']]\n"
     ]
    }
   ],
   "source": [
    "from copy import deepcopy\n",
    "from overcooked_ai_py.mdp.overcooked_mdp import OvercookedGridworld\n",
    "from overcooked_ai_py.mdp.layout_generator import Grid\n",
    "import numpy as np\n",
    "#mdp_gen_params = {\"layout_name\": 'mlg180'}\n",
    "for k in range(10):\n",
    "    mdp = OvercookedGridworld.from_layout_name('trial0_'+str(k), 'overcooked_ai_py/data/layouts')\n",
    "    base_grid = mdp.terrain_mtx\n",
    "    counter_goals = mdp.counter_goals\n",
    "    for idx, pos in enumerate(mdp.mdp_params['start_player_positions']):\n",
    "        base_grid[pos[1]][pos[0]] = str(idx+1)\n",
    "    for pos in counter_goals:\n",
    "        base_grid[pos[1]][pos[0]] = 'K'\n",
    "    base_grid = np.array(base_grid)\n",
    "    #mdp.terrain_mtx = np.rot90(base_grid)\n",
    "    #mdp.terrain_mtx = np.transpose(base_grid)\n",
    "    print(mdp.terrain_mtx)\n",
    "    rotated_counter_goals = np.argwhere(mdp.terrain_mtx == 'K')\n",
    "    mdp.counter_goals = [(x,y) for y,x in rotated_counter_goals]\n",
    "    print(mdp.counter_goals)\n",
    "    mdp.terrain_mtx = np.where(mdp.terrain_mtx==\"K\", \"X\", mdp.terrain_mtx)\n",
    "    #print(mdp.start_player_positions)\n",
    "    print(mdp.terrain_mtx)\n",
    "    #print(np.where(mdp.terrain_mtx=='1')[::-1])\n",
    "    mdp.start_player_positions[0] = np.where(mdp.terrain_mtx=='1')[::-1]\n",
    "    mdp.start_player_positions[1] = np.where(mdp.terrain_mtx=='2')[::-1]\n",
    "    #print(mdp.start_player_positions)\n",
    "    mdp.to_layout_file('overcooked_ai_py/data/layouts/trial4_'+str(k)+'.layout')\n"
   ]
  },
  {
   "cell_type": "code",
   "execution_count": 2,
   "metadata": {
    "id": "5Em0Rk4ZvLXa",
    "scrolled": true
   },
   "outputs": [
    {
     "name": "stdout",
     "output_type": "stream",
     "text": [
      "0\n",
      "[['X' 'X' 'D' 'X' 'X' 'X' 'X']\n",
      " ['X' ' ' ' ' ' ' 'X' ' ' 'X']\n",
      " ['X' ' ' ' ' 'T' ' ' ' ' 'X']\n",
      " ['X' ' ' '2' 'P' '1' ' ' 'X']\n",
      " ['X' 'S' 'X' 'X' ' ' ' ' 'X']\n",
      " ['X' 'X' ' ' ' ' ' ' 'O' 'X']\n",
      " ['X' 'X' 'X' 'X' 'X' 'X' 'X']]\n",
      "[]\n",
      "[['X' 'X' 'D' 'X' 'X' 'X' 'X']\n",
      " ['X' ' ' ' ' ' ' 'X' ' ' 'X']\n",
      " ['X' ' ' ' ' 'T' ' ' ' ' 'X']\n",
      " ['X' ' ' '2' 'P' '1' ' ' 'X']\n",
      " ['X' 'S' 'X' 'X' ' ' ' ' 'X']\n",
      " ['X' 'X' ' ' ' ' ' ' 'O' 'X']\n",
      " ['X' 'X' 'X' 'X' 'X' 'X' 'X']]\n",
      "1\n",
      "[['X' 'O' 'X' 'X' 'X' 'S' 'X']\n",
      " ['X' ' ' 'X' ' ' ' ' ' ' 'X']\n",
      " ['X' ' ' 'X' 'X' 'T' ' ' 'X']\n",
      " ['X' ' ' 'P' ' ' ' ' ' ' 'X']\n",
      " ['X' '1' 'X' ' ' ' ' ' ' 'X']\n",
      " ['X' ' ' 'X' ' ' ' ' '2' 'X']\n",
      " ['X' 'X' 'X' 'X' 'D' 'X' 'X']]\n",
      "[]\n",
      "[['X' 'O' 'X' 'X' 'X' 'S' 'X']\n",
      " ['X' ' ' 'X' ' ' ' ' ' ' 'X']\n",
      " ['X' ' ' 'X' 'X' 'T' ' ' 'X']\n",
      " ['X' ' ' 'P' ' ' ' ' ' ' 'X']\n",
      " ['X' '1' 'X' ' ' ' ' ' ' 'X']\n",
      " ['X' ' ' 'X' ' ' ' ' '2' 'X']\n",
      " ['X' 'X' 'X' 'X' 'D' 'X' 'X']]\n",
      "2\n",
      "[['X' 'T' 'X' 'X' 'X' 'X' 'X']\n",
      " ['X' ' ' ' ' ' ' ' ' ' ' 'X']\n",
      " ['X' '1' ' ' 'X' ' ' ' ' 'X']\n",
      " ['X' ' ' ' ' 'X' ' ' ' ' 'X']\n",
      " ['X' 'X' 'P' 'X' 'X' 'O' 'X']\n",
      " ['X' ' ' ' ' ' ' ' ' '2' 'X']\n",
      " ['X' 'S' 'X' 'X' 'D' 'X' 'X']]\n",
      "[]\n",
      "[['X' 'T' 'X' 'X' 'X' 'X' 'X']\n",
      " ['X' ' ' ' ' ' ' ' ' ' ' 'X']\n",
      " ['X' '1' ' ' 'X' ' ' ' ' 'X']\n",
      " ['X' ' ' ' ' 'X' ' ' ' ' 'X']\n",
      " ['X' 'X' 'P' 'X' 'X' 'O' 'X']\n",
      " ['X' ' ' ' ' ' ' ' ' '2' 'X']\n",
      " ['X' 'S' 'X' 'X' 'D' 'X' 'X']]\n",
      "3\n",
      "[['X' 'X' 'O' 'X' 'X' 'X' 'X']\n",
      " ['X' '1' ' ' ' ' ' ' 'D' 'X']\n",
      " ['X' ' ' ' ' ' ' 'X' ' ' 'X']\n",
      " ['X' ' ' 'X' 'P' 'X' '2' 'X']\n",
      " ['X' ' ' 'X' ' ' ' ' ' ' 'X']\n",
      " ['X' 'S' ' ' ' ' ' ' ' ' 'X']\n",
      " ['X' 'X' 'X' 'X' 'T' 'X' 'X']]\n",
      "[]\n",
      "[['X' 'X' 'O' 'X' 'X' 'X' 'X']\n",
      " ['X' '1' ' ' ' ' ' ' 'D' 'X']\n",
      " ['X' ' ' ' ' ' ' 'X' ' ' 'X']\n",
      " ['X' ' ' 'X' 'P' 'X' '2' 'X']\n",
      " ['X' ' ' 'X' ' ' ' ' ' ' 'X']\n",
      " ['X' 'S' ' ' ' ' ' ' ' ' 'X']\n",
      " ['X' 'X' 'X' 'X' 'T' 'X' 'X']]\n",
      "4\n",
      "[['X' 'X' 'X' 'X' 'X' 'X' 'X']\n",
      " ['X' '1' ' ' 'T' ' ' ' ' 'X']\n",
      " ['X' ' ' ' ' 'X' ' ' ' ' 'S']\n",
      " ['X' ' ' ' ' 'P' ' ' ' ' 'X']\n",
      " ['X' 'X' 'O' 'X' ' ' '2' 'X']\n",
      " ['X' ' ' ' ' ' ' ' ' ' ' 'X']\n",
      " ['X' 'X' 'X' 'X' 'D' 'X' 'X']]\n",
      "[]\n",
      "[['X' 'X' 'X' 'X' 'X' 'X' 'X']\n",
      " ['X' '1' ' ' 'T' ' ' ' ' 'X']\n",
      " ['X' ' ' ' ' 'X' ' ' ' ' 'S']\n",
      " ['X' ' ' ' ' 'P' ' ' ' ' 'X']\n",
      " ['X' 'X' 'O' 'X' ' ' '2' 'X']\n",
      " ['X' ' ' ' ' ' ' ' ' ' ' 'X']\n",
      " ['X' 'X' 'X' 'X' 'D' 'X' 'X']]\n"
     ]
    }
   ],
   "source": [
    "from copy import deepcopy\n",
    "from overcooked_ai_py.mdp.overcooked_mdp import OvercookedGridworld\n",
    "from overcooked_ai_py.mdp.layout_generator import Grid\n",
    "import numpy as np\n",
    "#mdp_gen_params = {\"layout_name\": 'mlg180'}\n",
    "for k in range(5):\n",
    "    print(k)\n",
    "    mdp = OvercookedGridworld.from_layout_name('coord_map0_'+str(k), 'overcooked_ai_py/data/layouts')\n",
    "    base_grid = mdp.terrain_mtx\n",
    "    for idx, pos in enumerate(mdp.mdp_params['start_player_positions']):\n",
    "        base_grid[pos[1]][pos[0]] = str(idx+1)\n",
    "    base_grid = np.array(base_grid)\n",
    "    #mdp.terrain_mtx = np.rot90(base_grid)\n",
    "    mdp.terrain_mtx = np.transpose(base_grid)\n",
    "    print(mdp.terrain_mtx)\n",
    "    rotated_counter_goals = np.argwhere(mdp.terrain_mtx == 'Y')\n",
    "    mdp.counter_goals = [(x,y) for y,x in rotated_counter_goals]\n",
    "    print(mdp.counter_goals)\n",
    "    mdp.terrain_mtx = np.where(mdp.terrain_mtx==\"Y\", \"Y\", mdp.terrain_mtx)\n",
    "    #print(mdp.start_player_positions)\n",
    "    print(mdp.terrain_mtx)\n",
    "    #print(np.where(mdp.terrain_mtx=='1')[::-1])\n",
    "    mdp.start_player_positions[0] = np.where(mdp.terrain_mtx=='1')[::-1]\n",
    "    mdp.start_player_positions[1] = np.where(mdp.terrain_mtx=='2')[::-1]\n",
    "    #print(mdp.start_player_positions)\n",
    "    mdp.to_layout_file('overcooked_ai_py/data/layouts/coord_map4_'+str(k)+'.layout')\n",
    "\n"
   ]
  },
  {
   "cell_type": "code",
   "execution_count": null,
   "metadata": {},
   "outputs": [],
   "source": []
  },
  {
   "cell_type": "markdown",
   "metadata": {},
   "source": [
    "## Génération des couples map/recettes"
   ]
  },
  {
   "cell_type": "code",
   "execution_count": 5,
   "metadata": {},
   "outputs": [
    {
     "name": "stdout",
     "output_type": "stream",
     "text": [
      "84\n",
      "0 0\n",
      "26 1\n",
      "27 2\n",
      "28 3\n",
      "29 5\n",
      "30 6\n",
      "31 8\n",
      "32 9\n",
      "33 10\n",
      "34 9\n",
      "35 9\n",
      "36 7\n",
      "37 6\n",
      "38 4\n",
      "39 3\n",
      "40 1\n",
      "[{'ingredients': ['onion', 'tomato', 'tomato']}, {'ingredients': ['onion', 'onion', 'onion']}, {'ingredients': ['onion', 'tomato']}, {'ingredients': ['tomato', 'tomato']}, {'ingredients': ['tomato', 'tomato', 'tomato']}, {'ingredients': ['tomato']}]\n",
      "[{'ingredients': ['onion', 'tomato', 'tomato']}, {'ingredients': ['onion', 'onion', 'onion']}, {'ingredients': ['onion', 'tomato']}, {'ingredients': ['tomato', 'tomato']}, {'ingredients': ['tomato']}, {'ingredients': ['onion', 'onion']}]\n",
      "[{'ingredients': ['onion', 'tomato', 'tomato']}, {'ingredients': ['onion', 'onion', 'onion']}, {'ingredients': ['tomato', 'tomato']}, {'ingredients': ['onion', 'onion', 'tomato']}, {'ingredients': ['onion']}, {'ingredients': ['tomato']}]\n",
      "[{'ingredients': ['onion', 'tomato', 'tomato']}, {'ingredients': ['onion', 'onion', 'onion']}, {'ingredients': ['onion']}, {'ingredients': ['tomato', 'tomato', 'tomato']}, {'ingredients': ['tomato']}, {'ingredients': ['onion', 'onion']}]\n",
      "[{'ingredients': ['onion', 'tomato', 'tomato']}, {'ingredients': ['onion', 'tomato']}, {'ingredients': ['tomato', 'tomato']}, {'ingredients': ['onion', 'onion', 'tomato']}, {'ingredients': ['onion']}, {'ingredients': ['tomato', 'tomato', 'tomato']}]\n",
      "[{'ingredients': ['onion', 'tomato', 'tomato']}, {'ingredients': ['onion', 'tomato']}, {'ingredients': ['tomato', 'tomato']}, {'ingredients': ['onion', 'onion', 'tomato']}, {'ingredients': ['onion']}, {'ingredients': ['onion', 'onion']}]\n",
      "[{'ingredients': ['onion', 'tomato', 'tomato']}, {'ingredients': ['tomato', 'tomato']}, {'ingredients': ['onion', 'onion', 'tomato']}, {'ingredients': ['tomato', 'tomato', 'tomato']}, {'ingredients': ['tomato']}, {'ingredients': ['onion', 'onion']}]\n",
      "[{'ingredients': ['onion', 'onion', 'onion']}, {'ingredients': ['onion', 'tomato']}, {'ingredients': ['tomato', 'tomato']}, {'ingredients': ['onion']}, {'ingredients': ['tomato', 'tomato', 'tomato']}, {'ingredients': ['onion', 'onion']}]\n",
      "[{'ingredients': ['onion', 'onion', 'onion']}, {'ingredients': ['onion', 'tomato']}, {'ingredients': ['onion', 'onion', 'tomato']}, {'ingredients': ['onion']}, {'ingredients': ['tomato', 'tomato', 'tomato']}, {'ingredients': ['tomato']}]\n",
      "[{'ingredients': ['onion', 'onion', 'onion']}, {'ingredients': ['onion', 'tomato']}, {'ingredients': ['onion', 'onion', 'tomato']}, {'ingredients': ['onion']}, {'ingredients': ['tomato']}, {'ingredients': ['onion', 'onion']}]\n"
     ]
    }
   ],
   "source": [
    "from overcooked_ai_py.mdp.overcooked_mdp import Recipe\n",
    "from itertools import combinations\n",
    "from copy import deepcopy\n",
    "Recipe.configure({'onion_value': 3, 'tomato_value': 2})\n",
    "Recipe.ALL_RECIPES\n",
    "RECIPES = {}\n",
    "for recipe in Recipe.ALL_RECIPES:\n",
    "    RECIPES[recipe] = recipe.value\n",
    "    #print(recipe.value)\n",
    "comb = combinations(RECIPES, 6)\n",
    "print(len(list(deepcopy(comb))))\n",
    "comb_value = {}\n",
    "for orders in comb:\n",
    "    value =0\n",
    "    for recipe in orders:\n",
    "        value += recipe.value\n",
    "    comb_value[orders] = value\n",
    "comb_value_sorted = {k: v for k, v in sorted(comb_value.items(), key=lambda item: item[1])}\n",
    "#print(comb_value_sorted)\n",
    "selected_orders = [orders for orders, value in comb_value_sorted.items() if value == 33] #170 157 178 183 186 191\n",
    "former_value = 0\n",
    "count = 0\n",
    "for key, value in comb_value_sorted.items():\n",
    "    if value != former_value :\n",
    "        print(former_value, count)\n",
    "        former_value = value\n",
    "        count = 1\n",
    "    else : \n",
    "        count += 1 \n",
    "        \n",
    "for order in selected_orders :\n",
    "    print([{\"ingredients\" : list(ingredients)\n",
    "           } for ingredients in order])\n",
    "        \n"
   ]
  },
  {
   "cell_type": "code",
   "execution_count": 2,
   "metadata": {},
   "outputs": [
    {
     "name": "stdout",
     "output_type": "stream",
     "text": [
      "/home/marin/ONERA_soft/overcooked_mlg\n"
     ]
    }
   ],
   "source": [
    "!pwd"
   ]
  },
  {
   "cell_type": "code",
   "execution_count": 4,
   "metadata": {},
   "outputs": [
    {
     "name": "stdout",
     "output_type": "stream",
     "text": [
      "{0: {'all_orders': [{'ingredients': ['tomato', 'tomato', 'tomato']}, {'ingredients': ['onion', 'onion', 'onion']}, {'ingredients': ['tomato', 'tomato']}, {'ingredients': ['onion', 'onion']}], 'agent': 'Lazy', 'layout': 'mlg'}, 1: {'all_orders': [{'ingredients': ['tomato', 'tomato', 'tomato']}, {'ingredients': ['onion', 'onion', 'onion']}, {'ingredients': ['tomato', 'tomato']}, {'ingredients': ['onion', 'onion']}], 'agent': 'Greedy', 'layout': 'mlg90'}, 2: {'all_orders': [{'ingredients': ['tomato', 'tomato', 'tomato']}, {'ingredients': ['onion', 'onion', 'onion']}, {'ingredients': ['tomato', 'tomato']}, {'ingredients': ['onion', 'onion']}], 'agent': 'Rational', 'layout': 'mlg180'}, 3: {'all_orders': [{'ingredients': ['tomato', 'tomato', 'tomato']}, {'ingredients': ['onion', 'onion', 'onion']}, {'ingredients': ['onion']}, {'ingredients': ['onion', 'tomato', 'tomato']}], 'agent': 'Lazy', 'layout': 'mlg270'}, 4: {'all_orders': [{'ingredients': ['tomato', 'tomato', 'tomato']}, {'ingredients': ['onion', 'onion', 'onion']}, {'ingredients': ['onion']}, {'ingredients': ['onion', 'tomato', 'tomato']}], 'agent': 'Greedy', 'layout': 'mlgT'}, 5: {'all_orders': [{'ingredients': ['tomato', 'tomato', 'tomato']}, {'ingredients': ['onion', 'onion', 'onion']}, {'ingredients': ['onion']}, {'ingredients': ['onion', 'tomato', 'tomato']}], 'agent': 'Rational', 'layout': 'mlg90T'}, 6: {'all_orders': [{'ingredients': ['tomato', 'tomato', 'tomato']}, {'ingredients': ['onion', 'onion', 'onion']}, {'ingredients': ['tomato']}, {'ingredients': ['onion', 'onion', 'tomato']}], 'agent': 'Lazy', 'layout': 'mlg180T'}, 7: {'all_orders': [{'ingredients': ['tomato', 'tomato', 'tomato']}, {'ingredients': ['onion', 'onion', 'onion']}, {'ingredients': ['tomato']}, {'ingredients': ['onion', 'onion', 'tomato']}], 'agent': 'Greedy', 'layout': 'mlg270T'}, 8: {'all_orders': [{'ingredients': ['tomato', 'tomato', 'tomato']}, {'ingredients': ['onion', 'onion', 'onion']}, {'ingredients': ['tomato']}, {'ingredients': ['onion', 'onion', 'tomato']}], 'agent': 'Rational', 'layout': 'mlg'}}\n",
      "{0: {'all_orders': [{'ingredients': ['tomato', 'tomato', 'tomato']}, {'ingredients': ['onion', 'tomato']}, {'ingredients': ['onion', 'onion']}, {'ingredients': ['onion', 'onion', 'tomato']}], 'agent': 'Lazy', 'layout': 'mlg'}, 1: {'all_orders': [{'ingredients': ['tomato', 'tomato', 'tomato']}, {'ingredients': ['onion', 'tomato']}, {'ingredients': ['onion', 'onion']}, {'ingredients': ['onion', 'onion', 'tomato']}], 'agent': 'Greedy', 'layout': 'mlg270T'}, 2: {'all_orders': [{'ingredients': ['tomato', 'tomato', 'tomato']}, {'ingredients': ['onion', 'tomato']}, {'ingredients': ['onion', 'onion']}, {'ingredients': ['onion', 'onion', 'tomato']}], 'agent': 'Rational', 'layout': 'mlg180T'}, 3: {'all_orders': [{'ingredients': ['onion', 'onion', 'onion']}, {'ingredients': ['tomato', 'tomato']}, {'ingredients': ['onion', 'tomato', 'tomato']}, {'ingredients': ['onion', 'tomato']}], 'agent': 'Lazy', 'layout': 'mlg90T'}, 4: {'all_orders': [{'ingredients': ['onion', 'onion', 'onion']}, {'ingredients': ['tomato', 'tomato']}, {'ingredients': ['onion', 'tomato', 'tomato']}, {'ingredients': ['onion', 'tomato']}], 'agent': 'Greedy', 'layout': 'mlgT'}, 5: {'all_orders': [{'ingredients': ['onion', 'onion', 'onion']}, {'ingredients': ['tomato', 'tomato']}, {'ingredients': ['onion', 'tomato', 'tomato']}, {'ingredients': ['onion', 'tomato']}], 'agent': 'Rational', 'layout': 'mlg270'}, 6: {'all_orders': [{'ingredients': ['tomato', 'tomato']}, {'ingredients': ['onion', 'tomato', 'tomato']}, {'ingredients': ['onion', 'onion']}, {'ingredients': ['onion', 'onion', 'tomato']}], 'agent': 'Lazy', 'layout': 'mlg180'}, 7: {'all_orders': [{'ingredients': ['tomato', 'tomato']}, {'ingredients': ['onion', 'tomato', 'tomato']}, {'ingredients': ['onion', 'onion']}, {'ingredients': ['onion', 'onion', 'tomato']}], 'agent': 'Greedy', 'layout': 'mlg90'}, 8: {'all_orders': [{'ingredients': ['tomato', 'tomato']}, {'ingredients': ['onion', 'tomato', 'tomato']}, {'ingredients': ['onion', 'onion']}, {'ingredients': ['onion', 'onion', 'tomato']}], 'agent': 'Rational', 'layout': 'mlg'}}\n"
     ]
    }
   ],
   "source": [
    "from itertools import product\n",
    "import json\n",
    "selected_orders = [orders for orders, value in comb_value_sorted.items() if value == 170 ]\n",
    "agents = [\"Lazy\", \"Greedy\", \"Rational\"]\n",
    "layoutsblock1 = [\"mlg\",\"mlg90\", \"mlg180\", \"mlg270\", \"mlgT\", \"mlg90T\", \"mlg180T\", \"mlg270T\", \"mlg\"]\n",
    "layoutsblock2 = layoutsblock1[::-1]\n",
    "agentsXrecipes = list(product(selected_orders, agents))\n",
    "for i in range(len(agentsXrecipes)):\n",
    "    agentsXrecipes[i] = list(agentsXrecipes[i])\n",
    "block1 = agentsXrecipes[:9]\n",
    "block2 = agentsXrecipes[9:]\n",
    "\n",
    "for i in range(len(block1)):\n",
    "    block1[i].append(layoutsblock1[i])\n",
    "for i in range(len(block2)):\n",
    "    block2[i].append(layoutsblock2[i])\n",
    "#print(block1)\n",
    "#print(block2)\n",
    "\n",
    "dic_block1 = {}\n",
    "for idx, trial in enumerate(block1):\n",
    "    dic_block1[idx] = {'all_orders' : [{\"ingredients\" : list(ingredients)} for ingredients in trial[0]], \"agent\" : trial[1], \"layout\": trial[2] }\n",
    "    \n",
    "dic_block2 = {}\n",
    "for idx, trial in enumerate(block2):\n",
    "    dic_block2[idx] = {'all_orders' : [{\"ingredients\" : list(ingredients)} for ingredients in trial[0]], \"agent\" : trial[1], \"layout\": trial[2] }\n",
    "    \n",
    "print(dic_block1)\n",
    "print(dic_block2)\n",
    "\n",
    "dic_trials = {\"block1\" : dic_block1, \"block2\" : dic_block2}"
   ]
  },
  {
   "cell_type": "code",
   "execution_count": 5,
   "metadata": {},
   "outputs": [],
   "source": [
    "with open(\"trials.json\", 'w') as f:\n",
    "    json.dump(dic_trials, f)\n",
    "    f.close()"
   ]
  },
  {
   "cell_type": "code",
   "execution_count": 1,
   "metadata": {},
   "outputs": [],
   "source": [
    "import numpy as np\n",
    "from copy import deepcopy\n",
    "from overcooked_ai_py.mdp.overcooked_mdp import OvercookedGridworld\n",
    "from overcooked_ai_py.mdp.layout_generator import Grid\n",
    "from overcooked_ai_py.utils import read_layout_dict"
   ]
  },
  {
   "cell_type": "code",
   "execution_count": 10,
   "metadata": {},
   "outputs": [
    {
     "name": "stdout",
     "output_type": "stream",
     "text": [
      "[['X' 'O' 'X' 'X' 'X' 'X' 'D' 'X' 'X' 'X']\n",
      " ['X' ' ' ' ' ' ' 'X' ' ' ' ' ' ' ' ' 'X']\n",
      " ['X' ' ' '1' ' ' 'X' ' ' ' ' ' ' ' ' 'X']\n",
      " ['X' ' ' ' ' ' ' 'X' ' ' ' ' ' ' ' ' 'X']\n",
      " ['X' ' ' ' ' ' ' ' ' ' ' ' ' 'X' 'X' 'X']\n",
      " ['X' ' ' ' ' ' ' '2' ' ' ' ' ' ' ' ' 'S']\n",
      " ['X' ' ' 'X' ' ' ' ' ' ' ' ' ' ' ' ' 'X']\n",
      " ['X' ' ' 'Y' ' ' ' ' ' ' ' ' ' ' ' ' 'X']\n",
      " ['X' ' ' 'Y' ' ' ' ' ' ' ' ' ' ' ' ' 'X']\n",
      " ['X' 'P' 'X' 'X' 'T' 'X' 'X' 'X' 'X' 'X']]\n"
     ]
    }
   ],
   "source": [
    "layout_dir =  'overcooked_ai_py/data/layouts/marin_II_constrained'\n",
    "base_layout_params = read_layout_dict('marinII0', layout_dir)\n",
    "grid = base_layout_params['grid']\n",
    "grid = [layout_row.strip() for layout_row in grid.split(\"\\n\")]\n",
    "grid = np.array([[c for c in row] for row in grid])\n",
    "print(grid)\n"
   ]
  },
  {
   "cell_type": "code",
   "execution_count": 17,
   "metadata": {},
   "outputs": [],
   "source": [
    "def make_grid_string(grid):\n",
    "    grid_string = \"\"\"\"\"\"\n",
    "    for line in grid:\n",
    "        for tile in line:\n",
    "            grid_string += tile\n",
    "        grid_string +='\\n'\n",
    "    grid_string += \"\\n\\t\\t\\t\\t\"\n",
    "    return grid_string"
   ]
  },
  {
   "cell_type": "code",
   "execution_count": 18,
   "metadata": {},
   "outputs": [
    {
     "name": "stdout",
     "output_type": "stream",
     "text": [
      "XOXXXXDXXX\n",
      "X   X    X\n",
      "X 1 X    X\n",
      "X   X    X\n",
      "X      XXX\n",
      "X   2    S\n",
      "X X      X\n",
      "X Y      X\n",
      "X Y      X\n",
      "XPXXTXXXXX\n",
      "\n",
      "\t\t\t\t\n"
     ]
    }
   ],
   "source": [
    "print(make_grid_string(grid))"
   ]
  }
 ],
 "metadata": {
  "colab": {
   "collapsed_sections": [],
   "name": "Copy of introduction (1).ipynb",
   "provenance": []
  },
  "kernelspec": {
   "display_name": "Python 3 (ipykernel)",
   "language": "python",
   "name": "python3"
  },
  "language_info": {
   "codemirror_mode": {
    "name": "ipython",
    "version": 3
   },
   "file_extension": ".py",
   "mimetype": "text/x-python",
   "name": "python",
   "nbconvert_exporter": "python",
   "pygments_lexer": "ipython3",
   "version": "3.9.2"
  },
  "vscode": {
   "interpreter": {
    "hash": "aee8b7b246df8f9039afb4144a1f6fd8d2ca17a180786b69acc140d282b71a49"
   }
  },
  "widgets": {
   "application/vnd.jupyter.widget-state+json": {
    "0710eb87a5354299bd7c7cac8579cb6d": {
     "model_module": "@jupyter-widgets/base",
     "model_name": "LayoutModel",
     "state": {
      "_model_module": "@jupyter-widgets/base",
      "_model_module_version": "1.2.0",
      "_model_name": "LayoutModel",
      "_view_count": null,
      "_view_module": "@jupyter-widgets/base",
      "_view_module_version": "1.2.0",
      "_view_name": "LayoutView",
      "align_content": null,
      "align_items": null,
      "align_self": null,
      "border": null,
      "bottom": null,
      "display": null,
      "flex": null,
      "flex_flow": null,
      "grid_area": null,
      "grid_auto_columns": null,
      "grid_auto_flow": null,
      "grid_auto_rows": null,
      "grid_column": null,
      "grid_gap": null,
      "grid_row": null,
      "grid_template_areas": null,
      "grid_template_columns": null,
      "grid_template_rows": null,
      "height": null,
      "justify_content": null,
      "justify_items": null,
      "left": null,
      "margin": null,
      "max_height": null,
      "max_width": null,
      "min_height": null,
      "min_width": null,
      "object_fit": null,
      "object_position": null,
      "order": null,
      "overflow": null,
      "overflow_x": null,
      "overflow_y": null,
      "padding": null,
      "right": null,
      "top": null,
      "visibility": null,
      "width": null
     }
    },
    "07aa748f673e452c99726e16610d24ab": {
     "model_module": "@jupyter-widgets/base",
     "model_name": "LayoutModel",
     "state": {
      "_model_module": "@jupyter-widgets/base",
      "_model_module_version": "1.2.0",
      "_model_name": "LayoutModel",
      "_view_count": null,
      "_view_module": "@jupyter-widgets/base",
      "_view_module_version": "1.2.0",
      "_view_name": "LayoutView",
      "align_content": null,
      "align_items": null,
      "align_self": null,
      "border": null,
      "bottom": null,
      "display": null,
      "flex": null,
      "flex_flow": null,
      "grid_area": null,
      "grid_auto_columns": null,
      "grid_auto_flow": null,
      "grid_auto_rows": null,
      "grid_column": null,
      "grid_gap": null,
      "grid_row": null,
      "grid_template_areas": null,
      "grid_template_columns": null,
      "grid_template_rows": null,
      "height": null,
      "justify_content": null,
      "justify_items": null,
      "left": null,
      "margin": null,
      "max_height": null,
      "max_width": null,
      "min_height": null,
      "min_width": null,
      "object_fit": null,
      "object_position": null,
      "order": null,
      "overflow": null,
      "overflow_x": null,
      "overflow_y": null,
      "padding": null,
      "right": null,
      "top": null,
      "visibility": null,
      "width": null
     }
    },
    "120f8074a6114cdba3e29e4a819d2839": {
     "model_module": "@jupyter-widgets/output",
     "model_name": "OutputModel",
     "state": {
      "_dom_classes": [],
      "_model_module": "@jupyter-widgets/output",
      "_model_module_version": "1.0.0",
      "_model_name": "OutputModel",
      "_view_count": null,
      "_view_module": "@jupyter-widgets/output",
      "_view_module_version": "1.0.0",
      "_view_name": "OutputView",
      "layout": "IPY_MODEL_c7cbcfd4c02040db839bd19b101df5c4",
      "msg_id": "",
      "outputs": [
       {
        "image/png": "iVBORw0KGgoAAAANSUhEUgAAAXcAAAGQCAIAAADa47eTAAAWEElEQVR4nO3de1zUdb7H8e9wB1F04iYiAjKkViigS5impu2uimveKC+r6Ra17Xbd3TrVrpid2kdrbpvt2fWauW66ym6bj/BsHdPETEmkUlMoFCMREAWEkJsI54/Zw/nxA4fLzMcZmNfzjx58Z76/3+8Lj+btlw+/+Yxhw4MKAOS42HsBAHo5UgaALFIGgCxSBoAsUgaALFIGgCxSBoAsUgaALFIGgCxSBoAsUgaArO6kTFDUHZMfSjP/t6vHLlhV3I0rAui53DozKSJ+3uh7Xkr7TbSFOcGm8Yn3rfELurns3OcHt6ZUFJ200QrbETk6WSkVm7TcL9BUWZr3efpKpVT+0Z1yVwTQbZ1Kmeix918uyR0YPaH464x2J3h4+016YPvHf3mg5PTH4bGzpzzybtpvolVzs02X+m8R8XPvXPa2UurYsTdV8SdKKfNQETSAQ+r4NyZfY1jj1bqsd56JHveT680JGT6l6Kt9hSffb6y/cjpza21liX9Y3JBRM2c+l7Xw1ZKgqHGTHti2eE3V1Cf3GAwG8yGj73lp8Zqq2aknjKExLTODTXf+8PEP7v9jzcznsvoGRBpDYyY//I92r3js2Jvtfg3A0XScMtF3LM3J+PPl4hxPH6OHt1+7c7z7Bl4pP9cyrC7/1ss3QCnVdK3h78uH+xrDPHz6/+2ZwUfffV4pg1IqYnSyX1D09qcHZe54PGHe6paZbh4+Pv1DPlw7J/fA2sCIhPLC4/vWJ+uuFTdjRdtYOXbszdik5V35xgHcIB39xmQwmMYujZuxwjwamrAwZ/+f2s6qq74YFHVHy9DXOLiu+lKfAYPKC4/X11T4BZkKvtjVUFt58eyR5uYmpdRNoSMj4udGxM9VStVWXVBKmWeez9mTd+itUVOf9b0p/KONC5RSzU3XdNfyCzSZf1Fq53EAjqeDvcyg4XcXnnx/Y4phY4rhr78Iih57f7vTinL2Dho+ZfBt09w8fIYmLPTxCyn79rOWZy8X54bFJLl79wuMTDQYXJRSFcWn8jK3bnncb+uTN6W/OqFlZnjsrObmpg/WTDv+we+iEhYqpQwurrprVZbmtbuG6z0OwL46SJmbx/3kbPbfzV/XfVfaUFt5U1hs22n1NRV71yWPmfXbRa+V3TLp53v+PMu8ZzE7m51WX1Mx/5XC+JkrG6/WKqXOHNl2tbbqvpe/uef57MCIhJaZRbn7QobdtWBV8fAJD+ceWGcMjWn7x/LP018YOXKZ7sGRI5d9vvvFTn/XAG4cQ4/r+xs5et6dy7YpTdHXHDoHNi/Kz9phz5UBaE+n/pLtUPKPpimDi1IqLim1X2BUVenpA5sXKaWIGMAx9by9DICehfcxAZBFygCQRcoAkEXKAJBFygCQRcoAkEXKAJBFygCQRcoAkNUzUoZuwUDP1cH7mAaE3DJnxZdKqat11UW5ez/auKCxocaGl7+R3YIB2EXHe5mSvIMbUwxv/zLoWmND5Jj7bHhtc7fgrHee/esvAnIy1k555F31f/06AfQanX1PtsHg4uruVX+lXBkMifetMSUuqa++9GnaL7/5/J0ho2beOvkJb7+B3v2CMnc8kXd4S3jcnOCocZk7n/T0vWn6L/a/88Jt7t79JqekBZvGVxSd3Lfh3u8u5itNt2Cl1OnMrcPGp/iHxfUZEDpq2q99jYM/XDt3xMRHBsckXTz7qbZb8Ii7Hq0uK9i/aWFf/wjzzL3rkkdNe77l5O6evrFJqXvXzhH6kQHoko5TJtg07oH1zUqp0rNHCk++P/R7C/oHD9vxbLhP/5Af/Hx30Vf7lFLuXv3+e/WkfoGm25N/n3d4S9uTBEWONTf07dM/JDAiwZwylrsFh9461dwt2C/45u//7D2l6RYcED4mYd7qUx/90TwzICJBe/IzR7a37RYMwF46TpmSvIPpq8a7uLrHzkiNTVpuUIb8ozvrr5TXXykvK/zCLyhaKXXxmyM1lcWNDTVuHn3aPUnbhr7qxnYLBmAvnf4bk8Hg4uru7tW3rPBYRNwcT58BA0Ju8Q+Lr7p4pu3cxvrq/gNHuHn4DBo2xfxI24a+6sZ2CwZgL539jamxofbi2U8/2rSoprIoKDIx+aUzjQ1XPnn7p/XVZW0PKf46Y+TUZxeuLr1w+qD5kaLcfROWbon/0crq8oL9mxaZHzR3Cx47/41+QdHl575o2y14cMz0+a8UXjz7aUu34KDIxPte/qahtvKz91IbaivbPbkxNCZuxooP/zzbyh8NAJugVx4AWT3jrjwAPRcpA0AWKQNAFikDQBYpA0AWKQNAFikDQBYpA0AWKQNAFikDQBYpA0AWKQNAVkfvyTYYEuasMiUucXF1P/3pXw/veNxWrVtuT37NlLik7krZwa0PFn+13ybnBOCAOtjLDL51mn/4mLTUYTuei+hjHBw9dqlNrhoQkRAUNW7nr6MObXsk8d7XbXJOAI6pg5SprSrx6htgDLm1oa4q483FBV+8q5RKvPf1JW9Uz12ZGxiZqAyGxPlvLF5Tde/L+eGxs5VSQ0bNnPlc1sJXSwIiEkbf89LiNVWzU08YQ2OMoTGTH/6H+bQDQm45dyK9/kr5+VN7PLz7m5tUAeiVOviN6VJB9uG/PTZy6nOTh8TnHd5y5J1nTImLff3Dtz0dYhx0W9yM1LzMrW3bAJvb8YaMuFvbpvdfr93d0o7X3atv49U689fXrjW4eng31l8R/T4B2EsHKePVN/Bifub7r//Ay9d//JI3oxPv9/UPL/hi19XaqgunP3n/9R+OmfXbtm2Aze1427bpbanpNNZXe/Yxmr92dfWw7Wc8AXAoHfyqYkpcPH7xRi9f/8artfVXyjz7GC8X54TFzHD37hcYefu4H2+w0Aa4bZvelna8ZeeODRk508vXf9CIu+trylVzs9x3CMC+OtjLnNz7ekLy7+e++JWLi1vhl/86tf+/rjXUDoyeOP+331ZXnDvw1tJL32Zfrw2wrk2vq5tnSzveSwVHi3I+nPefefXVZQe2LJP9FgHYFX1/AcjijzsAZJEyAGSRMgBkkTIAZJEyAGSRMgBkkTIAZJEyAGSRMgBkkTIAZJEyAGSRMgBkdfCe7KRffRxsGtcyPJ/z4ZF/PD1i4s8+/ssDwgtrh8HVbfby4yf3vp57YJ0yGMYtWj/0e/MvF5/6aOPCqtK8G78eAJ3RQcqkrxqvlBo17flrV+tO7FltftDKiFmwqnjbrwZ248DbpjylmpvMX4fHzvY1hm1/elBUwqLbk1/7nz8mWbMkAHI6+gyDNoKi7rh18hNnsv52291PefcLdvf0PbFndXjcnAEDR3x9+K3D2x9VSo2+56URdz1aXVawf9PC78q+mZySFmwaX1F0ct+Ge2f/5pi7l+/8V85tf2awdlpf/4iYHzzj0z/Ezd07c+eTZ45sM4bGxCal7l07x3xdn/6DBkZPOJudZh72D7q54It/NtRWnsr408ip/2HDnwgA2+p+Xaa56dqul0ZnbF4yatrzBzYv2fnrqMj4ZHdP34jRyeZ2v5k7Hk+YtzoocqxP/5AP187JPbA2MCJhy2N9aypLtj8zWDdNKdXUWP/PF0d98Ma0hLmvGlzdyguPt/QJVkolzF115J3/T5OK4lNhI2d6ePsNHTPfzaOPNT8CAKK6vJdpUVZ4rL6m4mJBVnX5t5dLcpVSNZVFbp59dO1+z+fsyTv01qipz/reFP7RxgUth7ftCny5JLeh5vKlguzqinPefYNqLp9v6RMcMmxyXfWlivMnIuJmmx8pOLYrIm7O/FcKz+fsuVJxrtvfBQBp3U+Z6zG3+z20/ecuLm5efQPCY2c1Nzd9sGaaaez9UQkLL5w+6Orm6ebZRzetf/Awv6CbPX0G9A2I9DWG1X53QSllcHE1B82tU54Mi5l+y12Pmi/R3NT41cFN+9/8cZ8BobFJqRfPHrH5dwHAVmyfMrp2v98eT5+wdEv8j1ZWlxfs37RIKVV69tM5qV/ueD5SO62httLL13/W8mOubp6ZaU81X2s0hsa09AluKe7GzUitqSz56uAmpVTcjBVDv7cg79Bbxz/4nc2/CwC24ih9f4eMmhl6yw8/efun9l4IABvjrjwAshxlLwOgt2IvA0AWKQNAFikDQBYpA0AWKQNAFikDQBYpA0AWKQNAFikDQBYpA0AWKQNAFikDQBYpA0AWKQNAFikDQBYpA0AWKQNAlluTwd5LANCrsZcBIIuUASCLlAEgi5QBIIuUASCLlAEgi5QBIIuUASCLlAEgi5QBIIuUASCLlAEgi5QBIIuUASDLzd4LgLWyVYq9lyArXq239xJgFfYyAGSRMgBkkTIAZJEyAGRR/e1t1q+3VCs1mUw3bCXdNmnSJHsvAbbEXgaALFIGgCxSBoAsUgaALFIGgCxSBoAsUgaALFIGgCxSBoAsUgaALFIGgCxSBoAsUgaALFIGgCw6P/Q2KSm9vA0wehz2MgBkkTIAZJEyAGSRMgBkkTIAZJEyAGSRMgBkkTIAZJEyAGSRMgBkkTIAZJEyAGSRMgBkkTIAZJEyAGSRMgBkkTIAZJEyAGSRMgBkkTIAZJEyAGSRMgBkkTIAZJEyAGSRMgBkkTIAZJEyAGSRMgBkkTIAZLnZewGwVrxab+8lAJawlwEgi5QBIIuUASCLlAEgi5QBIIuUASCLlAEgi5QBIIuUASCrZ9z7G5+yTjvMXv9Q54+NSVrX8SSnMXa3wS7XPTS92S7X7RGOp3fh/2d7seY1yF4GgCxSBoAsUgaALFIGgCxbVn+tqQ95+Bq1wyF3LrYw2TTtCe2w4MBftMOG6vLOXxfoTRzzNcheBoAsUgaALFIGgCxSBoCsrlV/5epDQya0OlW/QcMtnLlfaKtnwycu1Q6/Tl9t4Vgnp7sHV+5WYG72FdITX4PsZQDIImUAyCJlAMgiZQDI6lr1V64+5BsY2aWVtDo2uPvHAj1LT3wNspcBIIuUASCLlAEgi5QBIKtr1V+5+lB1ab52aLmmpT+2JL/jSWhPVvx6oTNfVQ8KndnJ9cTXIHsZALJIGQCySBkAskgZALK6Vv2Vqw8VZLR6T7ruBkffoFZVq+oLrU5VkLG188uArYx5KFs7zFoXb6+VOJWe+BpkLwNAFikDQBYpA0AWKQNAVgfVX92HSJ3Y9qx2aMP6kK4Fad7uP3R+VQ3VZRYmQ4jlcq97yQbt8GowtwJ3Uy94DbKXASCLlAEgi5QBIIuUASDLrUsfIqV7VnezoK56ZA0bfrQV7IJyb+f1+tcgexkAskgZALJIGQCySBkAsgz7drUq23TpjeTfFX2tHeo+RMoapuk2W5WXirbNmnqj22ek2OpULi6t/sU6tGutrc7c69U252iHve81yF4GgCxSBoAsUgaALFIGgCw3uQ+R0tG9VTx7/UOWzmy7VTWWdPtM6IKmpibtMPM9qc+T6316/WuQvQwAWaQMAFmkDABZpAwAWW42/BApG75V3Iar4t7fbsveMEY7jH8wy8Jk7v3ttl7/GmQvA0AWKQNAFikDQBYpA0CWYfNTrctFVnyI1JAJP9YOrXmr+Df7N9tqVcMmvtz5ZTgbG3Z+0OHe387L3W+zD3JzzNcgexkAskgZALJIGQCySBkAstx0HxOVt/sP3T6XDd8qbsNVwQJdjbZLxWDqu7bS61+D7GUAyCJlAMgiZQDIImUAyHKz4bls+FZx2IWue0OX0OrBETjma5C9DABZpAwAWaQMAFmkDABZtqz+FmS06htqzVvFYRdUcHs6x3wNspcBIIuUASCLlAEgi5QBIMuW1V/aNTi+sSWf2XsJSil1KDjO3kvonRzzNcheBoAsUgaALFIGgCxSBoAsUgaALFIGgCxSBoAsUgaALFIGgCxb3vsLx6e76faG3QrMzb7OjL0MAFmkDABZpAwAWaQMAFlWVX+Hjk628Gzc9OXaoV+gSTusLM3TDj/bvdLCqc4c3dn11QFwCOxlAMgiZQDIImUAyCJlAMjqWvU3Mn6udjhh6dsWJpeXt2pBer74gnbo6RnQ+VPpUAy2lSyVfWMudFVx76/zYi8DQBYpA0AWKQNAFikDQBadH3BdYx5qVRvOWhff+WeBFuxlAMgiZQDIImUAyCJlAMjqWvU3PmmFdqi7u1enrq6u889aPpWuiQT3/t4Ylgu6lHvRSexlAMgiZQDIImUAyCJlAMjqWvVX17u3qKTUVutoaGiw8Kx/sMnCswAcGXsZALJIGQCySBkAskgZALK6Vv3VfVSbh0fA9Waqju791fHw8Oj8ddFtt89Iaf1ASvvz2uPi0urfpKampm4vI/O99d0+Fj0OexkAskgZALJIGQCySBkAsrpW/c1Of0E7nLhsm4XJumYO9fX12qGnp6d2aDQaLZwqY/NjnV0ixFhT7oUzYy8DQBYpA0AWKQNAFikDQBaf+uZcsjeM0Q7jH8zq/LHW3Puru64KfrDzx6KnYy8DQBYpA0AWKQNAFikDQFbXqr/52WnaocFgKaTik1K1Q/+QKO2wqvS0dmj57t4zR3d0domw6KoVZVdr7v215rro6djLAJBFygCQRcoAkEXKAJBl1b2/louylGwdn67/bpuuwDabDGfGXgaALFIGgCxSBoAsUgaALDo/OLWxMx9u/cDD7c9TSil1aNda7VDXCMIy3bFwKuxlAMgiZQDIImUAyCJlAMii+uvUrCnKUtBFJ7GXASCLlAEgi5QBIIuUASCr91d/j6c/ZOHZyNHJ2mH89OXaoV+gSTusLM3TDrN3r9QO84/u7OYSYVHYrH/ZewmwCnsZALJIGQCySBkAskgZALJ6f/VXJzJurnY4cenb2mF5ebl2eL74gnbo6Rlg4VgdisGAGXsZALJIGQCySBkAskgZALKcrvobP2OFdqgr99bV1Vk4Vves7ljdfcNUfwEz9jIAZJEyAGSRMgBkkTIAZDld9VfXzKGopLTbp2poaNAO/YNN15sJODP2MgBkkTIAZJEyAGSRMgBkOV31V9e718OjVTMHy/f+6nh4eFg4sw4NhuG02MsAkEXKAJBFygCQRcoAkOV01d/s9Be0w4nLtmmHumYO9fX12qGnp6d2aDQatcOMzY9phzQYBszYywCQRcoAkEXKAJBFygCQ5XTV3/zsNO3QYGiVs/FJqdqhf0iUdlhVelo71JV7zxzdoR3OS/1SO6TBMJwWexkAskgZALJIGQCySBkAspyu+qujK9nqhtagwTBgxl4GgCxSBoAsUgaALFIGgCxnr/7q2LA7r70aDAOOhr0MAFmkDABZpAwAWaQMAFnOXv2V686bs/8N7XD4xEctnNmaBsOAg2MvA0AWKQNAFikDQBYpA0CWs1d/42es0A5t2J03dMT3tcOMzYtaXdd2DYYBB8deBoAsUgaALFIGgCxSBoAsZ6/+3rDuvHINhgEHx14GgCxSBoAsUgaALFIGgCxnr/7SnReQxl4GgCxSBoAsUgaALFIGgCxnr/5mp7+gHU5ctk07pDsvYD32MgBkkTIAZJEyAGSRMgBkOXv1Nz87TTs0GFrFLt15AeuxlwEgi5QBIIuUASCLlAEg638BKcrVNmotbjQAAAAASUVORK5CYII=\n",
        "metadata": {
         "tags": []
        },
        "output_type": "display_data",
        "text/plain": "<IPython.core.display.Image object>"
       }
      ]
     }
    },
    "149b4f12e115416c804d7a6bf4dacf4e": {
     "model_module": "@jupyter-widgets/controls",
     "model_name": "VBoxModel",
     "state": {
      "_dom_classes": [
       "widget-interact"
      ],
      "_model_module": "@jupyter-widgets/controls",
      "_model_module_version": "1.5.0",
      "_model_name": "VBoxModel",
      "_view_count": null,
      "_view_module": "@jupyter-widgets/controls",
      "_view_module_version": "1.5.0",
      "_view_name": "VBoxView",
      "box_style": "",
      "children": [
       "IPY_MODEL_7c21628d26454043b76d04601b139fc4",
       "IPY_MODEL_120f8074a6114cdba3e29e4a819d2839"
      ],
      "layout": "IPY_MODEL_3352882ba9204759a8d20e9e78ce95fb"
     }
    },
    "17e8ffa9d7fd4752b65ab4ce028ac64d": {
     "model_module": "@jupyter-widgets/output",
     "model_name": "OutputModel",
     "state": {
      "_dom_classes": [],
      "_model_module": "@jupyter-widgets/output",
      "_model_module_version": "1.0.0",
      "_model_name": "OutputModel",
      "_view_count": null,
      "_view_module": "@jupyter-widgets/output",
      "_view_module_version": "1.0.0",
      "_view_name": "OutputView",
      "layout": "IPY_MODEL_cd4a93e5ce96479eba72e3b6b68f1354",
      "msg_id": "",
      "outputs": [
       {
        "image/png": "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\n",
        "metadata": {
         "tags": []
        },
        "output_type": "display_data",
        "text/plain": "<IPython.core.display.Image object>"
       }
      ]
     }
    },
    "2404aff41d3348d9b5567d52474eb30e": {
     "model_module": "@jupyter-widgets/controls",
     "model_name": "SliderStyleModel",
     "state": {
      "_model_module": "@jupyter-widgets/controls",
      "_model_module_version": "1.5.0",
      "_model_name": "SliderStyleModel",
      "_view_count": null,
      "_view_module": "@jupyter-widgets/base",
      "_view_module_version": "1.2.0",
      "_view_name": "StyleView",
      "description_width": "",
      "handle_color": null
     }
    },
    "28bafee3597f4b08a3f1b86427a51345": {
     "model_module": "@jupyter-widgets/output",
     "model_name": "OutputModel",
     "state": {
      "_dom_classes": [],
      "_model_module": "@jupyter-widgets/output",
      "_model_module_version": "1.0.0",
      "_model_name": "OutputModel",
      "_view_count": null,
      "_view_module": "@jupyter-widgets/output",
      "_view_module_version": "1.0.0",
      "_view_name": "OutputView",
      "layout": "IPY_MODEL_0710eb87a5354299bd7c7cac8579cb6d",
      "msg_id": "",
      "outputs": [
       {
        "image/png": "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\n",
        "metadata": {
         "tags": []
        },
        "output_type": "display_data",
        "text/plain": "<IPython.core.display.Image object>"
       }
      ]
     }
    },
    "321d93129ab2448f9fcb517598641b35": {
     "model_module": "@jupyter-widgets/controls",
     "model_name": "VBoxModel",
     "state": {
      "_dom_classes": [
       "widget-interact"
      ],
      "_model_module": "@jupyter-widgets/controls",
      "_model_module_version": "1.5.0",
      "_model_name": "VBoxModel",
      "_view_count": null,
      "_view_module": "@jupyter-widgets/controls",
      "_view_module_version": "1.5.0",
      "_view_name": "VBoxView",
      "box_style": "",
      "children": [
       "IPY_MODEL_8baf832fb8304eb9b7843cdc5b543ea9",
       "IPY_MODEL_28bafee3597f4b08a3f1b86427a51345"
      ],
      "layout": "IPY_MODEL_37f1e42f7d274acfbd45a488ecdfdbef"
     }
    },
    "3352882ba9204759a8d20e9e78ce95fb": {
     "model_module": "@jupyter-widgets/base",
     "model_name": "LayoutModel",
     "state": {
      "_model_module": "@jupyter-widgets/base",
      "_model_module_version": "1.2.0",
      "_model_name": "LayoutModel",
      "_view_count": null,
      "_view_module": "@jupyter-widgets/base",
      "_view_module_version": "1.2.0",
      "_view_name": "LayoutView",
      "align_content": null,
      "align_items": null,
      "align_self": null,
      "border": null,
      "bottom": null,
      "display": null,
      "flex": null,
      "flex_flow": null,
      "grid_area": null,
      "grid_auto_columns": null,
      "grid_auto_flow": null,
      "grid_auto_rows": null,
      "grid_column": null,
      "grid_gap": null,
      "grid_row": null,
      "grid_template_areas": null,
      "grid_template_columns": null,
      "grid_template_rows": null,
      "height": null,
      "justify_content": null,
      "justify_items": null,
      "left": null,
      "margin": null,
      "max_height": null,
      "max_width": null,
      "min_height": null,
      "min_width": null,
      "object_fit": null,
      "object_position": null,
      "order": null,
      "overflow": null,
      "overflow_x": null,
      "overflow_y": null,
      "padding": null,
      "right": null,
      "top": null,
      "visibility": null,
      "width": null
     }
    },
    "34306f2de5f1403d8b61fb20947be3ab": {
     "model_module": "@jupyter-widgets/controls",
     "model_name": "SliderStyleModel",
     "state": {
      "_model_module": "@jupyter-widgets/controls",
      "_model_module_version": "1.5.0",
      "_model_name": "SliderStyleModel",
      "_view_count": null,
      "_view_module": "@jupyter-widgets/base",
      "_view_module_version": "1.2.0",
      "_view_name": "StyleView",
      "description_width": "",
      "handle_color": null
     }
    },
    "37f1e42f7d274acfbd45a488ecdfdbef": {
     "model_module": "@jupyter-widgets/base",
     "model_name": "LayoutModel",
     "state": {
      "_model_module": "@jupyter-widgets/base",
      "_model_module_version": "1.2.0",
      "_model_name": "LayoutModel",
      "_view_count": null,
      "_view_module": "@jupyter-widgets/base",
      "_view_module_version": "1.2.0",
      "_view_name": "LayoutView",
      "align_content": null,
      "align_items": null,
      "align_self": null,
      "border": null,
      "bottom": null,
      "display": null,
      "flex": null,
      "flex_flow": null,
      "grid_area": null,
      "grid_auto_columns": null,
      "grid_auto_flow": null,
      "grid_auto_rows": null,
      "grid_column": null,
      "grid_gap": null,
      "grid_row": null,
      "grid_template_areas": null,
      "grid_template_columns": null,
      "grid_template_rows": null,
      "height": null,
      "justify_content": null,
      "justify_items": null,
      "left": null,
      "margin": null,
      "max_height": null,
      "max_width": null,
      "min_height": null,
      "min_width": null,
      "object_fit": null,
      "object_position": null,
      "order": null,
      "overflow": null,
      "overflow_x": null,
      "overflow_y": null,
      "padding": null,
      "right": null,
      "top": null,
      "visibility": null,
      "width": null
     }
    },
    "4174ad6815e64411a5010101f983ec5b": {
     "model_module": "@jupyter-widgets/base",
     "model_name": "LayoutModel",
     "state": {
      "_model_module": "@jupyter-widgets/base",
      "_model_module_version": "1.2.0",
      "_model_name": "LayoutModel",
      "_view_count": null,
      "_view_module": "@jupyter-widgets/base",
      "_view_module_version": "1.2.0",
      "_view_name": "LayoutView",
      "align_content": null,
      "align_items": null,
      "align_self": null,
      "border": null,
      "bottom": null,
      "display": null,
      "flex": null,
      "flex_flow": null,
      "grid_area": null,
      "grid_auto_columns": null,
      "grid_auto_flow": null,
      "grid_auto_rows": null,
      "grid_column": null,
      "grid_gap": null,
      "grid_row": null,
      "grid_template_areas": null,
      "grid_template_columns": null,
      "grid_template_rows": null,
      "height": null,
      "justify_content": null,
      "justify_items": null,
      "left": null,
      "margin": null,
      "max_height": null,
      "max_width": null,
      "min_height": null,
      "min_width": null,
      "object_fit": null,
      "object_position": null,
      "order": null,
      "overflow": null,
      "overflow_x": null,
      "overflow_y": null,
      "padding": null,
      "right": null,
      "top": null,
      "visibility": null,
      "width": null
     }
    },
    "44020933482d4927b2460e0230ee35b4": {
     "model_module": "@jupyter-widgets/controls",
     "model_name": "IntSliderModel",
     "state": {
      "_dom_classes": [],
      "_model_module": "@jupyter-widgets/controls",
      "_model_module_version": "1.5.0",
      "_model_name": "IntSliderModel",
      "_view_count": null,
      "_view_module": "@jupyter-widgets/controls",
      "_view_module_version": "1.5.0",
      "_view_name": "IntSliderView",
      "continuous_update": true,
      "description": "timestep",
      "description_tooltip": null,
      "disabled": false,
      "layout": "IPY_MODEL_4174ad6815e64411a5010101f983ec5b",
      "max": 99,
      "min": 0,
      "orientation": "horizontal",
      "readout": true,
      "readout_format": "d",
      "step": 1,
      "style": "IPY_MODEL_44a8662250994732bcfea716d2259a69",
      "value": 0
     }
    },
    "44a8662250994732bcfea716d2259a69": {
     "model_module": "@jupyter-widgets/controls",
     "model_name": "SliderStyleModel",
     "state": {
      "_model_module": "@jupyter-widgets/controls",
      "_model_module_version": "1.5.0",
      "_model_name": "SliderStyleModel",
      "_view_count": null,
      "_view_module": "@jupyter-widgets/base",
      "_view_module_version": "1.2.0",
      "_view_name": "StyleView",
      "description_width": "",
      "handle_color": null
     }
    },
    "44fe882bbf554bea9ed8d15c1eaafa99": {
     "model_module": "@jupyter-widgets/output",
     "model_name": "OutputModel",
     "state": {
      "_dom_classes": [],
      "_model_module": "@jupyter-widgets/output",
      "_model_module_version": "1.0.0",
      "_model_name": "OutputModel",
      "_view_count": null,
      "_view_module": "@jupyter-widgets/output",
      "_view_module_version": "1.0.0",
      "_view_name": "OutputView",
      "layout": "IPY_MODEL_07aa748f673e452c99726e16610d24ab",
      "msg_id": "",
      "outputs": [
       {
        "image/png": "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\n",
        "metadata": {
         "tags": []
        },
        "output_type": "display_data",
        "text/plain": "<IPython.core.display.Image object>"
       }
      ]
     }
    },
    "4cb174a24041475ca520a8cb03f8f518": {
     "model_module": "@jupyter-widgets/controls",
     "model_name": "SliderStyleModel",
     "state": {
      "_model_module": "@jupyter-widgets/controls",
      "_model_module_version": "1.5.0",
      "_model_name": "SliderStyleModel",
      "_view_count": null,
      "_view_module": "@jupyter-widgets/base",
      "_view_module_version": "1.2.0",
      "_view_name": "StyleView",
      "description_width": "",
      "handle_color": null
     }
    },
    "7c21628d26454043b76d04601b139fc4": {
     "model_module": "@jupyter-widgets/controls",
     "model_name": "IntSliderModel",
     "state": {
      "_dom_classes": [],
      "_model_module": "@jupyter-widgets/controls",
      "_model_module_version": "1.5.0",
      "_model_name": "IntSliderModel",
      "_view_count": null,
      "_view_module": "@jupyter-widgets/controls",
      "_view_module_version": "1.5.0",
      "_view_name": "IntSliderView",
      "continuous_update": true,
      "description": "timestep",
      "description_tooltip": null,
      "disabled": false,
      "layout": "IPY_MODEL_df93226f4c5a495f9f1166005d289d0f",
      "max": 99,
      "min": 0,
      "orientation": "horizontal",
      "readout": true,
      "readout_format": "d",
      "step": 1,
      "style": "IPY_MODEL_34306f2de5f1403d8b61fb20947be3ab",
      "value": 49
     }
    },
    "82013d364b094fcc88639846eee3d492": {
     "model_module": "@jupyter-widgets/base",
     "model_name": "LayoutModel",
     "state": {
      "_model_module": "@jupyter-widgets/base",
      "_model_module_version": "1.2.0",
      "_model_name": "LayoutModel",
      "_view_count": null,
      "_view_module": "@jupyter-widgets/base",
      "_view_module_version": "1.2.0",
      "_view_name": "LayoutView",
      "align_content": null,
      "align_items": null,
      "align_self": null,
      "border": null,
      "bottom": null,
      "display": null,
      "flex": null,
      "flex_flow": null,
      "grid_area": null,
      "grid_auto_columns": null,
      "grid_auto_flow": null,
      "grid_auto_rows": null,
      "grid_column": null,
      "grid_gap": null,
      "grid_row": null,
      "grid_template_areas": null,
      "grid_template_columns": null,
      "grid_template_rows": null,
      "height": null,
      "justify_content": null,
      "justify_items": null,
      "left": null,
      "margin": null,
      "max_height": null,
      "max_width": null,
      "min_height": null,
      "min_width": null,
      "object_fit": null,
      "object_position": null,
      "order": null,
      "overflow": null,
      "overflow_x": null,
      "overflow_y": null,
      "padding": null,
      "right": null,
      "top": null,
      "visibility": null,
      "width": null
     }
    },
    "8baf832fb8304eb9b7843cdc5b543ea9": {
     "model_module": "@jupyter-widgets/controls",
     "model_name": "IntSliderModel",
     "state": {
      "_dom_classes": [],
      "_model_module": "@jupyter-widgets/controls",
      "_model_module_version": "1.5.0",
      "_model_name": "IntSliderModel",
      "_view_count": null,
      "_view_module": "@jupyter-widgets/controls",
      "_view_module_version": "1.5.0",
      "_view_name": "IntSliderView",
      "continuous_update": true,
      "description": "timestep",
      "description_tooltip": null,
      "disabled": false,
      "layout": "IPY_MODEL_b1013f779da445fb9a44b475b6eea969",
      "max": 99,
      "min": 0,
      "orientation": "horizontal",
      "readout": true,
      "readout_format": "d",
      "step": 1,
      "style": "IPY_MODEL_4cb174a24041475ca520a8cb03f8f518",
      "value": 0
     }
    },
    "8cf069e5396843309a6d00ed371b23a9": {
     "model_module": "@jupyter-widgets/base",
     "model_name": "LayoutModel",
     "state": {
      "_model_module": "@jupyter-widgets/base",
      "_model_module_version": "1.2.0",
      "_model_name": "LayoutModel",
      "_view_count": null,
      "_view_module": "@jupyter-widgets/base",
      "_view_module_version": "1.2.0",
      "_view_name": "LayoutView",
      "align_content": null,
      "align_items": null,
      "align_self": null,
      "border": null,
      "bottom": null,
      "display": null,
      "flex": null,
      "flex_flow": null,
      "grid_area": null,
      "grid_auto_columns": null,
      "grid_auto_flow": null,
      "grid_auto_rows": null,
      "grid_column": null,
      "grid_gap": null,
      "grid_row": null,
      "grid_template_areas": null,
      "grid_template_columns": null,
      "grid_template_rows": null,
      "height": null,
      "justify_content": null,
      "justify_items": null,
      "left": null,
      "margin": null,
      "max_height": null,
      "max_width": null,
      "min_height": null,
      "min_width": null,
      "object_fit": null,
      "object_position": null,
      "order": null,
      "overflow": null,
      "overflow_x": null,
      "overflow_y": null,
      "padding": null,
      "right": null,
      "top": null,
      "visibility": null,
      "width": null
     }
    },
    "b1013f779da445fb9a44b475b6eea969": {
     "model_module": "@jupyter-widgets/base",
     "model_name": "LayoutModel",
     "state": {
      "_model_module": "@jupyter-widgets/base",
      "_model_module_version": "1.2.0",
      "_model_name": "LayoutModel",
      "_view_count": null,
      "_view_module": "@jupyter-widgets/base",
      "_view_module_version": "1.2.0",
      "_view_name": "LayoutView",
      "align_content": null,
      "align_items": null,
      "align_self": null,
      "border": null,
      "bottom": null,
      "display": null,
      "flex": null,
      "flex_flow": null,
      "grid_area": null,
      "grid_auto_columns": null,
      "grid_auto_flow": null,
      "grid_auto_rows": null,
      "grid_column": null,
      "grid_gap": null,
      "grid_row": null,
      "grid_template_areas": null,
      "grid_template_columns": null,
      "grid_template_rows": null,
      "height": null,
      "justify_content": null,
      "justify_items": null,
      "left": null,
      "margin": null,
      "max_height": null,
      "max_width": null,
      "min_height": null,
      "min_width": null,
      "object_fit": null,
      "object_position": null,
      "order": null,
      "overflow": null,
      "overflow_x": null,
      "overflow_y": null,
      "padding": null,
      "right": null,
      "top": null,
      "visibility": null,
      "width": null
     }
    },
    "b2ac99e396314df0beabc3e87bc6328f": {
     "model_module": "@jupyter-widgets/controls",
     "model_name": "VBoxModel",
     "state": {
      "_dom_classes": [
       "widget-interact"
      ],
      "_model_module": "@jupyter-widgets/controls",
      "_model_module_version": "1.5.0",
      "_model_name": "VBoxModel",
      "_view_count": null,
      "_view_module": "@jupyter-widgets/controls",
      "_view_module_version": "1.5.0",
      "_view_name": "VBoxView",
      "box_style": "",
      "children": [
       "IPY_MODEL_44020933482d4927b2460e0230ee35b4",
       "IPY_MODEL_17e8ffa9d7fd4752b65ab4ce028ac64d"
      ],
      "layout": "IPY_MODEL_82013d364b094fcc88639846eee3d492"
     }
    },
    "b5083b489d174223bf3968f6a353e806": {
     "model_module": "@jupyter-widgets/base",
     "model_name": "LayoutModel",
     "state": {
      "_model_module": "@jupyter-widgets/base",
      "_model_module_version": "1.2.0",
      "_model_name": "LayoutModel",
      "_view_count": null,
      "_view_module": "@jupyter-widgets/base",
      "_view_module_version": "1.2.0",
      "_view_name": "LayoutView",
      "align_content": null,
      "align_items": null,
      "align_self": null,
      "border": null,
      "bottom": null,
      "display": null,
      "flex": null,
      "flex_flow": null,
      "grid_area": null,
      "grid_auto_columns": null,
      "grid_auto_flow": null,
      "grid_auto_rows": null,
      "grid_column": null,
      "grid_gap": null,
      "grid_row": null,
      "grid_template_areas": null,
      "grid_template_columns": null,
      "grid_template_rows": null,
      "height": null,
      "justify_content": null,
      "justify_items": null,
      "left": null,
      "margin": null,
      "max_height": null,
      "max_width": null,
      "min_height": null,
      "min_width": null,
      "object_fit": null,
      "object_position": null,
      "order": null,
      "overflow": null,
      "overflow_x": null,
      "overflow_y": null,
      "padding": null,
      "right": null,
      "top": null,
      "visibility": null,
      "width": null
     }
    },
    "ba737ebc0d4b4b658dd3e13fd072716e": {
     "model_module": "@jupyter-widgets/controls",
     "model_name": "IntSliderModel",
     "state": {
      "_dom_classes": [],
      "_model_module": "@jupyter-widgets/controls",
      "_model_module_version": "1.5.0",
      "_model_name": "IntSliderModel",
      "_view_count": null,
      "_view_module": "@jupyter-widgets/controls",
      "_view_module_version": "1.5.0",
      "_view_name": "IntSliderView",
      "continuous_update": true,
      "description": "timestep",
      "description_tooltip": null,
      "disabled": false,
      "layout": "IPY_MODEL_8cf069e5396843309a6d00ed371b23a9",
      "max": 99,
      "min": 0,
      "orientation": "horizontal",
      "readout": true,
      "readout_format": "d",
      "step": 1,
      "style": "IPY_MODEL_2404aff41d3348d9b5567d52474eb30e",
      "value": 0
     }
    },
    "c7cbcfd4c02040db839bd19b101df5c4": {
     "model_module": "@jupyter-widgets/base",
     "model_name": "LayoutModel",
     "state": {
      "_model_module": "@jupyter-widgets/base",
      "_model_module_version": "1.2.0",
      "_model_name": "LayoutModel",
      "_view_count": null,
      "_view_module": "@jupyter-widgets/base",
      "_view_module_version": "1.2.0",
      "_view_name": "LayoutView",
      "align_content": null,
      "align_items": null,
      "align_self": null,
      "border": null,
      "bottom": null,
      "display": null,
      "flex": null,
      "flex_flow": null,
      "grid_area": null,
      "grid_auto_columns": null,
      "grid_auto_flow": null,
      "grid_auto_rows": null,
      "grid_column": null,
      "grid_gap": null,
      "grid_row": null,
      "grid_template_areas": null,
      "grid_template_columns": null,
      "grid_template_rows": null,
      "height": null,
      "justify_content": null,
      "justify_items": null,
      "left": null,
      "margin": null,
      "max_height": null,
      "max_width": null,
      "min_height": null,
      "min_width": null,
      "object_fit": null,
      "object_position": null,
      "order": null,
      "overflow": null,
      "overflow_x": null,
      "overflow_y": null,
      "padding": null,
      "right": null,
      "top": null,
      "visibility": null,
      "width": null
     }
    },
    "cd4a93e5ce96479eba72e3b6b68f1354": {
     "model_module": "@jupyter-widgets/base",
     "model_name": "LayoutModel",
     "state": {
      "_model_module": "@jupyter-widgets/base",
      "_model_module_version": "1.2.0",
      "_model_name": "LayoutModel",
      "_view_count": null,
      "_view_module": "@jupyter-widgets/base",
      "_view_module_version": "1.2.0",
      "_view_name": "LayoutView",
      "align_content": null,
      "align_items": null,
      "align_self": null,
      "border": null,
      "bottom": null,
      "display": null,
      "flex": null,
      "flex_flow": null,
      "grid_area": null,
      "grid_auto_columns": null,
      "grid_auto_flow": null,
      "grid_auto_rows": null,
      "grid_column": null,
      "grid_gap": null,
      "grid_row": null,
      "grid_template_areas": null,
      "grid_template_columns": null,
      "grid_template_rows": null,
      "height": null,
      "justify_content": null,
      "justify_items": null,
      "left": null,
      "margin": null,
      "max_height": null,
      "max_width": null,
      "min_height": null,
      "min_width": null,
      "object_fit": null,
      "object_position": null,
      "order": null,
      "overflow": null,
      "overflow_x": null,
      "overflow_y": null,
      "padding": null,
      "right": null,
      "top": null,
      "visibility": null,
      "width": null
     }
    },
    "df93226f4c5a495f9f1166005d289d0f": {
     "model_module": "@jupyter-widgets/base",
     "model_name": "LayoutModel",
     "state": {
      "_model_module": "@jupyter-widgets/base",
      "_model_module_version": "1.2.0",
      "_model_name": "LayoutModel",
      "_view_count": null,
      "_view_module": "@jupyter-widgets/base",
      "_view_module_version": "1.2.0",
      "_view_name": "LayoutView",
      "align_content": null,
      "align_items": null,
      "align_self": null,
      "border": null,
      "bottom": null,
      "display": null,
      "flex": null,
      "flex_flow": null,
      "grid_area": null,
      "grid_auto_columns": null,
      "grid_auto_flow": null,
      "grid_auto_rows": null,
      "grid_column": null,
      "grid_gap": null,
      "grid_row": null,
      "grid_template_areas": null,
      "grid_template_columns": null,
      "grid_template_rows": null,
      "height": null,
      "justify_content": null,
      "justify_items": null,
      "left": null,
      "margin": null,
      "max_height": null,
      "max_width": null,
      "min_height": null,
      "min_width": null,
      "object_fit": null,
      "object_position": null,
      "order": null,
      "overflow": null,
      "overflow_x": null,
      "overflow_y": null,
      "padding": null,
      "right": null,
      "top": null,
      "visibility": null,
      "width": null
     }
    },
    "f76224feb08748b8956c71fea19cd252": {
     "model_module": "@jupyter-widgets/controls",
     "model_name": "VBoxModel",
     "state": {
      "_dom_classes": [
       "widget-interact"
      ],
      "_model_module": "@jupyter-widgets/controls",
      "_model_module_version": "1.5.0",
      "_model_name": "VBoxModel",
      "_view_count": null,
      "_view_module": "@jupyter-widgets/controls",
      "_view_module_version": "1.5.0",
      "_view_name": "VBoxView",
      "box_style": "",
      "children": [
       "IPY_MODEL_ba737ebc0d4b4b658dd3e13fd072716e",
       "IPY_MODEL_44fe882bbf554bea9ed8d15c1eaafa99"
      ],
      "layout": "IPY_MODEL_b5083b489d174223bf3968f6a353e806"
     }
    }
   }
  }
 },
 "nbformat": 4,
 "nbformat_minor": 4
}
