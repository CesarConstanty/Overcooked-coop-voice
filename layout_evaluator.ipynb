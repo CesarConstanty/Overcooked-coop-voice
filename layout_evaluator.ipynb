{
 "cells": [
  {
   "cell_type": "code",
   "execution_count": 1,
   "id": "55ece388-2360-471f-84be-2c558e8a54e6",
   "metadata": {},
   "outputs": [],
   "source": [
    "from overcooked_ai_py.agents.benchmarking import AgentEvaluator, LayoutGenerator\n",
    "from overcooked_ai_py.agents.agent import Agent, AgentPair, StayAgent, GreedyAgent\n",
    "from overcooked_ai_py.mdp.overcooked_mdp import OvercookedGridworld\n",
    "from overcooked_ai_py.planning.planners import MediumLevelActionManager, COUNTERS_MLG_PARAMS, MotionPlanner"
   ]
  },
  {
   "cell_type": "code",
   "execution_count": 6,
   "id": "b65e82ab-1f10-401f-b725-7056eaafcdd6",
   "metadata": {},
   "outputs": [],
   "source": [
    "mdp = OvercookedGridworld.from_layout_name(\"marin_II_constrained/marinII4\")\n",
    "counter_params = COUNTERS_MLG_PARAMS\n",
    "if mdp.counter_goals:\n",
    "    counter_params[\"counter_goals\"] = mdp.counter_goals\n",
    "    counter_params[\"counter_drop\"] = mdp.counter_goals\n",
    "    counter_params[\"counter_pickup\"] = mdp.counter_goals\n",
    "#print(mdp.to_dict())"
   ]
  },
  {
   "cell_type": "code",
   "execution_count": 7,
   "id": "6b537f11-5deb-4414-a933-2e0629379982",
   "metadata": {},
   "outputs": [
    {
     "name": "stderr",
     "output_type": "stream",
     "text": [
      "  0%|                                                                                           | 0/1 [00:00<?, ?it/s]"
     ]
    },
    {
     "name": "stdout",
     "output_type": "stream",
     "text": [
      "Computing MotionPlanner to be saved in /d/mleguill/Documents/git_repo/overcooked_mlg/overcooked_ai_py/data/planners/marin_II_constrained/marinII4_mp.pkl\n",
      "It took 0.527662992477417 seconds to create mp\n"
     ]
    },
    {
     "name": "stderr",
     "output_type": "stream",
     "text": [
      "Avg rew: 0.00 (std: 0.00, se: 0.00); avg len: 300000.00; : 100%|███████████████████████| 1/1 [05:05<00:00, 305.97s/it]"
     ]
    },
    {
     "name": "stdout",
     "output_type": "stream",
     "text": [
      "Skipping trajectory consistency checking because MDP was recognized as variable. Trajectory consistency checking is not yet supported for variable MDPs.\n"
     ]
    },
    {
     "name": "stderr",
     "output_type": "stream",
     "text": [
      "\n"
     ]
    },
    {
     "data": {
      "text/plain": [
       "{'ep_dones': array([[False, False, False, ..., False, False, True]], dtype=object),\n",
       " 'ep_infos': array([[{'agent_infos': [{'action_probs': array([0., 1., 0., 0., 0., 0.])}, {'action_probs': array([0., 0., 1., 0., 0., 0.])}], 'sparse_r_by_agent': [0, 0], 'shaped_r_by_agent': [0, 0], 'phi_s': None, 'phi_s_prime': None},\n",
       "         {'agent_infos': [{'action_probs': array([0., 1., 0., 0., 0., 0.])}, {'action_probs': array([0., 1., 0., 0., 0., 0.])}], 'sparse_r_by_agent': [0, 0], 'shaped_r_by_agent': [0, 0], 'phi_s': None, 'phi_s_prime': None},\n",
       "         {'agent_infos': [{'action_probs': array([0., 1., 0., 0., 0., 0.])}, {'action_probs': array([0., 1., 0., 0., 0., 0.])}], 'sparse_r_by_agent': [0, 0], 'shaped_r_by_agent': [0, 0], 'phi_s': None, 'phi_s_prime': None},\n",
       "         ...,\n",
       "         {'agent_infos': [{'action_probs': array([0., 0., 0., 0., 0., 1.])}, {'action_probs': array([0., 0., 0., 0., 0., 1.])}], 'sparse_r_by_agent': [0, 0], 'shaped_r_by_agent': [0, 0], 'phi_s': None, 'phi_s_prime': None},\n",
       "         {'agent_infos': [{'action_probs': array([0., 0., 1., 0., 0., 0.])}, {'action_probs': array([0., 0., 0., 1., 0., 0.])}], 'sparse_r_by_agent': [0, 0], 'shaped_r_by_agent': [0, 0], 'phi_s': None, 'phi_s_prime': None},\n",
       "         {'agent_infos': [{'action_probs': array([0., 0., 0., 1., 0., 0.])}, {'action_probs': array([0., 0., 1., 0., 0., 0.])}], 'sparse_r_by_agent': [0, 0], 'shaped_r_by_agent': [0, 0], 'phi_s': None, 'phi_s_prime': None, 'episode': {'ep_game_stats': {'tomato_pickup': [[], []], 'useful_tomato_pickup': [[], []], 'tomato_drop': [[], [11, 22, 37, 54]], 'useful_tomato_drop': [[], []], 'potting_tomato': [[], []], 'onion_pickup': [[6, 16, 26], []], 'useful_onion_pickup': [[6, 16, 26], []], 'onion_drop': [[], []], 'useful_onion_drop': [[], []], 'potting_onion': [[12, 22, 31], []], 'dish_pickup': [[37], []], 'useful_dish_pickup': [[37], []], 'dish_drop': [[], []], 'useful_dish_drop': [[], []], 'soup_pickup': [[77], []], 'soup_delivery': [[], []], 'soup_drop': [[], []], 'optimal_onion_potting': [[12, 22], []], 'optimal_tomato_potting': [[], []], 'viable_onion_potting': [[12, 22, 31], []], 'viable_tomato_potting': [[], []], 'catastrophic_onion_potting': [[], []], 'catastrophic_tomato_potting': [[], []], 'useless_onion_potting': [[], []], 'useless_tomato_potting': [[], []], 'cumulative_sparse_rewards_by_agent': array([0, 0]), 'cumulative_shaped_rewards_by_agent': array([17,  0])}, 'ep_sparse_r': 0, 'ep_shaped_r': 17, 'ep_sparse_r_by_agent': array([0, 0]), 'ep_shaped_r_by_agent': array([17,  0]), 'ep_length': 300000}}]],\n",
       "       dtype=object),\n",
       " 'ep_returns': array([0]),\n",
       " 'ep_rewards': array([[0, 0, 0, ..., 0, 0, 0]], dtype=object),\n",
       " 'ep_states': array([[<overcooked_ai_py.mdp.overcooked_mdp.OvercookedState object at 0x7f9cb6f17340>,\n",
       "         <overcooked_ai_py.mdp.overcooked_mdp.OvercookedState object at 0x7f9cb6f17100>,\n",
       "         <overcooked_ai_py.mdp.overcooked_mdp.OvercookedState object at 0x7f9d94480760>,\n",
       "         ...,\n",
       "         <overcooked_ai_py.mdp.overcooked_mdp.OvercookedState object at 0x7f9c9b045880>,\n",
       "         <overcooked_ai_py.mdp.overcooked_mdp.OvercookedState object at 0x7f9c9b045cd0>,\n",
       "         <overcooked_ai_py.mdp.overcooked_mdp.OvercookedState object at 0x7f9c9b0491c0>]],\n",
       "       dtype=object),\n",
       " 'mdp_params': array([{'layout_name': 'marin_II_constrained/marinII4', 'terrain': [['X', 'D', 'X', 'X', 'X', 'X', 'X', 'X', 'S', 'X'], ['X', ' ', ' ', ' ', ' ', 'X', ' ', ' ', ' ', 'X'], ['X', ' ', ' ', ' ', ' ', 'X', ' ', ' ', ' ', 'X'], ['X', ' ', ' ', ' ', ' ', 'X', ' ', ' ', ' ', 'X'], ['X', ' ', ' ', ' ', ' ', 'X', ' ', ' ', ' ', 'X'], ['P', ' ', ' ', ' ', ' ', 'X', ' ', ' ', ' ', 'X'], ['X', ' ', ' ', ' ', ' ', 'X', ' ', ' ', ' ', 'X'], ['X', ' ', ' ', ' ', ' ', 'X', ' ', ' ', ' ', 'X'], ['X', ' ', ' ', ' ', ' ', 'X', ' ', ' ', ' ', 'X'], ['X', 'O', 'X', 'X', 'X', 'X', 'X', 'X', 'T', 'X']], 'start_player_positions': [(1, 2), (7, 3)], 'start_bonus_orders': [{'ingredients': ['tomato', 'tomato', 'tomato']}, {'ingredients': ['onion', 'onion', 'tomato']}], 'rew_shaping_params': {'PLACEMENT_IN_POT_REW': 3, 'DISH_PICKUP_REWARD': 3, 'SOUP_PICKUP_REWARD': 5, 'DISH_DISP_DISTANCE_REW': 0, 'POT_DISTANCE_REW': 0, 'SOUP_DISTANCE_REW': 0}, 'start_all_orders': [{'ingredients': ['onion', 'onion', 'onion']}, {'ingredients': ['onion', 'onion', 'tomato']}, {'ingredients': ['tomato', 'tomato', 'tomato']}, {'ingredients': ['tomato']}], 'intentions_sharing': False}],\n",
       "       dtype=object),\n",
       " 'ep_actions': array([[((0, 1), (1, 0)), ((0, 1), (0, 1)), ((0, 1), (0, 1)), ...,\n",
       "         ('interact', 'interact'), ((1, 0), (-1, 0)), ((-1, 0), (1, 0))]],\n",
       "       dtype=object),\n",
       " 'ep_lengths': array([300000]),\n",
       " 'env_params': array([{'start_state_fn': None, 'horizon': 300000, 'info_level': 0, '_variable_mdp': True}],\n",
       "       dtype=object),\n",
       " 'metadatas': {}}"
      ]
     },
     "execution_count": 7,
     "metadata": {},
     "output_type": "execute_result"
    }
   ],
   "source": [
    "env_params = {\"horizon\": 300000}\n",
    "agent_eval = AgentEvaluator.from_mdp(mdp, env_params, mlam_params=counter_params)\n",
    "greedyagent1 = GreedyAgent()\n",
    "greedyagent1.set_mdp(mdp)\n",
    "greedyagent2 = GreedyAgent()\n",
    "greedyagent2.set_mdp(mdp)\n",
    "agent_pair = AgentPair(greedyagent1, greedyagent2)\n",
    "agent_eval.evaluate_agent_pair(agent_pair, num_games=1, native_eval=True)"
   ]
  }
 ],
 "metadata": {
  "kernelspec": {
   "display_name": "Python 3 (ipykernel)",
   "language": "python",
   "name": "python3"
  },
  "language_info": {
   "codemirror_mode": {
    "name": "ipython",
    "version": 3
   },
   "file_extension": ".py",
   "mimetype": "text/x-python",
   "name": "python",
   "nbconvert_exporter": "python",
   "pygments_lexer": "ipython3",
   "version": "3.9.2"
  }
 },
 "nbformat": 4,
 "nbformat_minor": 5
}
