{
 "cells": [
  {
   "cell_type": "code",
   "execution_count": null,
   "id": "0aac79f0",
   "metadata": {},
   "outputs": [],
   "source": [
    "import os\n",
    "print (os.getcwd())"
   ]
  },
  {
   "cell_type": "code",
   "execution_count": null,
   "id": "008ff148-b879-48ea-aa0e-6fe585bf44c9",
   "metadata": {},
   "outputs": [
    {
     "name": "stdout",
     "output_type": "stream",
     "text": [
      "pygame 2.1.2 (SDL 2.0.16, Python 3.9.2)\n",
      "Hello from the pygame community. https://www.pygame.org/contribute.html\n"
     ]
    }
   ],
   "source": [
    "from overcooked_ai_py.agents.benchmarking import AgentEvaluator\n",
    "from overcooked_ai_py.visualization.state_visualizer import StateVisualizer\n",
    "from overcooked_ai_py.visualization.visualization_utils import show_image_in_ipython\n",
    "from overcooked_ai_py.utils import generate_temporary_file_path\n",
    "from overcooked_ai_py.mdp.overcooked_mdp import OvercookedGridworld\n",
    "from overcooked_ai_py.visualization.pygame_utils import vstack_surfaces\n",
    "import pygame\n",
    "import numpy as np"
   ]
  },
  {
   "cell_type": "code",
   "execution_count": null,
   "id": "3be71a74-ee93-4473-bc5f-6dd97f70792b",
   "metadata": {},
   "outputs": [],
   "source": [
    "state_visualizer = StateVisualizer()\n",
    "def render_state(grid_txt):\n",
    "    grid = [layout_row.strip() for layout_row in grid_txt.split(\"\\n\")]\n",
    "    mdp = OvercookedGridworld.from_grid(grid)\n",
    "    mdp.start_state = mdp.get_standard_start_state()\n",
    "    print(mdp.start_state.all_orders)\n",
    "    grid_surface = pygame.surface.Surface(state_visualizer._unscaled_grid_pixel_size(mdp.terrain_mtx))\n",
    "    state_visualizer._render_grid_and_counter_goals(grid_surface, mdp.terrain_mtx, mdp.counter_goals)\n",
    "    state_visualizer._render_players(grid_surface, mdp.start_state.players)\n",
    "    hud_data =  state_visualizer.default_hud_data(mdp.start_state)\n",
    "    hud_width = state_visualizer.width# or grid_surface2.get_width()\n",
    "    hud_surface = pygame.surface.Surface((300, state_visualizer._calculate_hud_height(hud_data)))\n",
    "    hud_surface.fill(state_visualizer.background_color)\n",
    "    state_visualizer._render_hud_data(hud_surface, hud_data)\n",
    "    rendered_surface = vstack_surfaces([grid_surface, hud_surface], state_visualizer.background_color)\n",
    "    img_path = generate_temporary_file_path(prefix=\"overcooked_visualized_state_\", extension=\".png\")\n",
    "    pygame.image.save(rendered_surface, img_path)\n",
    "    show_image_in_ipython(img_path, width=700) "
   ]
  },
  {
   "cell_type": "code",
   "execution_count": null,
   "id": "49891d36-fba8-4bba-aa87-db8bc652b99c",
   "metadata": {},
   "outputs": [],
   "source": [
    "state_visualizer = StateVisualizer()\n",
    "def render_layout(grid_txt):\n",
    "    grid = [layout_row.strip() for layout_row in grid_txt.split(\"\\n\")]\n",
    "    mdp = OvercookedGridworld.from_grid(grid)\n",
    "    mdp.start_state = mdp.get_standard_start_state()\n",
    "    grid_surface = pygame.surface.Surface(state_visualizer._unscaled_grid_pixel_size(mdp.terrain_mtx))\n",
    "    state_visualizer._render_grid_and_counter_goals(grid_surface, mdp.terrain_mtx, mdp.counter_goals)\n",
    "    state_visualizer._render_players(grid_surface, mdp.start_state.players)\n",
    "    img_path = generate_temporary_file_path(prefix=\"overcooked_visualized_state_\", extension=\".png\")\n",
    "    pygame.image.save(grid_surface, img_path)\n",
    "    show_image_in_ipython(img_path, width=700) "
   ]
  },
  {
   "cell_type": "code",
   "execution_count": null,
   "id": "fd8f2378-61c9-4230-8629-e841181d8954",
   "metadata": {},
   "outputs": [
    {
     "data": {
      "text/plain": [
       "<IPython.core.display.Image object>\n",
       "[('onion',), ('onion', 'onion'), ('onion', 'onion', 'onion'), ('tomato',), ('tomato', 'tomato'), ('tomato', 'tomato', 'tomato'), ('onion', 'tomato'), ('onion', 'onion', 'tomato'), ('onion', 'tomato', 'tomato')]\n",
       "Traceback (most recent call last):\n",
       "  File \"/root/.vscode-server/extensions/ms-python.python-2025.2.0-linux-x64/python_files/python_server.py\", line 133, in exec_user_input\n",
       "    retval = callable_(user_input, user_globals)\n",
       "             ^^^^^^^^^^^^^^^^^^^^^^^^^^^^^^^^^^^\n",
       "  File \"<string>\", line 12, in <module>\n",
       "  File \"<string>\", line 8, in render_state\n",
       "AttributeError: 'StateVisualizer' object has no attribute '_render_grid_and_counter_goals'\n",
       "\n"
      ]
     },
     "metadata": {},
     "output_type": "display_data"
    }
   ],
   "source": [
    "grid_txt =\"\"\"XOXXXXXXDX\n",
    "             X     Y  X\n",
    "             X 1X  X  X\n",
    "             X  X  X  X\n",
    "             X  X     X\n",
    "             X  X2    S\n",
    "             X  X     X\n",
    "             X  Y     X\n",
    "             X  Y     X\n",
    "             XPXXTXXXXX\"\"\"\n",
    "render_layout(grid_txt)\n",
    "render_state(grid_txt)"
   ]
  },
  {
   "cell_type": "code",
   "execution_count": 5,
   "id": "08ec475b-773f-483c-9f43-5b4c03426aa7",
   "metadata": {},
   "outputs": [
    {
     "data": {
      "image/png": "[encoded data removed]",
      "text/plain": [
       "<IPython.core.display.Image object>"
      ]
     },
     "metadata": {
      "image/png": {
       "width": 700
      }
     },
     "output_type": "display_data"
    }
   ],
   "source": [
    "grid_txt =\"\"\"XOXXSXTXDX\n",
    "             X1Y  X   X\n",
    "             X X  Y   X\n",
    "             X X  X   X\n",
    "             X        X\n",
    "             X   2    X\n",
    "             X  X X   X\n",
    "             X  Y X   X\n",
    "             X  Y Y   O\n",
    "             XPXXTXXXXX\"\"\"\n",
    "render_layout(grid_txt)"
   ]
  },
  {
   "cell_type": "code",
   "execution_count": 13,
   "id": "573c2b4d-93da-4fae-9b7c-51ae9a1850e8",
   "metadata": {},
   "outputs": [
    {
     "data": {
      "image/png": "[encoded data removed]",
      "text/plain": [
       "<IPython.core.display.Image object>"
      ]
     },
     "metadata": {
      "image/png": {
       "width": 700
      }
     },
     "output_type": "display_data"
    }
   ],
   "source": [
    "grid_txt = \"\"\"XXXXXSXXXX\n",
    "\t\t\t\tX Y X    X\n",
    "\t\t\t\tX Y X    X\n",
    "\t\t\t\tD        X\n",
    "\t\t\t\tX        X\n",
    "\t\t\t\tXXXX 2   T\n",
    "\t\t\t\tX        X\n",
    "\t\t\t\tX 1   XXXX\n",
    "\t\t\t\tO        P\n",
    "\t\t\t\tXXXXXXXXXX\"\"\"\n",
    "render_layout(grid_txt)"
   ]
  },
  {
   "cell_type": "code",
   "execution_count": 6,
   "id": "8294c962-8d2c-4f61-b7fd-7354d78ebc9c",
   "metadata": {},
   "outputs": [
    {
     "data": {
      "image/png": "[encoded data removed]",
      "text/plain": [
       "<IPython.core.display.Image object>"
      ]
     },
     "metadata": {
      "image/png": {
       "width": 700
      }
     },
     "output_type": "display_data"
    }
   ],
   "source": [
    "grid_txt =\"\"\"XDXXXXXXSX\n",
    "             X    X   X\n",
    "             X    X   X\n",
    "             X    X   X\n",
    "             XYTX   XXX\n",
    "             X    X   X\n",
    "             X    X   X\n",
    "             X  1 Y   X\n",
    "             X    Y 2 O\n",
    "             XPXXTXXXXX\"\"\"\n",
    "render_layout(grid_txt)"
   ]
  },
  {
   "cell_type": "code",
   "execution_count": 7,
   "id": "032cf487-569d-4b4c-a9b1-1f73a0eb1e71",
   "metadata": {},
   "outputs": [
    {
     "data": {
      "image/png": "[encoded data removed]",
      "text/plain": [
       "<IPython.core.display.Image object>"
      ]
     },
     "metadata": {
      "image/png": {
       "width": 700
      }
     },
     "output_type": "display_data"
    }
   ],
   "source": [
    "grid_txt =\"\"\"XDXXXXXXSX\n",
    "             X        X\n",
    "             X1 XXX   X\n",
    "             X2Y    X X\n",
    "             X X XXYX X\n",
    "             X X X  Y X\n",
    "             X X   PX X\n",
    "             X  XXYX  X\n",
    "             X        X\n",
    "             XOXXXXXXTX\"\"\"\n",
    "render_layout(grid_txt)"
   ]
  },
  {
   "cell_type": "code",
   "execution_count": 8,
   "id": "c6275890-0822-4fb4-9cb2-97be96a11829",
   "metadata": {},
   "outputs": [
    {
     "data": {
      "image/png": "[encoded data removed]",
      "text/plain": [
       "<IPython.core.display.Image object>"
      ]
     },
     "metadata": {
      "image/png": {
       "width": 700
      }
     },
     "output_type": "display_data"
    }
   ],
   "source": [
    "grid_txt =\"\"\"XTXXXXXXSX\n",
    "             X    X   X\n",
    "             X1   X   X\n",
    "             X    Y 2 X\n",
    "             X    Y   X\n",
    "             P    Y   X\n",
    "             X    Y   X\n",
    "             X    X   X\n",
    "             X    X   X\n",
    "             XDXXXXXXOX\"\"\"\n",
    "render_layout(grid_txt)"
   ]
  }
 ],
 "metadata": {
  "kernelspec": {
   "display_name": "Python 3 (ipykernel)",
   "language": "python",
   "name": "python3"
  },
  "language_info": {
   "codemirror_mode": {
    "name": "ipython",
    "version": 3
   },
   "file_extension": ".py",
   "mimetype": "text/x-python",
   "name": "python",
   "nbconvert_exporter": "python",
   "pygments_lexer": "ipython3",
   "version": "3.9.2"
  },
  "vscode": {
   "interpreter": {
    "hash": "14adeda6fd8f21053b1927caa5b53759889a08e69a393c97fb38eb2f37e19f61"
   }
  }
 },
 "nbformat": 4,
 "nbformat_minor": 5
}
