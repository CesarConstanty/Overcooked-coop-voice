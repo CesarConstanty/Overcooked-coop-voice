{
 "cells": [
  {
   "cell_type": "code",
   "execution_count": 29,
   "id": "0aac79f0",
   "metadata": {},
   "outputs": [
    {
     "name": "stdout",
     "output_type": "stream",
     "text": [
      "/home/cesar/python-projects/Overcooked-coop-voice\n"
     ]
    }
   ],
   "source": [
    "import os\n",
    "print (os.getcwd())"
   ]
  },
  {
   "cell_type": "code",
   "execution_count": 30,
   "id": "008ff148-b879-48ea-aa0e-6fe585bf44c9",
   "metadata": {},
   "outputs": [],
   "source": [
    "from overcooked_ai_py.agents.benchmarking import AgentEvaluator\n",
    "from overcooked_ai_py.visualization.state_visualizer import StateVisualizer\n",
    "from overcooked_ai_py.visualization.visualization_utils import show_image_in_ipython\n",
    "from overcooked_ai_py.utils import generate_temporary_file_path\n",
    "from overcooked_ai_py.mdp.overcooked_mdp import OvercookedGridworld\n",
    "from overcooked_ai_py.visualization.pygame_utils import vstack_surfaces\n",
    "import pygame\n",
    "import numpy as np"
   ]
  },
  {
   "cell_type": "code",
   "execution_count": 32,
   "id": "08fbad13",
   "metadata": {},
   "outputs": [
    {
     "data": {
      "text/plain": [
       "<Surface(1x1x32 SW)>"
      ]
     },
     "execution_count": 32,
     "metadata": {},
     "output_type": "execute_result"
    }
   ],
   "source": [
    "# Initialisation de pygame pour les visualisations\n",
    "import pygame\n",
    "pygame.init()\n",
    "pygame.display.set_mode((1, 1))  # Mode headless pour les notebooks"
   ]
  },
  {
   "cell_type": "code",
   "execution_count": 36,
   "id": "eee6a98a",
   "metadata": {},
   "outputs": [],
   "source": [
    "state_visualizer = StateVisualizer()\n",
    "def render_state(grid_txt):\n",
    "    grid = [layout_row.strip() for layout_row in grid_txt.split(\"\\n\")]\n",
    "    mdp = OvercookedGridworld.from_grid(grid)\n",
    "    mdp.start_state = mdp.get_standard_start_state()\n",
    "    print(\"Recettes disponibles:\", mdp.start_state.all_orders)\n",
    "    \n",
    "    # Rendu de la grille\n",
    "    grid_surface = pygame.surface.Surface(state_visualizer._unscaled_grid_pixel_size(mdp.terrain_mtx))\n",
    "    state_visualizer._render_grid(grid_surface, mdp.terrain_mtx)\n",
    "    state_visualizer._render_players(grid_surface, mdp.start_state.players)\n",
    "    state_visualizer._render_objects(grid_surface, mdp.start_state.objects, mdp.terrain_mtx)\n",
    "    \n",
    "    # Rendu du HUD\n",
    "    hud_data = state_visualizer.default_hud_data(mdp.start_state)\n",
    "    hud_surface = pygame.surface.Surface((300, state_visualizer._calculate_hud_height(hud_data)))\n",
    "    hud_surface.fill(state_visualizer.background_color)\n",
    "    state_visualizer._render_hud_data(hud_surface, hud_data)\n",
    "    \n",
    "    # Combinaison des surfaces\n",
    "    rendered_surface = vstack_surfaces([grid_surface, hud_surface], state_visualizer.background_color)\n",
    "    img_path = generate_temporary_file_path(prefix=\"overcooked_visualized_state_\", extension=\".png\")\n",
    "    pygame.image.save(rendered_surface, img_path)\n",
    "    show_image_in_ipython(img_path, width=700)"
   ]
  },
  {
   "cell_type": "code",
   "execution_count": 41,
   "id": "be901240",
   "metadata": {},
   "outputs": [],
   "source": [
    "state_visualizer = StateVisualizer()\n",
    "def render_layout(grid_txt):\n",
    "    grid = [layout_row.strip() for layout_row in grid_txt.split(\"\\n\")]\n",
    "    mdp = OvercookedGridworld.from_grid(grid)\n",
    "    mdp.start_state = mdp.get_standard_start_state()\n",
    "    grid_surface = pygame.surface.Surface(state_visualizer._unscaled_grid_pixel_size(mdp.terrain_mtx))\n",
    "    state_visualizer._render_grid(grid_surface, mdp.terrain_mtx)\n",
    "    state_visualizer._render_players(grid_surface, mdp.start_state.players)\n",
    "    img_path = generate_temporary_file_path(prefix=\"overcooked_visualized_layout_\", extension=\".png\")\n",
    "    pygame.image.save(grid_surface, img_path)\n",
    "    show_image_in_ipython(img_path, width=700)"
   ]
  },
  {
   "cell_type": "code",
   "execution_count": null,
   "id": "05dd7e11",
   "metadata": {},
   "outputs": [
    {
     "data": {
      "image/png": "[encoded data removed]",
      "text/plain": [
       "<IPython.core.display.Image object>"
      ]
     },
     "metadata": {
      "image/png": {
       "width": 700
      }
     },
     "output_type": "display_data"
    },
    {
     "name": "stdout",
     "output_type": "stream",
     "text": [
      "Recettes disponibles: [('onion',), ('onion', 'onion'), ('onion', 'onion', 'onion'), ('tomato',), ('tomato', 'tomato'), ('tomato', 'tomato', 'tomato'), ('onion', 'tomato'), ('onion', 'onion', 'tomato'), ('onion', 'tomato', 'tomato')]\n"
     ]
    },
    {
     "data": {
      "image/png": "[encoded data removed]",
      "text/plain": [
       "<IPython.core.display.Image object>"
      ]
     },
     "metadata": {
      "image/png": {
       "width": 700
      }
     },
     "output_type": "display_data"
    }
   ],
   "source": [
    "grid_txt =\"\"\"XOXXXXXXDX\n",
    "             X       X\n",
    "             X 1X  X  X\n",
    "             X  X  X  X\n",
    "             X  X     X\n",
    "             X  X2    S\n",
    "             X  X     X\n",
    "             X  Y     X\n",
    "             X  Y     X\n",
    "             XPXXTXXXXX\"\"\"\n",
    "render_layout(grid_txt)\n",
    "render_state(grid_txt)"
   ]
  },
  {
   "cell_type": "code",
   "execution_count": 19,
   "id": "fd8f2378-61c9-4230-8629-e841181d8954",
   "metadata": {},
   "outputs": [
    {
     "data": {
      "image/png": "[encoded data removed]",
      "text/plain": [
       "<IPython.core.display.Image object>"
      ]
     },
     "metadata": {
      "image/png": {
       "width": 700
      }
     },
     "output_type": "display_data"
    },
    {
     "name": "stdout",
     "output_type": "stream",
     "text": [
      "Recettes disponibles: [('onion',), ('onion', 'onion'), ('onion', 'onion', 'onion'), ('tomato',), ('tomato', 'tomato'), ('tomato', 'tomato', 'tomato'), ('onion', 'tomato'), ('onion', 'onion', 'tomato'), ('onion', 'tomato', 'tomato')]\n"
     ]
    },
    {
     "data": {
      "image/png": "[encoded data removed]",
      "text/plain": [
       "<IPython.core.display.Image object>"
      ]
     },
     "metadata": {
      "image/png": {
       "width": 700
      }
     },
     "output_type": "display_data"
    }
   ],
   "source": [
    "grid_txt =\"\"\"XOXXXXXXDX\n",
    "             X     Y  X\n",
    "             X 1X  X  X\n",
    "             X  X  X  X\n",
    "             X  X     X\n",
    "             X  X2    S\n",
    "             X  X     X\n",
    "             X  Y     X\n",
    "             X  Y     X\n",
    "             XPXXTXXXXX\"\"\"\n",
    "render_layout(grid_txt)\n",
    "render_state(grid_txt)"
   ]
  },
  {
   "cell_type": "code",
   "execution_count": 8,
   "id": "08ec475b-773f-483c-9f43-5b4c03426aa7",
   "metadata": {},
   "outputs": [
    {
     "data": {
      "image/png": "[encoded data removed]",
      "text/plain": [
       "<IPython.core.display.Image object>"
      ]
     },
     "metadata": {
      "image/png": {
       "width": 700
      }
     },
     "output_type": "display_data"
    }
   ],
   "source": [
    "grid_txt =\"\"\"XOXXSXTXDX\n",
    "             X1Y  X   X\n",
    "             X X  Y   X\n",
    "             X X  X   X\n",
    "             X        X\n",
    "             X   2    X\n",
    "             X  X X   X\n",
    "             X  Y X   X\n",
    "             X  Y Y   O\n",
    "             XPXXTXXXXX\"\"\"\n",
    "render_layout(grid_txt)"
   ]
  },
  {
   "cell_type": "code",
   "execution_count": 9,
   "id": "573c2b4d-93da-4fae-9b7c-51ae9a1850e8",
   "metadata": {},
   "outputs": [
    {
     "data": {
      "image/png": "[encoded data removed]",
      "text/plain": [
       "<IPython.core.display.Image object>"
      ]
     },
     "metadata": {
      "image/png": {
       "width": 700
      }
     },
     "output_type": "display_data"
    }
   ],
   "source": [
    "grid_txt = \"\"\"XXXXXSXXXX\n",
    "\t\t\t\tX Y X    X\n",
    "\t\t\t\tX Y X    X\n",
    "\t\t\t\tD        X\n",
    "\t\t\t\tX        X\n",
    "\t\t\t\tXXXX 2   T\n",
    "\t\t\t\tX        X\n",
    "\t\t\t\tX 1   XXXX\n",
    "\t\t\t\tO        P\n",
    "\t\t\t\tXXXXXXXXXX\"\"\"\n",
    "render_layout(grid_txt)"
   ]
  },
  {
   "cell_type": "code",
   "execution_count": 10,
   "id": "8294c962-8d2c-4f61-b7fd-7354d78ebc9c",
   "metadata": {},
   "outputs": [
    {
     "data": {
      "image/png": "[encoded data removed]",
      "text/plain": [
       "<IPython.core.display.Image object>"
      ]
     },
     "metadata": {
      "image/png": {
       "width": 700
      }
     },
     "output_type": "display_data"
    }
   ],
   "source": [
    "grid_txt =\"\"\"XDXXXXXXSX\n",
    "             X    X   X\n",
    "             X    X   X\n",
    "             X    X   X\n",
    "             XYTX   XXX\n",
    "             X    X   X\n",
    "             X    X   X\n",
    "             X  1 Y   X\n",
    "             X    Y 2 O\n",
    "             XPXXTXXXXX\"\"\"\n",
    "render_layout(grid_txt)"
   ]
  },
  {
   "cell_type": "code",
   "execution_count": 11,
   "id": "032cf487-569d-4b4c-a9b1-1f73a0eb1e71",
   "metadata": {},
   "outputs": [
    {
     "data": {
      "image/png": "[encoded data removed]",
      "text/plain": [
       "<IPython.core.display.Image object>"
      ]
     },
     "metadata": {
      "image/png": {
       "width": 700
      }
     },
     "output_type": "display_data"
    }
   ],
   "source": [
    "grid_txt =\"\"\"XDXXXXXXSX\n",
    "             X        X\n",
    "             X1 XXX   X\n",
    "             X2Y    X X\n",
    "             X X XXYX X\n",
    "             X X X  Y X\n",
    "             X X   PX X\n",
    "             X  XXYX  X\n",
    "             X        X\n",
    "             XOXXXXXXTX\"\"\"\n",
    "render_layout(grid_txt)"
   ]
  },
  {
   "cell_type": "code",
   "execution_count": 12,
   "id": "c6275890-0822-4fb4-9cb2-97be96a11829",
   "metadata": {},
   "outputs": [
    {
     "data": {
      "image/png": "[encoded data removed]",
      "text/plain": [
       "<IPython.core.display.Image object>"
      ]
     },
     "metadata": {
      "image/png": {
       "width": 700
      }
     },
     "output_type": "display_data"
    }
   ],
   "source": [
    "grid_txt =\"\"\"XTXXXXXXSX\n",
    "             X    X   X\n",
    "             X1   X   X\n",
    "             X    Y 2 X\n",
    "             X    Y   X\n",
    "             P    Y   X\n",
    "             X    Y   X\n",
    "             X    X   X\n",
    "             X    X   X\n",
    "             XDXXXXXXOX\"\"\"\n",
    "render_layout(grid_txt)"
   ]
  },
  {
   "cell_type": "code",
   "execution_count": null,
   "id": "bbdec33a",
   "metadata": {},
   "outputs": [],
   "source": [
    "# Affichage de tous les layouts du dossier generation_cesar\n",
    "import os\n",
    "import json\n",
    "import glob\n",
    "\n",
    "def load_and_display_layout_from_file(layout_path):\n",
    "    \"\"\"Charge et affiche un layout depuis un fichier .layout (JSON ou texte simple)\"\"\"\n",
    "    try:\n",
    "        with open(layout_path, 'r', encoding='utf-8') as f:\n",
    "            content = f.read().strip()\n",
    "        \n",
    "        layout_name = os.path.basename(layout_path).replace('.layout', '')\n",
    "        \n",
    "        # Essayer de parser comme JSON d'abord\n",
    "        try:\n",
    "            layout_data = json.loads(content)\n",
    "            grid_txt = layout_data['grid']\n",
    "            \n",
    "            print(f\"\\n{'='*60}\")\n",
    "            print(f\"📁 Layout: {layout_name}\")\n",
    "            print(f\"📊 Recettes: {layout_data.get('start_all_orders', [])}\")\n",
    "            print(f\"🥄 Valeur oignon: {layout_data.get('onion_value', 'N/A')}\")\n",
    "            print(f\"🍅 Valeur tomate: {layout_data.get('tomato_value', 'N/A')}\")\n",
    "            print(f\"{'='*60}\")\n",
    "            \n",
    "        except json.JSONDecodeError:\n",
    "            # Si ce n'est pas du JSON, traiter comme du texte simple\n",
    "            grid_txt = content\n",
    "            \n",
    "            print(f\"\\n{'='*60}\")\n",
    "            print(f\"📁 Layout: {layout_name} (format texte)\")\n",
    "            print(f\"{'='*60}\")\n",
    "        \n",
    "        # Afficher le layout\n",
    "        render_layout(grid_txt)\n",
    "        \n",
    "        return True\n",
    "        \n",
    "    except Exception as e:\n",
    "        print(f\"❌ Erreur lors du chargement de {layout_name}: {e}\")\n",
    "        return False\n",
    "\n",
    "def explore_layouts_in_directory(directory_path, directory_name):\n",
    "    \"\"\"Explore et affiche tous les layouts d'un répertoire donné\"\"\"\n",
    "    print(f\"🔍 Recherche dans: {directory_path}\")\n",
    "    \n",
    "    if not os.path.exists(directory_path):\n",
    "        print(f\"❌ Répertoire non trouvé: {directory_path}\")\n",
    "        return False\n",
    "    \n",
    "    layout_files = glob.glob(os.path.join(directory_path, \"*.layout\"))\n",
    "    layout_files.sort()  # Trier par nom\n",
    "    \n",
    "    if not layout_files:\n",
    "        print(f\"❌ Aucun fichier .layout trouvé dans {directory_name}\")\n",
    "        return False\n",
    "    \n",
    "    print(f\"✅ {len(layout_files)} layouts trouvés dans {directory_name}\")\n",
    "    success_count = 0\n",
    "    \n",
    "    # Afficher tous les layouts\n",
    "    for layout_file in layout_files:\n",
    "        if load_and_display_layout_from_file(layout_file):\n",
    "            success_count += 1\n",
    "    \n",
    "    print(f\"\\n\udcc8 Résumé: {success_count}/{len(layout_files)} layouts affichés avec succès\")\n",
    "    return True\n",
    "\n",
    "# Rechercher les layouts dans différents dossiers\n",
    "directories_to_check = [\n",
    "    (\"./overcooked_ai_py/data/layouts/generation_cesar/\", \"generation_cesar\"),\n",
    "    (\"./overcooked_ai_py/data/layouts/generation_cesar_static/\", \"generation_cesar_static\")\n",
    "]\n",
    "\n",
    "layouts_found = False\n",
    "\n",
    "for directory_path, directory_name in directories_to_check:\n",
    "    print(f\"\\n🗂️  Exploration du dossier: {directory_name}\")\n",
    "    print(\"=\"*80)\n",
    "    \n",
    "    if explore_layouts_in_directory(directory_path, directory_name):\n",
    "        layouts_found = True\n",
    "        break  # Arrêter après avoir trouvé le premier dossier avec des layouts\n",
    "\n",
    "if not layouts_found:\n",
    "    print(\"\\n❌ Aucun layout trouvé dans les répertoires spécifiés\")\n",
    "    print(\"💡 Vérifiez que les layouts ont été générés correctement\")\n",
    "    print(\"📁 Répertoires vérifiés:\")\n",
    "    for directory_path, directory_name in directories_to_check:\n",
    "        print(f\"   - {directory_path}\")"
   ]
  }
 ],
 "metadata": {
  "kernelspec": {
   "display_name": "overcooked",
   "language": "python",
   "name": "python3"
  },
  "language_info": {
   "codemirror_mode": {
    "name": "ipython",
    "version": 3
   },
   "file_extension": ".py",
   "mimetype": "text/x-python",
   "name": "python",
   "nbconvert_exporter": "python",
   "pygments_lexer": "ipython3",
   "version": "3.11.2"
  }
 },
 "nbformat": 4,
 "nbformat_minor": 5
}
