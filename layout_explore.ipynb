{
 "cells": [
  {
   "cell_type": "code",
   "execution_count": 27,
   "id": "0aac79f0",
   "metadata": {},
   "outputs": [
    {
     "name": "stdout",
     "output_type": "stream",
     "text": [
      "/home/cesar/python-projects/Overcooked-coop-voice\n"
     ]
    }
   ],
   "source": [
    "import os\n",
    "print (os.getcwd())"
   ]
  },
  {
   "cell_type": "code",
   "execution_count": 28,
   "id": "008ff148-b879-48ea-aa0e-6fe585bf44c9",
   "metadata": {},
   "outputs": [],
   "source": [
    "from overcooked_ai_py.agents.benchmarking import AgentEvaluator\n",
    "from overcooked_ai_py.visualization.state_visualizer import StateVisualizer\n",
    "from overcooked_ai_py.visualization.visualization_utils import show_image_in_ipython\n",
    "from overcooked_ai_py.utils import generate_temporary_file_path\n",
    "from overcooked_ai_py.mdp.overcooked_mdp import OvercookedGridworld\n",
    "from overcooked_ai_py.visualization.pygame_utils import vstack_surfaces\n",
    "import pygame\n",
    "import numpy as np"
   ]
  },
  {
   "cell_type": "code",
   "execution_count": 29,
   "id": "08fbad13",
   "metadata": {},
   "outputs": [
    {
     "data": {
      "text/plain": [
       "<Surface(1x1x32 SW)>"
      ]
     },
     "execution_count": 29,
     "metadata": {},
     "output_type": "execute_result"
    }
   ],
   "source": [
    "# Initialisation de pygame pour les visualisations\n",
    "import pygame\n",
    "pygame.init()\n",
    "pygame.display.set_mode((1, 1))  # Mode headless pour les notebooks"
   ]
  },
  {
   "cell_type": "code",
   "execution_count": 30,
   "id": "eee6a98a",
   "metadata": {},
   "outputs": [],
   "source": [
    "state_visualizer = StateVisualizer()\n",
    "def render_state(grid_txt):\n",
    "    grid = [layout_row.strip() for layout_row in grid_txt.split(\"\\n\")]\n",
    "    mdp = OvercookedGridworld.from_grid(grid)\n",
    "    mdp.start_state = mdp.get_standard_start_state()\n",
    "    print(\"Recettes disponibles:\", mdp.start_state.all_orders)\n",
    "    \n",
    "    # Rendu de la grille\n",
    "    grid_surface = pygame.surface.Surface(state_visualizer._unscaled_grid_pixel_size(mdp.terrain_mtx))\n",
    "    state_visualizer._render_grid(grid_surface, mdp.terrain_mtx)\n",
    "    state_visualizer._render_players(grid_surface, mdp.start_state.players)\n",
    "    state_visualizer._render_objects(grid_surface, mdp.start_state.objects, mdp.terrain_mtx)\n",
    "    \n",
    "    # Rendu du HUD\n",
    "    hud_data = state_visualizer.default_hud_data(mdp.start_state)\n",
    "    hud_surface = pygame.surface.Surface((300, state_visualizer._calculate_hud_height(hud_data)))\n",
    "    hud_surface.fill(state_visualizer.background_color)\n",
    "    state_visualizer._render_hud_data(hud_surface, hud_data)\n",
    "    \n",
    "    # Combinaison des surfaces\n",
    "    rendered_surface = vstack_surfaces([grid_surface, hud_surface], state_visualizer.background_color)\n",
    "    img_path = generate_temporary_file_path(prefix=\"overcooked_visualized_state_\", extension=\".png\")\n",
    "    pygame.image.save(rendered_surface, img_path)\n",
    "    show_image_in_ipython(img_path, width=700)"
   ]
  },
  {
   "cell_type": "code",
   "execution_count": 31,
   "id": "be901240",
   "metadata": {},
   "outputs": [],
   "source": [
    "state_visualizer = StateVisualizer()\n",
    "def render_layout(grid_txt):\n",
    "    grid = [layout_row.strip() for layout_row in grid_txt.split(\"\\n\")]\n",
    "    mdp = OvercookedGridworld.from_grid(grid)\n",
    "    mdp.start_state = mdp.get_standard_start_state()\n",
    "    grid_surface = pygame.surface.Surface(state_visualizer._unscaled_grid_pixel_size(mdp.terrain_mtx))\n",
    "    state_visualizer._render_grid(grid_surface, mdp.terrain_mtx)\n",
    "    state_visualizer._render_players(grid_surface, mdp.start_state.players)\n",
    "    img_path = generate_temporary_file_path(prefix=\"overcooked_visualized_layout_\", extension=\".png\")\n",
    "    pygame.image.save(grid_surface, img_path)\n",
    "    show_image_in_ipython(img_path, width=700)"
   ]
  },
  {
   "cell_type": "code",
   "execution_count": 33,
   "id": "93161c4b",
   "metadata": {},
   "outputs": [
    {
     "name": "stdout",
     "output_type": "stream",
     "text": [
      "\n",
      "🗂️  Exploration du dossier: generation_cesar\n",
      "================================================================================\n",
      "🔍 Recherche dans: ./overcooked_ai_py/data/layouts/generation_cesar/\n",
      "✅ 5 layouts trouvés dans generation_cesar\n",
      "🔄 Traitement 1/5: layout_cesar_0.layout\n",
      "Erreur d'extraction des métadonnées: '{' was never closed (<string>, line 1)\n",
      "\n",
      "============================================================\n",
      "📁 Layout: layout_cesar_0\n",
      "📊 Recettes: []\n",
      "🥄 Valeur oignon: N/A\n",
      "🍅 Valeur tomate: N/A\n",
      "============================================================\n",
      "🔧 Grille: 10 lignes, largeur: 10 caractères\n",
      "🔍 Aperçu de la grille nettoyée:\n",
      "   Ligne 1: 'XXOXXXXXXX'\n",
      "   Ligne 2: 'X  X1    X'\n",
      "   Ligne 3: 'X X T XXXX'\n",
      "   ... et 7 autres lignes\n"
     ]
    },
    {
     "data": {
      "image/png": "[encoded data removed]",
      "text/plain": [
       "<IPython.core.display.Image object>"
      ]
     },
     "metadata": {
      "image/png": {
       "width": 700
      }
     },
     "output_type": "display_data"
    },
    {
     "name": "stdout",
     "output_type": "stream",
     "text": [
      "✅ Image générée avec succès\n",
      "🔄 Traitement 2/5: layout_cesar_1.layout\n",
      "Erreur d'extraction des métadonnées: '{' was never closed (<string>, line 1)\n",
      "\n",
      "============================================================\n",
      "📁 Layout: layout_cesar_1\n",
      "📊 Recettes: []\n",
      "🥄 Valeur oignon: N/A\n",
      "🍅 Valeur tomate: N/A\n",
      "============================================================\n",
      "🔧 Grille: 10 lignes, largeur: 10 caractères\n",
      "🔍 Aperçu de la grille nettoyée:\n",
      "   Ligne 1: 'XXXXXXXXXX'\n",
      "   Ligne 2: 'X   X    D'\n",
      "   Ligne 3: 'T    2   X'\n",
      "   ... et 7 autres lignes\n"
     ]
    },
    {
     "data": {
      "image/png": "[encoded data removed]",
      "text/plain": [
       "<IPython.core.display.Image object>"
      ]
     },
     "metadata": {
      "image/png": {
       "width": 700
      }
     },
     "output_type": "display_data"
    },
    {
     "name": "stdout",
     "output_type": "stream",
     "text": [
      "✅ Image générée avec succès\n",
      "🔄 Traitement 3/5: layout_cesar_2.layout\n",
      "Erreur d'extraction des métadonnées: '{' was never closed (<string>, line 1)\n",
      "\n",
      "============================================================\n",
      "📁 Layout: layout_cesar_2\n",
      "📊 Recettes: []\n",
      "🥄 Valeur oignon: N/A\n",
      "🍅 Valeur tomate: N/A\n",
      "============================================================\n",
      "🔧 Grille: 10 lignes, largeur: 10 caractères\n",
      "🔍 Aperçu de la grille nettoyée:\n",
      "   Ligne 1: 'XXXXXOXXXX'\n",
      "   Ligne 2: 'X X  1   X'\n",
      "   Ligne 3: 'X        X'\n",
      "   ... et 7 autres lignes\n"
     ]
    },
    {
     "data": {
      "image/png": "[encoded data removed]",
      "text/plain": [
       "<IPython.core.display.Image object>"
      ]
     },
     "metadata": {
      "image/png": {
       "width": 700
      }
     },
     "output_type": "display_data"
    },
    {
     "name": "stdout",
     "output_type": "stream",
     "text": [
      "✅ Image générée avec succès\n",
      "🔄 Traitement 4/5: layout_cesar_3.layout\n",
      "Erreur d'extraction des métadonnées: '{' was never closed (<string>, line 1)\n",
      "\n",
      "============================================================\n",
      "📁 Layout: layout_cesar_3\n",
      "📊 Recettes: []\n",
      "🥄 Valeur oignon: N/A\n",
      "🍅 Valeur tomate: N/A\n",
      "============================================================\n",
      "🔧 Grille: 10 lignes, largeur: 10 caractères\n",
      "🔍 Aperçu de la grille nettoyée:\n",
      "   Ligne 1: 'XXXXXXXXXX'\n",
      "   Ligne 2: 'X     X SX'\n",
      "   Ligne 3: 'X X  XX  X'\n",
      "   ... et 7 autres lignes\n"
     ]
    },
    {
     "data": {
      "image/png": "[encoded data removed]",
      "text/plain": [
       "<IPython.core.display.Image object>"
      ]
     },
     "metadata": {
      "image/png": {
       "width": 700
      }
     },
     "output_type": "display_data"
    },
    {
     "name": "stdout",
     "output_type": "stream",
     "text": [
      "✅ Image générée avec succès\n",
      "🔄 Traitement 5/5: layout_cesar_4.layout\n",
      "Erreur d'extraction des métadonnées: '{' was never closed (<string>, line 1)\n",
      "\n",
      "============================================================\n",
      "📁 Layout: layout_cesar_4\n",
      "📊 Recettes: []\n",
      "🥄 Valeur oignon: N/A\n",
      "🍅 Valeur tomate: N/A\n",
      "============================================================\n",
      "🔧 Grille: 10 lignes, largeur: 10 caractères\n",
      "🔍 Aperçu de la grille nettoyée:\n",
      "   Ligne 1: 'XODXXXXXXX'\n",
      "   Ligne 2: 'X   DX X X'\n",
      "   Ligne 3: 'XX X   X X'\n",
      "   ... et 7 autres lignes\n"
     ]
    },
    {
     "data": {
      "image/png": "[encoded data removed]",
      "text/plain": [
       "<IPython.core.display.Image object>"
      ]
     },
     "metadata": {
      "image/png": {
       "width": 700
      }
     },
     "output_type": "display_data"
    },
    {
     "name": "stdout",
     "output_type": "stream",
     "text": [
      "✅ Image générée avec succès\n",
      "\n",
      "📊 Résumé: 5/5 layouts traités avec succès\n",
      "🖼️  Images affichées: 5\n",
      "📏 Tailles de grilles: min=10, max=10, moy=10.0\n",
      "\n",
      "⏱️  Temps d'exécution: 0.03 secondes\n",
      "\n",
      "🎛️  Contrôles disponibles:\n",
      "   - PREVIEW_MODE = True (pour limiter l'affichage)\n",
      "   - MAX_LAYOUTS_PREVIEW = 10 (nombre max d'aperçus)\n",
      "💡 Modifiez ces variables pour personnaliser l'affichage\n"
     ]
    }
   ],
   "source": [
    "# Affichage optimisé des layouts du dossier generation_cesar\n",
    "import os\n",
    "import json\n",
    "import glob\n",
    "from IPython.display import clear_output\n",
    "import time\n",
    "import re\n",
    "\n",
    "def extract_grid_from_python_json(content):\n",
    "    \"\"\"Extrait le contenu de la grille d'un pseudo-JSON avec des triple quotes Python\"\"\"\n",
    "    try:\n",
    "        # Rechercher le pattern \"grid\": \"\"\"...\"\"\"\n",
    "        pattern = r'\"grid\":\\s*\"\"\"(.*?)\"\"\"'\n",
    "        match = re.search(pattern, content, re.DOTALL)\n",
    "        \n",
    "        if match:\n",
    "            grid_content = match.group(1)\n",
    "            # Nettoyer les caractères de tabulation et d'espacement excessif\n",
    "            return grid_content.strip()\n",
    "        else:\n",
    "            return None\n",
    "    except Exception as e:\n",
    "        print(f\"Erreur d'extraction: {e}\")\n",
    "        return None\n",
    "\n",
    "def extract_metadata_from_content(content):\n",
    "    \"\"\"Extrait les métadonnées du fichier layout\"\"\"\n",
    "    try:\n",
    "        # Extraire start_all_orders\n",
    "        orders_pattern = r'\"start_all_orders\":\\s*(\\[.*?\\])'\n",
    "        orders_match = re.search(orders_pattern, content, re.DOTALL)\n",
    "        orders = eval(orders_match.group(1)) if orders_match else []\n",
    "        \n",
    "        # Extraire onion_value\n",
    "        onion_pattern = r'\"onion_value\":\\s*(\\d+)'\n",
    "        onion_match = re.search(onion_pattern, content)\n",
    "        onion_value = int(onion_match.group(1)) if onion_match else 'N/A'\n",
    "        \n",
    "        # Extraire tomato_value\n",
    "        tomato_pattern = r'\"tomato_value\":\\s*(\\d+)'\n",
    "        tomato_match = re.search(tomato_pattern, content)\n",
    "        tomato_value = int(tomato_match.group(1)) if tomato_match else 'N/A'\n",
    "        \n",
    "        return {\n",
    "            'start_all_orders': orders,\n",
    "            'onion_value': onion_value,\n",
    "            'tomato_value': tomato_value\n",
    "        }\n",
    "    except Exception as e:\n",
    "        print(f\"Erreur d'extraction des métadonnées: {e}\")\n",
    "        return {\n",
    "            'start_all_orders': [],\n",
    "            'onion_value': 'N/A',\n",
    "            'tomato_value': 'N/A'\n",
    "        }\n",
    "\n",
    "def clean_grid_layout(grid_txt):\n",
    "    \"\"\"Nettoie et normalise un layout de grille pour éviter les erreurs 'Ragged grid'\"\"\"\n",
    "    # Nettoyer les caractères de contrôle et normaliser les espaces\n",
    "    # Remplacer les tabulations par des espaces\n",
    "    grid_txt = grid_txt.replace('\\t', '').strip()\n",
    "    \n",
    "    # Diviser en lignes et nettoyer chaque ligne\n",
    "    lines = []\n",
    "    for line in grid_txt.split('\\n'):\n",
    "        # Supprimer les espaces en début et fin, garder les espaces intérieurs\n",
    "        cleaned_line = line.strip()\n",
    "        if cleaned_line:  # Ignorer les lignes vides\n",
    "            lines.append(cleaned_line)\n",
    "    \n",
    "    if not lines:\n",
    "        return None\n",
    "    \n",
    "    # Trouver la largeur maximale\n",
    "    max_width = max(len(line) for line in lines)\n",
    "    \n",
    "    # Normaliser toutes les lignes à la même largeur\n",
    "    normalized_lines = []\n",
    "    for line in lines:\n",
    "        if len(line) < max_width:\n",
    "            # Ajouter des espaces à droite pour égaliser la largeur\n",
    "            line = line + ' ' * (max_width - len(line))\n",
    "        normalized_lines.append(line)\n",
    "    \n",
    "    return '\\n'.join(normalized_lines)\n",
    "\n",
    "def load_and_display_layout_from_file(layout_path, show_images=True):\n",
    "    \"\"\"Charge et affiche un layout depuis un fichier .layout (pseudo-JSON avec triple quotes)\"\"\"\n",
    "    try:\n",
    "        with open(layout_path, 'r', encoding='utf-8') as f:\n",
    "            content = f.read().strip()\n",
    "        \n",
    "        layout_name = os.path.basename(layout_path).replace('.layout', '')\n",
    "        \n",
    "        # Extraire la grille avec le parser spécialisé\n",
    "        grid_txt = extract_grid_from_python_json(content)\n",
    "        \n",
    "        if not grid_txt:\n",
    "            print(f\"❌ Impossible d'extraire la grille du fichier\")\n",
    "            return False, layout_name, 0\n",
    "        \n",
    "        # Extraire les métadonnées\n",
    "        metadata = extract_metadata_from_content(content)\n",
    "        \n",
    "        print(f\"\\n{'='*60}\")\n",
    "        print(f\"📁 Layout: {layout_name}\")\n",
    "        print(f\"📊 Recettes: {metadata['start_all_orders']}\")\n",
    "        print(f\"🥄 Valeur oignon: {metadata['onion_value']}\")\n",
    "        print(f\"🍅 Valeur tomate: {metadata['tomato_value']}\")\n",
    "        print(f\"{'='*60}\")\n",
    "        \n",
    "        # Nettoyer le layout pour éviter les erreurs \"Ragged grid\"\n",
    "        cleaned_grid = clean_grid_layout(grid_txt)\n",
    "        if cleaned_grid is None:\n",
    "            print(f\"❌ Layout vide ou invalide après nettoyage\")\n",
    "            return False, layout_name, 0\n",
    "        \n",
    "        # Debug: afficher les dimensions de la grille\n",
    "        grid_lines = cleaned_grid.split('\\n')\n",
    "        line_lengths = [len(line) for line in grid_lines]\n",
    "        print(f\"🔧 Grille: {len(grid_lines)} lignes, largeur: {max(line_lengths)} caractères\")\n",
    "        \n",
    "        # Afficher un aperçu de la grille nettoyée\n",
    "        print(f\"🔍 Aperçu de la grille nettoyée:\")\n",
    "        for i, line in enumerate(grid_lines[:3]):\n",
    "            print(f\"   Ligne {i+1}: '{line}'\")\n",
    "        if len(grid_lines) > 3:\n",
    "            print(f\"   ... et {len(grid_lines)-3} autres lignes\")\n",
    "        \n",
    "        # Afficher le layout seulement si demandé\n",
    "        if show_images:\n",
    "            try:\n",
    "                render_layout(cleaned_grid)\n",
    "                print(f\"✅ Image générée avec succès\")\n",
    "                return True, layout_name, len(grid_lines)\n",
    "            except Exception as render_error:\n",
    "                print(f\"❌ Erreur lors du rendu: {render_error}\")\n",
    "                return False, layout_name, len(grid_lines)\n",
    "        \n",
    "        return True, layout_name, len(grid_lines)\n",
    "        \n",
    "    except Exception as e:\n",
    "        print(f\"❌ Erreur lors du chargement de {layout_name}: {e}\")\n",
    "        return False, layout_name, 0\n",
    "\n",
    "def explore_layouts_in_directory(directory_path, directory_name, max_layouts=10, preview_mode=True):\n",
    "    \"\"\"Explore et affiche tous les layouts d'un répertoire donné avec optimisations\"\"\"\n",
    "    print(f\"🔍 Recherche dans: {directory_path}\")\n",
    "    \n",
    "    if not os.path.exists(directory_path):\n",
    "        print(f\"❌ Répertoire non trouvé: {directory_path}\")\n",
    "        return False\n",
    "    \n",
    "    layout_files = glob.glob(os.path.join(directory_path, \"*.layout\"))\n",
    "    layout_files.sort()  # Trier par nom\n",
    "    \n",
    "    if not layout_files:\n",
    "        print(f\"❌ Aucun fichier .layout trouvé dans {directory_name}\")\n",
    "        return False\n",
    "    \n",
    "    total_layouts = len(layout_files)\n",
    "    print(f\"✅ {total_layouts} layouts trouvés dans {directory_name}\")\n",
    "    \n",
    "    if preview_mode and total_layouts > max_layouts:\n",
    "        print(f\"🚀 Mode aperçu activé: affichage des {max_layouts} premiers layouts\")\n",
    "        print(f\"💡 Pour voir tous les layouts, changez PREVIEW_MODE=False\")\n",
    "        layout_files = layout_files[:max_layouts]\n",
    "    \n",
    "    success_count = 0\n",
    "    images_displayed = 0\n",
    "    layout_info = []\n",
    "    \n",
    "    # Barre de progression simple\n",
    "    for i, layout_file in enumerate(layout_files, 1):\n",
    "        print(f\"🔄 Traitement {i}/{len(layout_files)}: {os.path.basename(layout_file)}\")\n",
    "        \n",
    "        # En mode aperçu, afficher les images pour tous les layouts traités\n",
    "        # En mode complet, afficher toutes les images\n",
    "        should_show_image = True\n",
    "        \n",
    "        success, name, grid_size = load_and_display_layout_from_file(\n",
    "            layout_file, \n",
    "            show_images=should_show_image\n",
    "        )\n",
    "        \n",
    "        if success:\n",
    "            success_count += 1\n",
    "            layout_info.append((name, grid_size))\n",
    "            if should_show_image:\n",
    "                images_displayed += 1\n",
    "    \n",
    "    # Résumé optimisé\n",
    "    print(f\"\\n📊 Résumé: {success_count}/{len(layout_files)} layouts traités avec succès\")\n",
    "    print(f\"🖼️  Images affichées: {images_displayed}\")\n",
    "    if preview_mode and total_layouts > max_layouts:\n",
    "        print(f\"📈 Layouts restants: {total_layouts - max_layouts}\")\n",
    "    \n",
    "    # Statistiques rapides\n",
    "    if layout_info:\n",
    "        grid_sizes = [size for _, size in layout_info]\n",
    "        print(f\"📏 Tailles de grilles: min={min(grid_sizes)}, max={max(grid_sizes)}, moy={sum(grid_sizes)/len(grid_sizes):.1f}\")\n",
    "    \n",
    "    return True\n",
    "\n",
    "# Configuration optimisée - Tester avec 2 layouts d'abord\n",
    "PREVIEW_MODE = True  # Changer à False pour voir tous les layouts\n",
    "MAX_LAYOUTS_PREVIEW = 10  # Réduire à 2 pour tester plus rapidement\n",
    "\n",
    "# Rechercher les layouts dans différents dossiers\n",
    "directories_to_check = [\n",
    "    (\"./overcooked_ai_py/data/layouts/generation_cesar/\", \"generation_cesar\"),\n",
    "    (\"./overcooked_ai_py/data/layouts/generation_cesar_static/\", \"generation_cesar_static\")\n",
    "]\n",
    "\n",
    "layouts_found = False\n",
    "start_time = time.time()\n",
    "\n",
    "for directory_path, directory_name in directories_to_check:\n",
    "    print(f\"\\n🗂️  Exploration du dossier: {directory_name}\")\n",
    "    print(\"=\"*80)\n",
    "    \n",
    "    if explore_layouts_in_directory(directory_path, directory_name, MAX_LAYOUTS_PREVIEW, PREVIEW_MODE):\n",
    "        layouts_found = True\n",
    "        break  # Arrêter après avoir trouvé le premier dossier avec des layouts\n",
    "\n",
    "execution_time = time.time() - start_time\n",
    "print(f\"\\n⏱️  Temps d'exécution: {execution_time:.2f} secondes\")\n",
    "\n",
    "if not layouts_found:\n",
    "    print(\"\\n❌ Aucun layout trouvé dans les répertoires spécifiés\")\n",
    "    print(\"💡 Vérifiez que les layouts ont été générés correctement\")\n",
    "    print(\"📁 Répertoires vérifiés:\")\n",
    "    for directory_path, directory_name in directories_to_check:\n",
    "        print(f\"   - {directory_path}\")\n",
    "        \n",
    "print(f\"\\n🎛️  Contrôles disponibles:\")\n",
    "print(f\"   - PREVIEW_MODE = {PREVIEW_MODE} (pour limiter l'affichage)\")\n",
    "print(f\"   - MAX_LAYOUTS_PREVIEW = {MAX_LAYOUTS_PREVIEW} (nombre max d'aperçus)\")\n",
    "print(f\"💡 Modifiez ces variables pour personnaliser l'affichage\")"
   ]
  }
 ],
 "metadata": {
  "kernelspec": {
   "display_name": "overcooked",
   "language": "python",
   "name": "python3"
  },
  "language_info": {
   "codemirror_mode": {
    "name": "ipython",
    "version": 3
   },
   "file_extension": ".py",
   "mimetype": "text/x-python",
   "name": "python",
   "nbconvert_exporter": "python",
   "pygments_lexer": "ipython3",
   "version": "3.11.2"
  }
 },
 "nbformat": 4,
 "nbformat_minor": 5
}
