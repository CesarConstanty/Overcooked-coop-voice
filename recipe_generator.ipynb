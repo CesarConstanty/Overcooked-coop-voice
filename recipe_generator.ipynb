{
 "cells": [
  {
   "cell_type": "code",
   "execution_count": 12,
   "id": "6491fd1b-f18f-43f1-8e25-7e8ee70f45c5",
   "metadata": {},
   "outputs": [
    {
     "name": "stdout",
     "output_type": "stream",
     "text": [
      "Recettes disponibles: {('onion', 'onion', 'onion'), ('tomato',), ('tomato', 'tomato', 'tomato'), ('onion', 'tomato'), ('onion', 'tomato', 'tomato'), ('tomato', 'tomato'), ('onion',), ('onion', 'onion', 'tomato'), ('onion', 'onion')}\n",
      "Recette: ('onion', 'onion', 'onion') - Valeur: 3\n",
      "Recette: ('tomato',) - Valeur: 1\n",
      "Recette: ('tomato', 'tomato', 'tomato') - Valeur: 3\n",
      "Recette: ('onion', 'tomato') - Valeur: 2\n",
      "Recette: ('onion', 'tomato', 'tomato') - Valeur: 3\n",
      "Recette: ('tomato', 'tomato') - Valeur: 2\n",
      "Recette: ('onion',) - Valeur: 1\n",
      "Recette: ('onion', 'onion', 'tomato') - Valeur: 3\n",
      "Recette: ('onion', 'onion') - Valeur: 2\n",
      "Nombre de combinaisons possibles: 84\n",
      "Nombre d'ordres sélectionnés (valeur=14): 25\n",
      "Valeur: 11, Nombre de recettes: 4\n",
      "Valeur: 12, Nombre de recettes: 18\n",
      "Valeur: 13, Nombre de recettes: 24\n",
      "Valeur: 14, Nombre de recettes: 25\n",
      "Valeur: 15, Nombre de recettes: 10\n",
      "\n",
      "Ordres sélectionnés:\n",
      "Ordre 1: [{'ingredients': ['onion', 'onion', 'onion']}, {'ingredients': ['tomato']}, {'ingredients': ['tomato', 'tomato', 'tomato']}, {'ingredients': ['onion', 'tomato']}, {'ingredients': ['onion', 'tomato', 'tomato']}, {'ingredients': ['tomato', 'tomato']}]\n",
      "Ordre 2: [{'ingredients': ['onion', 'onion', 'onion']}, {'ingredients': ['tomato']}, {'ingredients': ['tomato', 'tomato', 'tomato']}, {'ingredients': ['onion', 'tomato']}, {'ingredients': ['onion', 'tomato', 'tomato']}, {'ingredients': ['onion', 'onion']}]\n",
      "Ordre 3: [{'ingredients': ['onion', 'onion', 'onion']}, {'ingredients': ['tomato']}, {'ingredients': ['tomato', 'tomato', 'tomato']}, {'ingredients': ['onion', 'tomato']}, {'ingredients': ['tomato', 'tomato']}, {'ingredients': ['onion', 'onion', 'tomato']}]\n",
      "Ordre 4: [{'ingredients': ['onion', 'onion', 'onion']}, {'ingredients': ['tomato']}, {'ingredients': ['tomato', 'tomato', 'tomato']}, {'ingredients': ['onion', 'tomato']}, {'ingredients': ['onion', 'onion', 'tomato']}, {'ingredients': ['onion', 'onion']}]\n",
      "Ordre 5: [{'ingredients': ['onion', 'onion', 'onion']}, {'ingredients': ['tomato']}, {'ingredients': ['tomato', 'tomato', 'tomato']}, {'ingredients': ['onion', 'tomato', 'tomato']}, {'ingredients': ['tomato', 'tomato']}, {'ingredients': ['onion', 'onion']}]\n",
      "Ordre 6: [{'ingredients': ['onion', 'onion', 'onion']}, {'ingredients': ['tomato']}, {'ingredients': ['tomato', 'tomato', 'tomato']}, {'ingredients': ['onion', 'tomato', 'tomato']}, {'ingredients': ['onion']}, {'ingredients': ['onion', 'onion', 'tomato']}]\n",
      "Ordre 7: [{'ingredients': ['onion', 'onion', 'onion']}, {'ingredients': ['tomato']}, {'ingredients': ['tomato', 'tomato', 'tomato']}, {'ingredients': ['tomato', 'tomato']}, {'ingredients': ['onion', 'onion', 'tomato']}, {'ingredients': ['onion', 'onion']}]\n",
      "Ordre 8: [{'ingredients': ['onion', 'onion', 'onion']}, {'ingredients': ['tomato']}, {'ingredients': ['onion', 'tomato']}, {'ingredients': ['onion', 'tomato', 'tomato']}, {'ingredients': ['tomato', 'tomato']}, {'ingredients': ['onion', 'onion', 'tomato']}]\n",
      "Ordre 9: [{'ingredients': ['onion', 'onion', 'onion']}, {'ingredients': ['tomato']}, {'ingredients': ['onion', 'tomato']}, {'ingredients': ['onion', 'tomato', 'tomato']}, {'ingredients': ['onion', 'onion', 'tomato']}, {'ingredients': ['onion', 'onion']}]\n",
      "Ordre 10: [{'ingredients': ['onion', 'onion', 'onion']}, {'ingredients': ['tomato']}, {'ingredients': ['onion', 'tomato', 'tomato']}, {'ingredients': ['tomato', 'tomato']}, {'ingredients': ['onion', 'onion', 'tomato']}, {'ingredients': ['onion', 'onion']}]\n",
      "Ordre 11: [{'ingredients': ['onion', 'onion', 'onion']}, {'ingredients': ['tomato', 'tomato', 'tomato']}, {'ingredients': ['onion', 'tomato']}, {'ingredients': ['onion', 'tomato', 'tomato']}, {'ingredients': ['tomato', 'tomato']}, {'ingredients': ['onion']}]\n",
      "Ordre 12: [{'ingredients': ['onion', 'onion', 'onion']}, {'ingredients': ['tomato', 'tomato', 'tomato']}, {'ingredients': ['onion', 'tomato']}, {'ingredients': ['onion', 'tomato', 'tomato']}, {'ingredients': ['onion']}, {'ingredients': ['onion', 'onion']}]\n",
      "Ordre 13: [{'ingredients': ['onion', 'onion', 'onion']}, {'ingredients': ['tomato', 'tomato', 'tomato']}, {'ingredients': ['onion', 'tomato']}, {'ingredients': ['tomato', 'tomato']}, {'ingredients': ['onion']}, {'ingredients': ['onion', 'onion', 'tomato']}]\n",
      "Ordre 14: [{'ingredients': ['onion', 'onion', 'onion']}, {'ingredients': ['tomato', 'tomato', 'tomato']}, {'ingredients': ['onion', 'tomato']}, {'ingredients': ['onion']}, {'ingredients': ['onion', 'onion', 'tomato']}, {'ingredients': ['onion', 'onion']}]\n",
      "Ordre 15: [{'ingredients': ['onion', 'onion', 'onion']}, {'ingredients': ['tomato', 'tomato', 'tomato']}, {'ingredients': ['onion', 'tomato', 'tomato']}, {'ingredients': ['tomato', 'tomato']}, {'ingredients': ['onion']}, {'ingredients': ['onion', 'onion']}]\n",
      "Ordre 16: [{'ingredients': ['onion', 'onion', 'onion']}, {'ingredients': ['tomato', 'tomato', 'tomato']}, {'ingredients': ['tomato', 'tomato']}, {'ingredients': ['onion']}, {'ingredients': ['onion', 'onion', 'tomato']}, {'ingredients': ['onion', 'onion']}]\n",
      "Ordre 17: [{'ingredients': ['onion', 'onion', 'onion']}, {'ingredients': ['onion', 'tomato']}, {'ingredients': ['onion', 'tomato', 'tomato']}, {'ingredients': ['tomato', 'tomato']}, {'ingredients': ['onion']}, {'ingredients': ['onion', 'onion', 'tomato']}]\n",
      "Ordre 18: [{'ingredients': ['onion', 'onion', 'onion']}, {'ingredients': ['onion', 'tomato']}, {'ingredients': ['onion', 'tomato', 'tomato']}, {'ingredients': ['onion']}, {'ingredients': ['onion', 'onion', 'tomato']}, {'ingredients': ['onion', 'onion']}]\n",
      "Ordre 19: [{'ingredients': ['onion', 'onion', 'onion']}, {'ingredients': ['onion', 'tomato', 'tomato']}, {'ingredients': ['tomato', 'tomato']}, {'ingredients': ['onion']}, {'ingredients': ['onion', 'onion', 'tomato']}, {'ingredients': ['onion', 'onion']}]\n",
      "Ordre 20: [{'ingredients': ['tomato']}, {'ingredients': ['tomato', 'tomato', 'tomato']}, {'ingredients': ['onion', 'tomato']}, {'ingredients': ['onion', 'tomato', 'tomato']}, {'ingredients': ['tomato', 'tomato']}, {'ingredients': ['onion', 'onion', 'tomato']}]\n",
      "Ordre 21: [{'ingredients': ['tomato']}, {'ingredients': ['tomato', 'tomato', 'tomato']}, {'ingredients': ['onion', 'tomato']}, {'ingredients': ['onion', 'tomato', 'tomato']}, {'ingredients': ['onion', 'onion', 'tomato']}, {'ingredients': ['onion', 'onion']}]\n",
      "Ordre 22: [{'ingredients': ['tomato']}, {'ingredients': ['tomato', 'tomato', 'tomato']}, {'ingredients': ['onion', 'tomato', 'tomato']}, {'ingredients': ['tomato', 'tomato']}, {'ingredients': ['onion', 'onion', 'tomato']}, {'ingredients': ['onion', 'onion']}]\n",
      "Ordre 23: [{'ingredients': ['tomato', 'tomato', 'tomato']}, {'ingredients': ['onion', 'tomato']}, {'ingredients': ['onion', 'tomato', 'tomato']}, {'ingredients': ['tomato', 'tomato']}, {'ingredients': ['onion']}, {'ingredients': ['onion', 'onion', 'tomato']}]\n",
      "Ordre 24: [{'ingredients': ['tomato', 'tomato', 'tomato']}, {'ingredients': ['onion', 'tomato']}, {'ingredients': ['onion', 'tomato', 'tomato']}, {'ingredients': ['onion']}, {'ingredients': ['onion', 'onion', 'tomato']}, {'ingredients': ['onion', 'onion']}]\n",
      "Ordre 25: [{'ingredients': ['tomato', 'tomato', 'tomato']}, {'ingredients': ['onion', 'tomato', 'tomato']}, {'ingredients': ['tomato', 'tomato']}, {'ingredients': ['onion']}, {'ingredients': ['onion', 'onion', 'tomato']}, {'ingredients': ['onion', 'onion']}]\n"
     ]
    }
   ],
   "source": [
    "from overcooked_ai_py.mdp.overcooked_mdp import Recipe\n",
    "from itertools import combinations\n",
    "from copy import deepcopy\n",
    "\n",
    "# Configuration des recettes\n",
    "Recipe.configure({'onion_value': 1, 'tomato_value': 1})\n",
    "print(\"Recettes disponibles:\", Recipe.ALL_RECIPES)\n",
    "\n",
    "# Création du dictionnaire des recettes\n",
    "RECIPES = {}\n",
    "for recipe in Recipe.ALL_RECIPES:\n",
    "    RECIPES[recipe] = recipe.value\n",
    "    print(f\"Recette: {recipe} - Valeur: {recipe.value}\")\n",
    "\n",
    "# Génération des combinaisons de 6 recettes\n",
    "comb = combinations(RECIPES, 6)\n",
    "print(f\"Nombre de combinaisons possibles: {len(list(deepcopy(comb)))}\")\n",
    "\n",
    "# Calcul des valeurs pour chaque combinaison\n",
    "comb = combinations(RECIPES, 6)  # Recréer l'itérateur\n",
    "comb_value = {}\n",
    "for orders in comb:\n",
    "    value = 0\n",
    "    for recipe in orders:\n",
    "        value += recipe.value\n",
    "    comb_value[orders] = value\n",
    "\n",
    "# Tri des combinaisons par valeur\n",
    "comb_value_sorted = {k: v for k, v in sorted(comb_value.items(), key=lambda item: item[1])}\n",
    "\n",
    "# Sélection des ordres avec une valeur spécifique\n",
    "selected_orders = [orders for orders, value in comb_value_sorted.items() if value == 14]\n",
    "print(f\"Nombre d'ordres sélectionnés (valeur=14): {len(selected_orders)}\")\n",
    "\n",
    "# Statistiques sur les valeurs\n",
    "former_value = 0\n",
    "count = 0\n",
    "for key, value in comb_value_sorted.items():\n",
    "    if value != former_value:\n",
    "        if former_value != 0:  # Ne pas afficher la première fois\n",
    "            print(f\"Valeur: {former_value}, Nombre de recettes: {count}\")\n",
    "        former_value = value\n",
    "        count = 1\n",
    "    else: \n",
    "        count += 1 \n",
    "\n",
    "# Affichage des ordres sélectionnés\n",
    "print(\"\\nOrdres sélectionnés:\")\n",
    "for i, order in enumerate(selected_orders):\n",
    "    print(f\"Ordre {i+1}: {[{'ingredients': list(ingredients)} for ingredients in order]}\")"
   ]
  },
  {
   "cell_type": "code",
   "execution_count": 14,
   "id": "1a827386-c81b-48db-b44f-f84cc35dcab1",
   "metadata": {},
   "outputs": [
    {
     "name": "stdout",
     "output_type": "stream",
     "text": [
      "1\n",
      "[[0. 1. 1. 2. 1. 2. 2. 1. 2. 2. 1. 2. 2. 3. 2. 3. 2. 3. 3. 1. 2. 2. 2. 3.\n",
      "  3.]\n",
      " [1. 0. 2. 1. 1. 2. 2. 2. 1. 2. 2. 1. 3. 2. 2. 3. 3. 2. 3. 2. 1. 2. 3. 2.\n",
      "  3.]\n",
      " [1. 2. 0. 1. 2. 2. 1. 1. 2. 2. 2. 3. 1. 2. 3. 2. 2. 3. 3. 1. 2. 2. 2. 3.\n",
      "  3.]\n",
      " [2. 1. 1. 0. 2. 2. 1. 2. 1. 2. 3. 2. 2. 1. 3. 2. 3. 2. 3. 2. 1. 2. 3. 2.\n",
      "  3.]\n",
      " [1. 1. 2. 2. 0. 2. 1. 2. 2. 1. 2. 2. 3. 3. 1. 2. 3. 3. 2. 2. 2. 1. 3. 3.\n",
      "  2.]\n",
      " [2. 2. 2. 2. 2. 0. 2. 2. 2. 2. 2. 2. 2. 2. 2. 2. 2. 2. 2. 2. 2. 2. 2. 2.\n",
      "  2.]\n",
      " [2. 2. 1. 1. 1. 2. 0. 2. 2. 1. 3. 3. 2. 2. 2. 1. 3. 3. 2. 2. 2. 1. 3. 3.\n",
      "  2.]\n",
      " [1. 2. 1. 2. 2. 2. 2. 0. 1. 1. 2. 3. 2. 3. 3. 3. 1. 2. 2. 1. 2. 2. 2. 3.\n",
      "  3.]\n",
      " [2. 1. 2. 1. 2. 2. 2. 1. 0. 1. 3. 2. 3. 2. 3. 3. 2. 1. 2. 2. 1. 2. 3. 2.\n",
      "  3.]\n",
      " [2. 2. 2. 2. 1. 2. 1. 1. 1. 0. 3. 3. 3. 3. 2. 2. 2. 2. 1. 2. 2. 1. 3. 3.\n",
      "  2.]\n",
      " [1. 2. 2. 3. 2. 2. 3. 2. 3. 3. 0. 1. 1. 2. 1. 2. 1. 2. 2. 2. 3. 3. 1. 2.\n",
      "  2.]\n",
      " [2. 1. 3. 2. 2. 2. 3. 3. 2. 3. 1. 0. 2. 1. 1. 2. 2. 1. 2. 3. 2. 3. 2. 1.\n",
      "  2.]\n",
      " [2. 3. 1. 2. 3. 2. 2. 2. 3. 3. 1. 2. 0. 1. 2. 1. 1. 2. 2. 2. 3. 3. 1. 2.\n",
      "  2.]\n",
      " [3. 2. 2. 1. 3. 2. 2. 3. 2. 3. 2. 1. 1. 0. 2. 1. 2. 1. 2. 3. 2. 3. 2. 1.\n",
      "  2.]\n",
      " [2. 2. 3. 3. 1. 2. 2. 3. 3. 2. 1. 1. 2. 2. 0. 1. 2. 2. 1. 3. 3. 2. 2. 2.\n",
      "  1.]\n",
      " [3. 3. 2. 2. 2. 2. 1. 3. 3. 2. 2. 2. 1. 1. 1. 0. 2. 2. 1. 3. 3. 2. 2. 2.\n",
      "  1.]\n",
      " [2. 3. 2. 3. 3. 2. 3. 1. 2. 2. 1. 2. 1. 2. 2. 2. 0. 1. 1. 2. 3. 3. 1. 2.\n",
      "  2.]\n",
      " [3. 2. 3. 2. 3. 2. 3. 2. 1. 2. 2. 1. 2. 1. 2. 2. 1. 0. 1. 3. 2. 3. 2. 1.\n",
      "  2.]\n",
      " [3. 3. 3. 3. 2. 2. 2. 2. 2. 1. 2. 2. 2. 2. 1. 1. 1. 1. 0. 3. 3. 2. 2. 2.\n",
      "  1.]\n",
      " [1. 2. 1. 2. 2. 2. 2. 1. 2. 2. 2. 3. 2. 3. 3. 3. 2. 3. 3. 0. 1. 1. 1. 2.\n",
      "  2.]\n",
      " [2. 1. 2. 1. 2. 2. 2. 2. 1. 2. 3. 2. 3. 2. 3. 3. 3. 2. 3. 1. 0. 1. 2. 1.\n",
      "  2.]\n",
      " [2. 2. 2. 2. 1. 2. 1. 2. 2. 1. 3. 3. 3. 3. 2. 2. 3. 3. 2. 1. 1. 0. 2. 2.\n",
      "  1.]\n",
      " [2. 3. 2. 3. 3. 2. 3. 2. 3. 3. 1. 2. 1. 2. 2. 2. 1. 2. 2. 1. 2. 2. 0. 1.\n",
      "  1.]\n",
      " [3. 2. 3. 2. 3. 2. 3. 3. 2. 3. 2. 1. 2. 1. 2. 2. 2. 1. 2. 2. 1. 2. 1. 0.\n",
      "  1.]\n",
      " [3. 3. 3. 3. 2. 2. 2. 3. 3. 2. 2. 2. 2. 2. 1. 1. 2. 2. 1. 2. 2. 1. 1. 1.\n",
      "  0.]]\n"
     ]
    },
    {
     "name": "stderr",
     "output_type": "stream",
     "text": [
      "/tmp/ipykernel_73531/4145788894.py:11: UserWarning: No artists with labels found to put in legend.  Note that artists whose label start with an underscore are ignored when legend() is called with no argument.\n",
      "  plt.legend()\n"
     ]
    },
    {
     "data": {
      "image/png": "[encoded data removed]",
      "text/plain": [
       "<Figure size 640x480 with 1 Axes>"
      ]
     },
     "metadata": {},
     "output_type": "display_data"
    }
   ],
   "source": [
    "import numpy as np\n",
    "import matplotlib.pyplot as plt\n",
    "#print(selected_orders)\n",
    "print(len(set(selected_orders[0]) - set(selected_orders[2])))\n",
    "repetitions = np.zeros((len(selected_orders),len(selected_orders)))\n",
    "for i in range(len(selected_orders)):\n",
    "    for j in range(len(selected_orders)):\n",
    "        repetitions[i,j] = len(set(selected_orders[i]) - set(selected_orders[j]))\n",
    "print(repetitions)\n",
    "plt.imshow(repetitions, cmap='hot', interpolation='nearest')\n",
    "plt.legend()\n",
    "plt.show()"
   ]
  },
  {
   "cell_type": "code",
   "execution_count": 15,
   "id": "5f8cd34d-edd4-48b9-804e-211319082a31",
   "metadata": {},
   "outputs": [
    {
     "name": "stdout",
     "output_type": "stream",
     "text": [
      "53130\n"
     ]
    }
   ],
   "source": [
    "all_possible_combinations = list(combinations(range(len(selected_orders)), 5))\n",
    "print(len(all_possible_combinations))\n",
    "all_combinations_diff = []\n",
    "for comb in all_possible_combinations:\n",
    "    all_repet = 0\n",
    "    for i in comb:\n",
    "        for j in comb:\n",
    "            if j>i:\n",
    "                all_repet += repetitions[i,j]\n",
    "    all_combinations_diff.append(all_repet)"
   ]
  },
  {
   "cell_type": "code",
   "execution_count": 16,
   "id": "7e6550eb-2b02-44b2-a3e2-718a62be2306",
   "metadata": {},
   "outputs": [
    {
     "name": "stdout",
     "output_type": "stream",
     "text": [
      "Différence maximale: 23.0\n",
      "Index de la combinaison sélectionnée: 25029\n",
      "Combinaison sélectionnée: (2, 9, 10, 15, 23)\n",
      "Index 2:\n",
      "  Recettes: (('onion', 'onion', 'onion'), ('tomato',), ('tomato', 'tomato', 'tomato'), ('onion', 'tomato'), ('tomato', 'tomato'), ('onion', 'onion', 'tomato'))\n",
      "Index 9:\n",
      "  Recettes: (('onion', 'onion', 'onion'), ('tomato',), ('onion', 'tomato', 'tomato'), ('tomato', 'tomato'), ('onion', 'onion', 'tomato'), ('onion', 'onion'))\n",
      "Index 10:\n",
      "  Recettes: (('onion', 'onion', 'onion'), ('tomato', 'tomato', 'tomato'), ('onion', 'tomato'), ('onion', 'tomato', 'tomato'), ('tomato', 'tomato'), ('onion',))\n",
      "Index 15:\n",
      "  Recettes: (('onion', 'onion', 'onion'), ('tomato', 'tomato', 'tomato'), ('tomato', 'tomato'), ('onion',), ('onion', 'onion', 'tomato'), ('onion', 'onion'))\n",
      "Index 23:\n",
      "  Recettes: (('tomato', 'tomato', 'tomato'), ('onion', 'tomato'), ('onion', 'tomato', 'tomato'), ('onion',), ('onion', 'onion', 'tomato'), ('onion', 'onion'))\n",
      "\n",
      "Nombre de recettes sélectionnées: 5\n"
     ]
    }
   ],
   "source": [
    "print(\"Différence maximale:\", max(all_combinations_diff))\n",
    "max_difference = np.where(np.array(all_combinations_diff) == max(all_combinations_diff))[0]\n",
    "selected_combination_index = max_difference[int(len(max_difference)/2)]\n",
    "print(\"Index de la combinaison sélectionnée:\", selected_combination_index)\n",
    "selected_combination = list(all_possible_combinations)[selected_combination_index]\n",
    "print(\"Combinaison sélectionnée:\", selected_combination)\n",
    "\n",
    "selected_recipes = []\n",
    "for index in selected_combination:\n",
    "    print(f\"Index {index}:\")\n",
    "    selected_recipes.append(selected_orders[index])\n",
    "    print(f\"  Recettes: {selected_orders[index]}\")\n",
    "\n",
    "print(f\"\\nNombre de recettes sélectionnées: {len(selected_recipes)}\")"
   ]
  },
  {
   "cell_type": "code",
   "execution_count": 17,
   "id": "fd987868-c648-4f19-87a3-d0a50a9d7d3d",
   "metadata": {},
   "outputs": [
    {
     "name": "stdout",
     "output_type": "stream",
     "text": [
      "[{'ingredients': ['onion', 'onion', 'onion']}, {'ingredients': ['tomato']}, {'ingredients': ['tomato', 'tomato', 'tomato']}, {'ingredients': ['onion', 'tomato']}, {'ingredients': ['tomato', 'tomato']}, {'ingredients': ['onion', 'onion', 'tomato']}]\n",
      "[{'ingredients': ['onion', 'onion', 'onion']}, {'ingredients': ['tomato']}, {'ingredients': ['onion', 'tomato', 'tomato']}, {'ingredients': ['tomato', 'tomato']}, {'ingredients': ['onion', 'onion', 'tomato']}, {'ingredients': ['onion', 'onion']}]\n",
      "[{'ingredients': ['onion', 'onion', 'onion']}, {'ingredients': ['tomato', 'tomato', 'tomato']}, {'ingredients': ['onion', 'tomato']}, {'ingredients': ['onion', 'tomato', 'tomato']}, {'ingredients': ['tomato', 'tomato']}, {'ingredients': ['onion']}]\n",
      "[{'ingredients': ['onion', 'onion', 'onion']}, {'ingredients': ['tomato', 'tomato', 'tomato']}, {'ingredients': ['tomato', 'tomato']}, {'ingredients': ['onion']}, {'ingredients': ['onion', 'onion', 'tomato']}, {'ingredients': ['onion', 'onion']}]\n",
      "[{'ingredients': ['tomato', 'tomato', 'tomato']}, {'ingredients': ['onion', 'tomato']}, {'ingredients': ['onion', 'tomato', 'tomato']}, {'ingredients': ['onion']}, {'ingredients': ['onion', 'onion', 'tomato']}, {'ingredients': ['onion', 'onion']}]\n"
     ]
    }
   ],
   "source": [
    "for order in selected_recipes :\n",
    "    print([{\"ingredients\" : list(ingredients)\n",
    "           } for ingredients in order])"
   ]
  }
 ],
 "metadata": {
  "kernelspec": {
   "display_name": "overcooked",
   "language": "python",
   "name": "python3"
  },
  "language_info": {
   "codemirror_mode": {
    "name": "ipython",
    "version": 3
   },
   "file_extension": ".py",
   "mimetype": "text/x-python",
   "name": "python",
   "nbconvert_exporter": "python",
   "pygments_lexer": "ipython3",
   "version": "3.11.2"
  }
 },
 "nbformat": 4,
 "nbformat_minor": 5
}
