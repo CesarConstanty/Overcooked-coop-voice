{
 "cells": [
  {
   "cell_type": "code",
   "execution_count": 38,
   "id": "6491fd1b-f18f-43f1-8e25-7e8ee70f45c5",
   "metadata": {},
   "outputs": [
    {
     "name": "stdout",
     "output_type": "stream",
     "text": [
      "84\n",
      "n_ingredients 0 n_recipes 0\n",
      "n_ingredients 11 n_recipes 4\n",
      "n_ingredients 12 n_recipes 18\n",
      "n_ingredients 13 n_recipes 24\n",
      "n_ingredients 14 n_recipes 25\n",
      "n_ingredients 15 n_recipes 10\n",
      "[{'ingredients': ['tomato']}, {'ingredients': ['onion', 'onion']}, {'ingredients': ['onion', 'onion', 'onion']}, {'ingredients': ['tomato', 'tomato', 'tomato']}, {'ingredients': ['onion', 'onion', 'tomato']}, {'ingredients': ['onion', 'tomato']}]\n",
      "[{'ingredients': ['tomato']}, {'ingredients': ['onion', 'onion']}, {'ingredients': ['onion', 'onion', 'onion']}, {'ingredients': ['tomato', 'tomato', 'tomato']}, {'ingredients': ['onion', 'onion', 'tomato']}, {'ingredients': ['tomato', 'tomato']}]\n",
      "[{'ingredients': ['tomato']}, {'ingredients': ['onion', 'onion']}, {'ingredients': ['onion', 'onion', 'onion']}, {'ingredients': ['tomato', 'tomato', 'tomato']}, {'ingredients': ['onion', 'tomato']}, {'ingredients': ['onion', 'tomato', 'tomato']}]\n",
      "[{'ingredients': ['tomato']}, {'ingredients': ['onion', 'onion']}, {'ingredients': ['onion', 'onion', 'onion']}, {'ingredients': ['tomato', 'tomato', 'tomato']}, {'ingredients': ['onion', 'tomato', 'tomato']}, {'ingredients': ['tomato', 'tomato']}]\n",
      "[{'ingredients': ['tomato']}, {'ingredients': ['onion', 'onion']}, {'ingredients': ['onion', 'onion', 'onion']}, {'ingredients': ['onion', 'onion', 'tomato']}, {'ingredients': ['onion', 'tomato']}, {'ingredients': ['onion', 'tomato', 'tomato']}]\n",
      "[{'ingredients': ['tomato']}, {'ingredients': ['onion', 'onion']}, {'ingredients': ['onion', 'onion', 'onion']}, {'ingredients': ['onion', 'onion', 'tomato']}, {'ingredients': ['onion', 'tomato', 'tomato']}, {'ingredients': ['tomato', 'tomato']}]\n",
      "[{'ingredients': ['tomato']}, {'ingredients': ['onion', 'onion']}, {'ingredients': ['tomato', 'tomato', 'tomato']}, {'ingredients': ['onion', 'onion', 'tomato']}, {'ingredients': ['onion', 'tomato']}, {'ingredients': ['onion', 'tomato', 'tomato']}]\n",
      "[{'ingredients': ['tomato']}, {'ingredients': ['onion', 'onion']}, {'ingredients': ['tomato', 'tomato', 'tomato']}, {'ingredients': ['onion', 'onion', 'tomato']}, {'ingredients': ['onion', 'tomato', 'tomato']}, {'ingredients': ['tomato', 'tomato']}]\n",
      "[{'ingredients': ['tomato']}, {'ingredients': ['onion', 'onion', 'onion']}, {'ingredients': ['tomato', 'tomato', 'tomato']}, {'ingredients': ['onion', 'onion', 'tomato']}, {'ingredients': ['onion', 'tomato']}, {'ingredients': ['tomato', 'tomato']}]\n",
      "[{'ingredients': ['tomato']}, {'ingredients': ['onion', 'onion', 'onion']}, {'ingredients': ['tomato', 'tomato', 'tomato']}, {'ingredients': ['onion', 'onion', 'tomato']}, {'ingredients': ['onion', 'tomato', 'tomato']}, {'ingredients': ['onion']}]\n",
      "[{'ingredients': ['tomato']}, {'ingredients': ['onion', 'onion', 'onion']}, {'ingredients': ['tomato', 'tomato', 'tomato']}, {'ingredients': ['onion', 'tomato']}, {'ingredients': ['onion', 'tomato', 'tomato']}, {'ingredients': ['tomato', 'tomato']}]\n",
      "[{'ingredients': ['tomato']}, {'ingredients': ['onion', 'onion', 'onion']}, {'ingredients': ['onion', 'onion', 'tomato']}, {'ingredients': ['onion', 'tomato']}, {'ingredients': ['onion', 'tomato', 'tomato']}, {'ingredients': ['tomato', 'tomato']}]\n",
      "[{'ingredients': ['tomato']}, {'ingredients': ['tomato', 'tomato', 'tomato']}, {'ingredients': ['onion', 'onion', 'tomato']}, {'ingredients': ['onion', 'tomato']}, {'ingredients': ['onion', 'tomato', 'tomato']}, {'ingredients': ['tomato', 'tomato']}]\n",
      "[{'ingredients': ['onion', 'onion']}, {'ingredients': ['onion', 'onion', 'onion']}, {'ingredients': ['tomato', 'tomato', 'tomato']}, {'ingredients': ['onion', 'onion', 'tomato']}, {'ingredients': ['onion', 'tomato']}, {'ingredients': ['onion']}]\n",
      "[{'ingredients': ['onion', 'onion']}, {'ingredients': ['onion', 'onion', 'onion']}, {'ingredients': ['tomato', 'tomato', 'tomato']}, {'ingredients': ['onion', 'onion', 'tomato']}, {'ingredients': ['tomato', 'tomato']}, {'ingredients': ['onion']}]\n",
      "[{'ingredients': ['onion', 'onion']}, {'ingredients': ['onion', 'onion', 'onion']}, {'ingredients': ['tomato', 'tomato', 'tomato']}, {'ingredients': ['onion', 'tomato']}, {'ingredients': ['onion', 'tomato', 'tomato']}, {'ingredients': ['onion']}]\n",
      "[{'ingredients': ['onion', 'onion']}, {'ingredients': ['onion', 'onion', 'onion']}, {'ingredients': ['tomato', 'tomato', 'tomato']}, {'ingredients': ['onion', 'tomato', 'tomato']}, {'ingredients': ['tomato', 'tomato']}, {'ingredients': ['onion']}]\n",
      "[{'ingredients': ['onion', 'onion']}, {'ingredients': ['onion', 'onion', 'onion']}, {'ingredients': ['onion', 'onion', 'tomato']}, {'ingredients': ['onion', 'tomato']}, {'ingredients': ['onion', 'tomato', 'tomato']}, {'ingredients': ['onion']}]\n",
      "[{'ingredients': ['onion', 'onion']}, {'ingredients': ['onion', 'onion', 'onion']}, {'ingredients': ['onion', 'onion', 'tomato']}, {'ingredients': ['onion', 'tomato', 'tomato']}, {'ingredients': ['tomato', 'tomato']}, {'ingredients': ['onion']}]\n",
      "[{'ingredients': ['onion', 'onion']}, {'ingredients': ['tomato', 'tomato', 'tomato']}, {'ingredients': ['onion', 'onion', 'tomato']}, {'ingredients': ['onion', 'tomato']}, {'ingredients': ['onion', 'tomato', 'tomato']}, {'ingredients': ['onion']}]\n",
      "[{'ingredients': ['onion', 'onion']}, {'ingredients': ['tomato', 'tomato', 'tomato']}, {'ingredients': ['onion', 'onion', 'tomato']}, {'ingredients': ['onion', 'tomato', 'tomato']}, {'ingredients': ['tomato', 'tomato']}, {'ingredients': ['onion']}]\n",
      "[{'ingredients': ['onion', 'onion', 'onion']}, {'ingredients': ['tomato', 'tomato', 'tomato']}, {'ingredients': ['onion', 'onion', 'tomato']}, {'ingredients': ['onion', 'tomato']}, {'ingredients': ['tomato', 'tomato']}, {'ingredients': ['onion']}]\n",
      "[{'ingredients': ['onion', 'onion', 'onion']}, {'ingredients': ['tomato', 'tomato', 'tomato']}, {'ingredients': ['onion', 'tomato']}, {'ingredients': ['onion', 'tomato', 'tomato']}, {'ingredients': ['tomato', 'tomato']}, {'ingredients': ['onion']}]\n",
      "[{'ingredients': ['onion', 'onion', 'onion']}, {'ingredients': ['onion', 'onion', 'tomato']}, {'ingredients': ['onion', 'tomato']}, {'ingredients': ['onion', 'tomato', 'tomato']}, {'ingredients': ['tomato', 'tomato']}, {'ingredients': ['onion']}]\n",
      "[{'ingredients': ['tomato', 'tomato', 'tomato']}, {'ingredients': ['onion', 'onion', 'tomato']}, {'ingredients': ['onion', 'tomato']}, {'ingredients': ['onion', 'tomato', 'tomato']}, {'ingredients': ['tomato', 'tomato']}, {'ingredients': ['onion']}]\n"
     ]
    }
   ],
   "source": [
    "from overcooked_ai_py.mdp.overcooked_mdp import Recipe\n",
    "from itertools import combinations\n",
    "from copy import deepcopy\n",
    "from ortools.sat.python import cp_model\n",
    "Recipe.configure({'onion_value': 1, 'tomato_value': 1})\n",
    "Recipe.ALL_RECIPES\n",
    "RECIPES = {}\n",
    "for recipe in Recipe.ALL_RECIPES:\n",
    "    RECIPES[recipe] = recipe.value\n",
    "    #print(recipe.value)\n",
    "comb = combinations(RECIPES, 6)\n",
    "print(len(list(deepcopy(comb))))\n",
    "comb_value = {}\n",
    "for orders in comb:\n",
    "    value =0\n",
    "    for recipe in orders:\n",
    "        value += recipe.value\n",
    "    comb_value[orders] = value\n",
    "comb_value_sorted = {k: v for k, v in sorted(comb_value.items(), key=lambda item: item[1])}\n",
    "#print(comb_value_sorted)\n",
    "selected_orders = [orders for orders, value in comb_value_sorted.items() if value == 14] #170 157 178 183 186 191\n",
    "former_value = 0\n",
    "count = 0\n",
    "for key, value in comb_value_sorted.items():\n",
    "    if value != former_value :\n",
    "        print(\"n_ingredients\",former_value, \"n_recipes\", count)\n",
    "        former_value = value\n",
    "        count = 1\n",
    "    else : \n",
    "        count += 1 \n",
    "        \n",
    "for order in selected_orders :\n",
    "    print([{\"ingredients\" : list(ingredients)\n",
    "           } for ingredients in order])\n",
    "        \n"
   ]
  },
  {
   "cell_type": "code",
   "execution_count": 39,
   "id": "1a827386-c81b-48db-b44f-f84cc35dcab1",
   "metadata": {},
   "outputs": [
    {
     "name": "stderr",
     "output_type": "stream",
     "text": [
      "No artists with labels found to put in legend.  Note that artists whose label start with an underscore are ignored when legend() is called with no argument.\n"
     ]
    },
    {
     "name": "stdout",
     "output_type": "stream",
     "text": [
      "1\n",
      "[[0. 1. 1. 2. 1. 2. 1. 2. 1. 2. 2. 2. 2. 1. 2. 2. 3. 2. 3. 2. 3. 2. 3. 3.\n",
      "  3.]\n",
      " [1. 0. 2. 1. 2. 1. 2. 1. 1. 2. 2. 2. 2. 2. 1. 3. 2. 3. 2. 3. 2. 2. 3. 3.\n",
      "  3.]\n",
      " [1. 2. 0. 1. 1. 2. 1. 2. 2. 2. 1. 2. 2. 2. 3. 1. 2. 2. 3. 2. 3. 3. 2. 3.\n",
      "  3.]\n",
      " [2. 1. 1. 0. 2. 1. 2. 1. 2. 2. 1. 2. 2. 3. 2. 2. 1. 3. 2. 3. 2. 3. 2. 3.\n",
      "  3.]\n",
      " [1. 2. 1. 2. 0. 1. 1. 2. 2. 2. 2. 1. 2. 2. 3. 2. 3. 1. 2. 2. 3. 3. 3. 2.\n",
      "  3.]\n",
      " [2. 1. 2. 1. 1. 0. 2. 1. 2. 2. 2. 1. 2. 3. 2. 3. 2. 2. 1. 3. 2. 3. 3. 2.\n",
      "  3.]\n",
      " [1. 2. 1. 2. 1. 2. 0. 1. 2. 2. 2. 2. 1. 2. 3. 2. 3. 2. 3. 1. 2. 3. 3. 3.\n",
      "  2.]\n",
      " [2. 1. 2. 1. 2. 1. 1. 0. 2. 2. 2. 2. 1. 3. 2. 3. 2. 3. 2. 2. 1. 3. 3. 3.\n",
      "  2.]\n",
      " [1. 1. 2. 2. 2. 2. 2. 2. 0. 2. 1. 1. 1. 2. 2. 3. 3. 3. 3. 3. 3. 1. 2. 2.\n",
      "  2.]\n",
      " [2. 2. 2. 2. 2. 2. 2. 2. 2. 0. 2. 2. 2. 2. 2. 2. 2. 2. 2. 2. 2. 2. 2. 2.\n",
      "  2.]\n",
      " [2. 2. 1. 1. 2. 2. 2. 2. 1. 2. 0. 1. 1. 3. 3. 2. 2. 3. 3. 3. 3. 2. 1. 2.\n",
      "  2.]\n",
      " [2. 2. 2. 2. 1. 1. 2. 2. 1. 2. 1. 0. 1. 3. 3. 3. 3. 2. 2. 3. 3. 2. 2. 1.\n",
      "  2.]\n",
      " [2. 2. 2. 2. 2. 2. 1. 1. 1. 2. 1. 1. 0. 3. 3. 3. 3. 3. 3. 2. 2. 2. 2. 2.\n",
      "  1.]\n",
      " [1. 2. 2. 3. 2. 3. 2. 3. 2. 2. 3. 3. 3. 0. 1. 1. 2. 1. 2. 1. 2. 1. 2. 2.\n",
      "  2.]\n",
      " [2. 1. 3. 2. 3. 2. 3. 2. 2. 2. 3. 3. 3. 1. 0. 2. 1. 2. 1. 2. 1. 1. 2. 2.\n",
      "  2.]\n",
      " [2. 3. 1. 2. 2. 3. 2. 3. 3. 2. 2. 3. 3. 1. 2. 0. 1. 1. 2. 1. 2. 2. 1. 2.\n",
      "  2.]\n",
      " [3. 2. 2. 1. 3. 2. 3. 2. 3. 2. 2. 3. 3. 2. 1. 1. 0. 2. 1. 2. 1. 2. 1. 2.\n",
      "  2.]\n",
      " [2. 3. 2. 3. 1. 2. 2. 3. 3. 2. 3. 2. 3. 1. 2. 1. 2. 0. 1. 1. 2. 2. 2. 1.\n",
      "  2.]\n",
      " [3. 2. 3. 2. 2. 1. 3. 2. 3. 2. 3. 2. 3. 2. 1. 2. 1. 1. 0. 2. 1. 2. 2. 1.\n",
      "  2.]\n",
      " [2. 3. 2. 3. 2. 3. 1. 2. 3. 2. 3. 3. 2. 1. 2. 1. 2. 1. 2. 0. 1. 2. 2. 2.\n",
      "  1.]\n",
      " [3. 2. 3. 2. 3. 2. 2. 1. 3. 2. 3. 3. 2. 2. 1. 2. 1. 2. 1. 1. 0. 2. 2. 2.\n",
      "  1.]\n",
      " [2. 2. 3. 3. 3. 3. 3. 3. 1. 2. 2. 2. 2. 1. 1. 2. 2. 2. 2. 2. 2. 0. 1. 1.\n",
      "  1.]\n",
      " [3. 3. 2. 2. 3. 3. 3. 3. 2. 2. 1. 2. 2. 2. 2. 1. 1. 2. 2. 2. 2. 1. 0. 1.\n",
      "  1.]\n",
      " [3. 3. 3. 3. 2. 2. 3. 3. 2. 2. 2. 1. 2. 2. 2. 2. 2. 1. 1. 2. 2. 1. 1. 0.\n",
      "  1.]\n",
      " [3. 3. 3. 3. 3. 3. 2. 2. 2. 2. 2. 2. 1. 2. 2. 2. 2. 2. 2. 1. 1. 1. 1. 1.\n",
      "  0.]]\n"
     ]
    },
    {
     "data": {
      "image/png": "[encoded data removed]",
      "text/plain": [
       "<Figure size 640x480 with 1 Axes>"
      ]
     },
     "metadata": {},
     "output_type": "display_data"
    }
   ],
   "source": [
    "import numpy as np\n",
    "import matplotlib.pyplot as plt\n",
    "#print(selected_orders)\n",
    "print(len(set(selected_orders[0]) - set(selected_orders[2])))\n",
    "repetitions = np.zeros((len(selected_orders),len(selected_orders)))\n",
    "for i in range(len(selected_orders)):\n",
    "    for j in range(len(selected_orders)):\n",
    "        repetitions[i,j] = len(set(selected_orders[i]) - set(selected_orders[j]))\n",
    "print(repetitions)\n",
    "plt.imshow(repetitions, cmap='hot', interpolation='nearest')\n",
    "plt.legend()\n",
    "plt.show()"
   ]
  },
  {
   "cell_type": "code",
   "execution_count": 40,
   "id": "5f8cd34d-edd4-48b9-804e-211319082a31",
   "metadata": {},
   "outputs": [
    {
     "name": "stdout",
     "output_type": "stream",
     "text": [
      "53130\n"
     ]
    }
   ],
   "source": [
    "all_possible_combinations = list(combinations(range(len(selected_orders)), 5))\n",
    "print(len(all_possible_combinations))\n",
    "all_combinations_diff = []\n",
    "for comb in all_possible_combinations:\n",
    "    all_repet = 0\n",
    "    for i in comb:\n",
    "        for j in comb:\n",
    "            if j>i:\n",
    "                all_repet += repetitions[i,j]\n",
    "    all_combinations_diff.append(all_repet)"
   ]
  },
  {
   "cell_type": "code",
   "execution_count": 49,
   "id": "7e6550eb-2b02-44b2-a3e2-718a62be2306",
   "metadata": {},
   "outputs": [
    {
     "name": "stdout",
     "output_type": "stream",
     "text": [
      "23.0\n",
      "24630\n",
      "(2, 8, 11, 13, 20)\n",
      "2\n",
      "(('tomato',), ('onion', 'onion'), ('onion', 'onion', 'onion'), ('tomato', 'tomato', 'tomato'), ('onion', 'tomato'), ('onion', 'tomato', 'tomato'))\n",
      "8\n",
      "(('tomato',), ('onion', 'onion', 'onion'), ('tomato', 'tomato', 'tomato'), ('onion', 'onion', 'tomato'), ('onion', 'tomato'), ('tomato', 'tomato'))\n",
      "11\n",
      "(('tomato',), ('onion', 'onion', 'onion'), ('onion', 'onion', 'tomato'), ('onion', 'tomato'), ('onion', 'tomato', 'tomato'), ('tomato', 'tomato'))\n",
      "13\n",
      "(('onion', 'onion'), ('onion', 'onion', 'onion'), ('tomato', 'tomato', 'tomato'), ('onion', 'onion', 'tomato'), ('onion', 'tomato'), ('onion',))\n",
      "20\n",
      "(('onion', 'onion'), ('tomato', 'tomato', 'tomato'), ('onion', 'onion', 'tomato'), ('onion', 'tomato', 'tomato'), ('tomato', 'tomato'), ('onion',))\n"
     ]
    }
   ],
   "source": [
    "print(max(all_combinations_diff))\n",
    "max_difference = np.where(all_combinations_repet == max(all_combinations_repet))[0]\n",
    "selected_combination_index = max_difference[int(len(max_difference)/2)]\n",
    "print(selected_combination_index)\n",
    "selected_combination = list(all_possible_combinations)[selected_combination_index]\n",
    "print(selected_combination)\n",
    "selected_recipes = []\n",
    "for index in selected_combination:\n",
    "    print(index)\n",
    "    selected_recipes.append(selected_orders[index])\n",
    "    print(selected_orders[index])"
   ]
  },
  {
   "cell_type": "code",
   "execution_count": 50,
   "id": "fd987868-c648-4f19-87a3-d0a50a9d7d3d",
   "metadata": {},
   "outputs": [
    {
     "name": "stdout",
     "output_type": "stream",
     "text": [
      "[{'ingredients': ['tomato']}, {'ingredients': ['onion', 'onion']}, {'ingredients': ['onion', 'onion', 'onion']}, {'ingredients': ['tomato', 'tomato', 'tomato']}, {'ingredients': ['onion', 'tomato']}, {'ingredients': ['onion', 'tomato', 'tomato']}]\n",
      "[{'ingredients': ['tomato']}, {'ingredients': ['onion', 'onion', 'onion']}, {'ingredients': ['tomato', 'tomato', 'tomato']}, {'ingredients': ['onion', 'onion', 'tomato']}, {'ingredients': ['onion', 'tomato']}, {'ingredients': ['tomato', 'tomato']}]\n",
      "[{'ingredients': ['tomato']}, {'ingredients': ['onion', 'onion', 'onion']}, {'ingredients': ['onion', 'onion', 'tomato']}, {'ingredients': ['onion', 'tomato']}, {'ingredients': ['onion', 'tomato', 'tomato']}, {'ingredients': ['tomato', 'tomato']}]\n",
      "[{'ingredients': ['onion', 'onion']}, {'ingredients': ['onion', 'onion', 'onion']}, {'ingredients': ['tomato', 'tomato', 'tomato']}, {'ingredients': ['onion', 'onion', 'tomato']}, {'ingredients': ['onion', 'tomato']}, {'ingredients': ['onion']}]\n",
      "[{'ingredients': ['onion', 'onion']}, {'ingredients': ['tomato', 'tomato', 'tomato']}, {'ingredients': ['onion', 'onion', 'tomato']}, {'ingredients': ['onion', 'tomato', 'tomato']}, {'ingredients': ['tomato', 'tomato']}, {'ingredients': ['onion']}]\n"
     ]
    }
   ],
   "source": [
    "for order in selected_recipes :\n",
    "    print([{\"ingredients\" : list(ingredients)\n",
    "           } for ingredients in order])"
   ]
  }
 ],
 "metadata": {
  "kernelspec": {
   "display_name": "Python 3 (ipykernel)",
   "language": "python",
   "name": "python3"
  },
  "language_info": {
   "codemirror_mode": {
    "name": "ipython",
    "version": 3
   },
   "file_extension": ".py",
   "mimetype": "text/x-python",
   "name": "python",
   "nbconvert_exporter": "python",
   "pygments_lexer": "ipython3",
   "version": "3.9.2"
  }
 },
 "nbformat": 4,
 "nbformat_minor": 5
}
